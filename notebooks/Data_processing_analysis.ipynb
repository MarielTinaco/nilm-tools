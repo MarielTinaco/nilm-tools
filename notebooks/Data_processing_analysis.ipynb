{
 "cells": [
  {
   "cell_type": "code",
   "execution_count": null,
   "metadata": {},
   "outputs": [],
   "source": [
    "import sys, os\n",
    "\n",
    "import random\n",
    "import torch\n",
    "import statistics as stat\n",
    "import pandas as pd\n",
    "import numpy as np\n",
    "import matplotlib.pyplot as plt\n",
    "%matplotlib inline\n",
    "\n",
    "import nilmtk\n",
    "\n",
    "sys.path.append(os.path.dirname(os.getcwd()))"
   ]
  },
  {
   "cell_type": "code",
   "execution_count": null,
   "metadata": {},
   "outputs": [],
   "source": [
    "import src.functions as F\n",
    "from src.enumerations import *\n",
    "from src.objs import DatasetProfile, ProfileHandler, NormalizationHandler\n",
    "from src.utils import paths_manager as pathsman\n",
    "from src.stats.Statistical_analysis import extract_states, state_plot"
   ]
  },
  {
   "cell_type": "code",
   "execution_count": null,
   "metadata": {},
   "outputs": [],
   "source": [
    "## Variable declaration for dataset\n",
    "BUILDING = 1\n",
    "START_TIME = \"2015-01-01\"\n",
    "# END_TIME = \"2015-01-15\"\n",
    "END_TIME = \"2015-03-31\"\n",
    "\n",
    "FRIDGE_FREEZER = \"fridge freezer\"\n",
    "KETTLE = \"kettle\"\n",
    "DISHWASHER = \"dish washer\"\n",
    "MICROWAVE = \"microwave\"\n",
    "WASHER_DRYER = \"washer dryer\"\n",
    "\n",
    "applist = [FRIDGE_FREEZER, WASHER_DRYER, KETTLE, DISHWASHER, MICROWAVE]\n"
   ]
  },
  {
   "cell_type": "code",
   "execution_count": null,
   "metadata": {},
   "outputs": [],
   "source": [
    "## Dataset initialization\n",
    "dataset = nilmtk.DataSet(pathsman.UKDALE_H5_PATH)\n",
    "dataset.set_window(start=START_TIME, end=END_TIME)"
   ]
  },
  {
   "cell_type": "code",
   "execution_count": null,
   "metadata": {},
   "outputs": [],
   "source": [
    "def quantile_filter_2(sequence_length, data, p=50):\n",
    "    new_mains = F.scan_sequences(data=data, mode=\"odd_window\", seq_len=sequence_length)\n",
    "    new_mains = np.percentile(new_mains, p, axis=1, interpolation=\"nearest\")\n",
    "    return new_mains"
   ]
  },
  {
   "cell_type": "code",
   "execution_count": null,
   "metadata": {},
   "outputs": [],
   "source": [
    "power_elec = dataset.buildings[BUILDING].elec"
   ]
  },
  {
   "cell_type": "code",
   "execution_count": null,
   "metadata": {},
   "outputs": [],
   "source": [
    "print(f\"Activation stats in the period [{START_TIME}, {END_TIME}]\")\n",
    "row = []\n",
    "\n",
    "for app in applist:\n",
    "    col = []\n",
    "    app_name = app.upper()\n",
    "    activations = power_elec[app].get_activations()\n",
    "    total_num = len(activations)\n",
    "    average_length = stat.mean(map(len, activations))\n",
    "    max_length = max(map(len, activations))\n",
    "    min_length = min(map(len, activations))\n",
    "    col.append(total_num)\n",
    "    col.append(average_length)\n",
    "    col.append(max_length)\n",
    "    col.append(min_length)\n",
    "    row.append(col)\n",
    "\n",
    "pd.DataFrame(row, columns=[\"No. of Activations\", \"Average Length\", \"Max Length\", \"Min Length\"], index=applist)"
   ]
  },
  {
   "cell_type": "code",
   "execution_count": null,
   "metadata": {},
   "outputs": [],
   "source": [
    "info = {\n",
    "        FRIDGE_FREEZER : {\n",
    "                \"window\" : 50,\n",
    "                \"min\" : 0,\n",
    "                \"max\" : 0,\n",
    "                \"on_power_threshold\" : 10,\n",
    "        },\n",
    "        WASHER_DRYER : {               \n",
    "                \"window\" : 50,\n",
    "                \"min\" : 0,\n",
    "                \"max\" : 0,\n",
    "                \"on_power_threshold\" : 10,\n",
    "        },\n",
    "        KETTLE : {\n",
    "                \"window\" : 50,\n",
    "                \"min\" : 0,\n",
    "                \"max\" : 0,\n",
    "                \"on_power_threshold\" : 10,\n",
    "        },\n",
    "        DISHWASHER : {\n",
    "                \"window\" : 10,\n",
    "                \"min\" : 0,\n",
    "                \"max\" : 0,\n",
    "                \"on_power_threshold\" : 10,\n",
    "        },\n",
    "        MICROWAVE : {\n",
    "                \"window\" : 50,\n",
    "                \"min\" : 0,\n",
    "                \"max\" : 0,\n",
    "                \"on_power_threshold\" : 10,\n",
    "        }\n",
    "}"
   ]
  },
  {
   "cell_type": "code",
   "execution_count": null,
   "metadata": {},
   "outputs": [],
   "source": [
    "# for app in applist:\n",
    "#         power_elec[app].power_series_all_data().plot()"
   ]
  },
  {
   "cell_type": "code",
   "execution_count": null,
   "metadata": {},
   "outputs": [],
   "source": [
    "FULL_NUM_SAMPLES = 1200000\n",
    "\n",
    "ACTIVATION_EXTENSION_MAPPING = {\n",
    "        FRIDGE_FREEZER : {\n",
    "                \"mode\" : \"rightpadder\",\n",
    "                \"padding_mode\" : 0,\n",
    "        },\n",
    "        WASHER_DRYER : {\n",
    "                \"mode\" : \"rightpadder\",\n",
    "                \"padding_mode\" : 0,\n",
    "        },\n",
    "        KETTLE : {\n",
    "                \"mode\" : \"rightpadder\",\n",
    "                \"padding_mode\" : 0,\n",
    "        },\n",
    "        DISHWASHER : {\n",
    "                \"mode\" : \"rightpadder\",\n",
    "                \"padding_mode\" : 0,\n",
    "        },\n",
    "        MICROWAVE : {\n",
    "                \"mode\" : \"rightpadder\",\n",
    "                \"padding_mode\" : 0,\n",
    "        },\n",
    "}"
   ]
  },
  {
   "cell_type": "code",
   "execution_count": null,
   "metadata": {},
   "outputs": [],
   "source": [
    "unfiltered_power = []\n",
    "filtered_power = []\n",
    "states = []\n",
    "targets = []\n",
    "\n",
    "normalizer = NormalizationHandler(mode=\"minmax\", min_val=0, max_val=3300)\n",
    "\n",
    "for app in applist:\n",
    "        elec = power_elec[app]\n",
    "        mode = ACTIVATION_EXTENSION_MAPPING[app][\"mode\"]\n",
    "        padding_mode = ACTIVATION_EXTENSION_MAPPING[app][\"padding_mode\"]\n",
    "\n",
    "        extended_activations = F.extend_activations(elec, mode=mode, num_full_samples=FULL_NUM_SAMPLES, padding_mode=padding_mode)\n",
    "        unfiltered_power.append(extended_activations)\n",
    "        filtered_data = quantile_filter_2(info[app][\"window\"], extended_activations, p=50)\n",
    "        filtered_power.append(filtered_data)\n",
    "        info[app]['min'] = 0.0\n",
    "        info[app]['max'] = float(filtered_data.max())\n",
    "        info[app]['on_power_threshold'] = elec.on_power_threshold()\n",
    "        binarized_data = F.binarization(filtered_data, mode=\"threshold\", threshold=power_elec[app].on_power_threshold())\n",
    "        states.append(binarized_data)\n",
    "        normalizer.select_mode(mode=\"minmax\", min_val=info[app]['min'], max_val=info[app]['max'])\n",
    "        normalized_data = normalizer.normalize(filtered_data)\n",
    "        targets.append(normalized_data)"
   ]
  },
  {
   "cell_type": "code",
   "execution_count": null,
   "metadata": {},
   "outputs": [],
   "source": [
    "states = np.stack(states).T\n",
    "targets = np.stack(targets).T"
   ]
  },
  {
   "cell_type": "code",
   "execution_count": null,
   "metadata": {},
   "outputs": [],
   "source": [
    "mains = np.sum(unfiltered_power, axis=0)"
   ]
  },
  {
   "cell_type": "code",
   "execution_count": null,
   "metadata": {},
   "outputs": [],
   "source": [
    "mains_denoise = quantile_filter_2(10, mains, 50)\n",
    "mains = mains-np.percentile(mains, 1)\n",
    "mains = np.where(mains < mains_denoise, mains_denoise, mains)\n",
    "mains = quantile_filter_2(10, mains, 50)"
   ]
  },
  {
   "cell_type": "code",
   "execution_count": null,
   "metadata": {},
   "outputs": [],
   "source": [
    "normalizer.select_mode(mode=\"minmax\", min_val=mains_denoise.min(), max_val=mains_denoise.max())\n",
    "norm_mains_denoise = normalizer.normalize(mains_denoise)\n",
    "\n",
    "normalizer.select_mode(mode=\"minmax\", min_val=mains.min(), max_val=mains.max())\n",
    "norm_mains = normalizer.normalize(mains)"
   ]
  },
  {
   "cell_type": "code",
   "execution_count": null,
   "metadata": {},
   "outputs": [],
   "source": [
    "class Dataset(torch.utils.data.Dataset):\n",
    "    def __init__(self,  inputs, targets, states,  seq_len=99):\n",
    "        self.inputs = inputs\n",
    "        self.targets = targets\n",
    "        self.states  = states\n",
    "        seq_len = seq_len  if seq_len% 2==0 else seq_len+1\n",
    "        self.seq_len = seq_len\n",
    "        self.len = self.inputs.shape[0] - self.seq_len\n",
    "        self.indices = np.arange(self.inputs.shape[0])\n",
    "\n",
    "    def __len__(self):\n",
    "        'Denotes the total number of samples'\n",
    "        return self.len\n",
    "    \n",
    "    def get_sample(self, index):\n",
    "        indices = self.indices[index : index + self.seq_len]\n",
    "        inds_inputs=sorted(indices[:self.seq_len])\n",
    "        inds_targs=sorted(indices[self.seq_len-1:self.seq_len])\n",
    "\n",
    "        return self.inputs[inds_inputs], self.targets[inds_targs], self.states[inds_targs]\n",
    "\n",
    "    def __getitem__(self, index):\n",
    "        inputs, target, state = self.get_sample(index)\n",
    "        return torch.tensor(inputs).unsqueeze(-1).float(), torch.tensor(target).float().squeeze(), torch.tensor(state).long().squeeze()"
   ]
  },
  {
   "cell_type": "code",
   "execution_count": null,
   "metadata": {},
   "outputs": [],
   "source": [
    "dataset = Dataset(inputs=norm_mains_denoise, targets=targets, states=states, seq_len=100)"
   ]
  },
  {
   "cell_type": "code",
   "execution_count": null,
   "metadata": {},
   "outputs": [],
   "source": [
    "batch_size = 8\n",
    "num_workers = 1\n",
    "\n",
    "train_dataloader = torch.utils.data.DataLoader(dataset, batch_size=batch_size, shuffle=False, pin_memory=True, num_workers=num_workers)"
   ]
  },
  {
   "cell_type": "code",
   "execution_count": null,
   "metadata": {},
   "outputs": [],
   "source": [
    "outputs = []"
   ]
  },
  {
   "cell_type": "code",
   "execution_count": null,
   "metadata": {},
   "outputs": [],
   "source": [
    "for item in train_dataloader:\n",
    "        logs = {\"power\": item[1], \"state\": item[2]}\n",
    "        outputs.append(logs)"
   ]
  },
  {
   "cell_type": "code",
   "execution_count": null,
   "metadata": {},
   "outputs": [],
   "source": [
    "power = torch.cat([x['power'] for x in outputs], 0).cpu().numpy()\n",
    "state = torch.cat([x['state'] for x in outputs], 0).cpu().numpy().astype(np.int32)\n",
    "\n",
    "for idx, app in enumerate(applist):\n",
    "        power[:,idx] = (power[:, idx] * (info[app][\"max\"] - info[app][\"min\"])) + info[app]['min']"
   ]
  },
  {
   "cell_type": "code",
   "execution_count": null,
   "metadata": {},
   "outputs": [],
   "source": []
  }
 ],
 "metadata": {
  "kernelspec": {
   "display_name": "venv",
   "language": "python",
   "name": "python3"
  },
  "language_info": {
   "codemirror_mode": {
    "name": "ipython",
    "version": 3
   },
   "file_extension": ".py",
   "mimetype": "text/x-python",
   "name": "python",
   "nbconvert_exporter": "python",
   "pygments_lexer": "ipython3",
   "version": "3.8.10"
  },
  "orig_nbformat": 4
 },
 "nbformat": 4,
 "nbformat_minor": 2
}
