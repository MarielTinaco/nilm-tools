{
 "cells": [
  {
   "cell_type": "code",
   "execution_count": 1,
   "metadata": {},
   "outputs": [
    {
     "name": "stdout",
     "output_type": "stream",
     "text": [
      "PREPROCESS DATA FOR test\n",
      "2014-06-10 00:00:00.500000+01:00    118.260002\n",
      "2014-06-10 00:00:01.500000+01:00    119.550003\n",
      "2014-06-10 00:00:02.500000+01:00    120.000000\n",
      "2014-06-10 00:00:03.500000+01:00    119.870003\n",
      "2014-06-10 00:00:04.500000+01:00    119.650002\n",
      "                                       ...    \n",
      "2014-10-09 23:59:55.100000+01:00    231.360001\n",
      "2014-10-09 23:59:56.100000+01:00    215.320007\n",
      "2014-10-09 23:59:57.100000+01:00    190.270004\n",
      "2014-10-09 23:59:58.100000+01:00    106.029999\n",
      "2014-10-09 23:59:59.100000+01:00    106.180000\n",
      "Name: (power, active), Length: 10512349, dtype: float32\n",
      "PREPROCESS DATA FOR validation\n",
      "2014-06-10 00:00:00.500000+01:00    118.260002\n",
      "2014-06-10 00:00:01.500000+01:00    119.550003\n",
      "2014-06-10 00:00:02.500000+01:00    120.000000\n",
      "2014-06-10 00:00:03.500000+01:00    119.870003\n",
      "2014-06-10 00:00:04.500000+01:00    119.650002\n",
      "                                       ...    \n",
      "2014-10-09 23:59:55.100000+01:00    231.360001\n",
      "2014-10-09 23:59:56.100000+01:00    215.320007\n",
      "2014-10-09 23:59:57.100000+01:00    190.270004\n",
      "2014-10-09 23:59:58.100000+01:00    106.029999\n",
      "2014-10-09 23:59:59.100000+01:00    106.180000\n",
      "Name: (power, active), Length: 10512349, dtype: float32\n",
      "PREPROCESS DATA FOR training\n",
      "2014-06-10 00:00:00.500000+01:00    118.260002\n",
      "2014-06-10 00:00:01.500000+01:00    119.550003\n",
      "2014-06-10 00:00:02.500000+01:00    120.000000\n",
      "2014-06-10 00:00:03.500000+01:00    119.870003\n",
      "2014-06-10 00:00:04.500000+01:00    119.650002\n",
      "                                       ...    \n",
      "2014-10-09 23:59:55.100000+01:00    231.360001\n",
      "2014-10-09 23:59:56.100000+01:00    215.320007\n",
      "2014-10-09 23:59:57.100000+01:00    190.270004\n",
      "2014-10-09 23:59:58.100000+01:00    106.029999\n",
      "2014-10-09 23:59:59.100000+01:00    106.180000\n",
      "Name: (power, active), Length: 10512349, dtype: float32\n"
     ]
    }
   ],
   "source": [
    "import sys\n",
    "import pandas as pd\n",
    "import numpy as np\n",
    "import nilmtk\n",
    "\n",
    "sys.path.append('../')\n",
    "from src.utils import paths_manager as pathsman\n",
    "from src.unetnilm.data.load_data import pre_proc_ukdale\n",
    "\n",
    "window = (\"2014-06-10\", \"2014-10-10\")\n",
    "data_type = (\"training\")\n",
    "save_path = ('data')\n",
    "\n",
    "for data_type in [\"test\", \"validation\", \"training\"]:\n",
    "    print(f\"PREPROCESS DATA FOR {data_type}\")\n",
    "    pre_proc_ukdale(data_type, window)"
   ]
  },
  {
   "cell_type": "code",
   "execution_count": 2,
   "metadata": {},
   "outputs": [
    {
     "name": "stderr",
     "output_type": "stream",
     "text": [
      "c:\\Users\\LPerucho\\AppData\\Local\\anaconda3\\envs\\nilmtk2-env\\lib\\site-packages\\tqdm\\auto.py:21: TqdmWarning: IProgress not found. Please update jupyter and ipywidgets. See https://ipywidgets.readthedocs.io/en/stable/user_install.html\n",
      "  from .autonotebook import tqdm as notebook_tqdm\n"
     ]
    }
   ],
   "source": [
    "import numpy as np\n",
    "import torch\n",
    "\n",
    "def spilit_refit_test(data):\n",
    "    split_1 = int(0.60 * len(data))\n",
    "    split_2 = int(0.85 * len(data))\n",
    "    train = data[:split_1]\n",
    "    validation = data[split_1:split_2]\n",
    "    test = data[split_2:]\n",
    "    return train, validation, test\n",
    "\n",
    "def load_data(data_path, data_type=\"test\", sample=None, data=\"ukdale\", denoise=False):\n",
    "    print(f\"Load {data_type} data\")\n",
    "    if data==\"refit\":\n",
    "        x = np.load(data_path+f\"/{data}/{data_type}/inputs.npy\")\n",
    "        y = np.load(data_path+f\"/{data}/{data_type}/targets.npy\")\n",
    "        z = np.load(data_path+f\"/{data}/{data_type}/states.npy\")\n",
    "    else:\n",
    "        if denoise:\n",
    "            x = np.load(data_path+f\"/{data}/{data_type}/denoise_inputs.npy\")\n",
    "        else:\n",
    "            x = np.load(data_path+f\"/{data}/{data_type}/noise_inputs.npy\")\n",
    "        y = np.load(data_path+f\"/{data}/{data_type}/targets.npy\")\n",
    "        z = np.load(data_path+f\"/{data}/{data_type}/states.npy\")\n",
    "    if sample is None:\n",
    "        return x, y, z\n",
    "    else:\n",
    "        return x[:sample], y[:sample], z[:sample]\n",
    "\n",
    "\n",
    "class Dataset(torch.utils.data.Dataset):\n",
    "    def __init__(self,  inputs, targets, states,  seq_len=99):\n",
    "        self.inputs = inputs\n",
    "        self.targets = targets\n",
    "        self.states  = states\n",
    "        seq_len = seq_len  if seq_len% 2==0 else seq_len+1\n",
    "        self.seq_len = seq_len\n",
    "        self.len = self.inputs.shape[0] - self.seq_len\n",
    "        self.indices = np.arange(self.inputs.shape[0])\n",
    "    def __len__(self):\n",
    "        'Denotes the total number of samples'\n",
    "        return self.len\n",
    "    \n",
    "    def get_sample(self, index):\n",
    "        indices = self.indices[index : index + self.seq_len]\n",
    "        inds_inputs=sorted(indices[:self.seq_len])\n",
    "        inds_targs=sorted(indices[self.seq_len-1:self.seq_len])\n",
    "\n",
    "        return self.inputs[inds_inputs], self.targets[inds_targs], self.states[inds_targs]\n",
    "\n",
    "    def __getitem__(self, index):\n",
    "        inputs, target, state = self.get_sample(index)\n",
    "        return torch.tensor(inputs).unsqueeze(-1).float(), torch.tensor(target).float().squeeze(), torch.tensor(state).long().squeeze()\n",
    "    \n",
    "\n",
    "class Seq2PointDataset(torch.utils.data.Dataset):\n",
    "    def __init__(self,  inputs, targets, states,  seq_len=99):\n",
    "        self.targets = targets\n",
    "        self.states  = states\n",
    "        seq_len = seq_len-1  if seq_len% 2==0 else seq_len\n",
    "        units_to_pad = seq_len // 2\n",
    "        new_mains = np.pad(inputs ,(units_to_pad,units_to_pad),'constant',constant_values=(0,0))\n",
    "        self.inputs  = np.array([new_mains[i:i + seq_len ] for i in range(len(new_mains) - seq_len  + 1)])\n",
    "        self.len = self.inputs.shape[0] \n",
    "        self.indices = np.arange(self.inputs.shape[0])\n",
    "    def __len__(self):\n",
    "        'Denotes the total number of samples'\n",
    "        return self.len\n",
    "    \n",
    "    def get_sample(self, index):\n",
    "        return self.inputs[index], self.targets[index], self.states[index]\n",
    "\n",
    "    def __getitem__(self, index):\n",
    "        inputs, target, state = self.get_sample(index)\n",
    "        return torch.tensor(inputs).unsqueeze(-1).float(), torch.tensor(target).float().squeeze(), torch.tensor(state).long().squeeze()"
   ]
  },
  {
   "cell_type": "code",
   "execution_count": 3,
   "metadata": {},
   "outputs": [
    {
     "name": "stdout",
     "output_type": "stream",
     "text": [
      "Load test data\n"
     ]
    },
    {
     "data": {
      "text/plain": [
       "(10512349,)"
      ]
     },
     "execution_count": 3,
     "metadata": {},
     "output_type": "execute_result"
    }
   ],
   "source": [
    "load_data('data', 'test', None, 'ukdale', False)[0].shape"
   ]
  },
  {
   "cell_type": "code",
   "execution_count": 4,
   "metadata": {},
   "outputs": [
    {
     "name": "stdout",
     "output_type": "stream",
     "text": [
      "Load test data\n"
     ]
    }
   ],
   "source": [
    "dset = Dataset(*load_data('data', 'test', None, 'ukdale', False))"
   ]
  },
  {
   "cell_type": "code",
   "execution_count": 5,
   "metadata": {},
   "outputs": [
    {
     "data": {
      "text/plain": [
       "(tensor([[-0.6049],\n",
       "         [-0.6049],\n",
       "         [-0.6049],\n",
       "         [-0.6049],\n",
       "         [-0.6049],\n",
       "         [-0.6049],\n",
       "         [-0.6049],\n",
       "         [-0.6049],\n",
       "         [-0.6049],\n",
       "         [-0.6049],\n",
       "         [-0.6049],\n",
       "         [-0.6049],\n",
       "         [-0.6049],\n",
       "         [-0.6049],\n",
       "         [-0.6049],\n",
       "         [-0.6049],\n",
       "         [-0.6049],\n",
       "         [-0.6049],\n",
       "         [-0.6048],\n",
       "         [-0.6048],\n",
       "         [-0.6048],\n",
       "         [-0.6046],\n",
       "         [-0.6046],\n",
       "         [-0.6046],\n",
       "         [-0.6046],\n",
       "         [-0.6046],\n",
       "         [-0.6047],\n",
       "         [-0.6047],\n",
       "         [-0.6047],\n",
       "         [-0.6047],\n",
       "         [-0.6047],\n",
       "         [-0.6047],\n",
       "         [-0.6047],\n",
       "         [-0.6047],\n",
       "         [-0.6043],\n",
       "         [-0.6043],\n",
       "         [-0.6043],\n",
       "         [-0.6043],\n",
       "         [-0.6047],\n",
       "         [-0.6047],\n",
       "         [-0.6047],\n",
       "         [-0.6047],\n",
       "         [-0.6047],\n",
       "         [-0.6047],\n",
       "         [-0.6047],\n",
       "         [-0.6047],\n",
       "         [-0.6047],\n",
       "         [-0.6047],\n",
       "         [-0.6047],\n",
       "         [-0.6047],\n",
       "         [-0.6047],\n",
       "         [-0.6048],\n",
       "         [-0.6048],\n",
       "         [-0.6048],\n",
       "         [-0.6048],\n",
       "         [-0.6048],\n",
       "         [-0.6048],\n",
       "         [-0.6047],\n",
       "         [-0.6047],\n",
       "         [-0.6047],\n",
       "         [-0.6046],\n",
       "         [-0.6046],\n",
       "         [-0.6046],\n",
       "         [-0.6046],\n",
       "         [-0.6046],\n",
       "         [-0.6046],\n",
       "         [-0.6049],\n",
       "         [-0.6049],\n",
       "         [-0.6056],\n",
       "         [-0.6056],\n",
       "         [-0.6056],\n",
       "         [-0.6056],\n",
       "         [-0.6056],\n",
       "         [-0.6056],\n",
       "         [-0.6051],\n",
       "         [-0.6051],\n",
       "         [-0.6051],\n",
       "         [-0.6051],\n",
       "         [-0.6050],\n",
       "         [-0.6048],\n",
       "         [-0.6047],\n",
       "         [-0.6047],\n",
       "         [-0.6047],\n",
       "         [-0.6047],\n",
       "         [-0.6047],\n",
       "         [-0.6044],\n",
       "         [-0.6044],\n",
       "         [-0.6047],\n",
       "         [-0.6047],\n",
       "         [-0.6046],\n",
       "         [-0.6046],\n",
       "         [-0.6046],\n",
       "         [-0.6046],\n",
       "         [-0.6046],\n",
       "         [-0.6046],\n",
       "         [-0.6046],\n",
       "         [-0.6046],\n",
       "         [-0.6046],\n",
       "         [-0.6046],\n",
       "         [-0.6046]]),\n",
       " tensor(-0.7000),\n",
       " tensor(0))"
      ]
     },
     "execution_count": 5,
     "metadata": {},
     "output_type": "execute_result"
    }
   ],
   "source": [
    "dset[3]"
   ]
  },
  {
   "cell_type": "code",
   "execution_count": null,
   "metadata": {},
   "outputs": [],
   "source": []
  }
 ],
 "metadata": {
  "kernelspec": {
   "display_name": "nilmtk2-env",
   "language": "python",
   "name": "python3"
  },
  "language_info": {
   "codemirror_mode": {
    "name": "ipython",
    "version": 3
   },
   "file_extension": ".py",
   "mimetype": "text/x-python",
   "name": "python",
   "nbconvert_exporter": "python",
   "pygments_lexer": "ipython3",
   "version": "3.8.18"
  },
  "orig_nbformat": 4
 },
 "nbformat": 4,
 "nbformat_minor": 2
}
