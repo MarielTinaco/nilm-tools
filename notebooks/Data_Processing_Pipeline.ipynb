{
 "cells": [
  {
   "cell_type": "code",
   "execution_count": 3,
   "metadata": {},
   "outputs": [],
   "source": [
    "import sys, os\n",
    "\n",
    "import random\n",
    "import statistics as stat\n",
    "import pandas as pd\n",
    "import numpy as np\n",
    "import matplotlib.pyplot as plt\n",
    "%matplotlib inline\n",
    "\n",
    "import nilmtk\n",
    "\n",
    "sys.path.append(os.path.dirname(os.getcwd()))"
   ]
  },
  {
   "cell_type": "code",
   "execution_count": 4,
   "metadata": {},
   "outputs": [],
   "source": [
    "import adinilm.functions as F\n",
    "from adinilm.enumerations import *\n",
    "from adinilm.objs import DatasetProfile, ProfileHandler, NormalizationHandler\n",
    "from adinilm.utils import paths_manager as pathsman\n",
    "from adinilm.io import NilmtkSubsectionExtractor\n"
   ]
  },
  {
   "cell_type": "code",
   "execution_count": 5,
   "metadata": {},
   "outputs": [],
   "source": [
    "## Variable declaration for dataset\n",
    "UKDALE_BUILDING = 1\n",
    "UKDALE_START_TIME = \"2015-01-01\"\n",
    "# END_TIME = \"2015-01-15\"\n",
    "UKDALE_END_TIME = \"2015-03-31\"\n",
    "\n",
    "FRIDGE_FREEZER = \"fridge\"\n",
    "KETTLE = \"kettle\"\n",
    "DISHWASHER = \"dish washer\"\n",
    "MICROWAVE = \"microwave\"\n",
    "WASHER_DRYER = \"washer dryer\"\n",
    "\n",
    "applist = [FRIDGE_FREEZER, WASHER_DRYER, KETTLE, DISHWASHER, MICROWAVE]"
   ]
  },
  {
   "cell_type": "code",
   "execution_count": 14,
   "metadata": {},
   "outputs": [
    {
     "name": "stderr",
     "output_type": "stream",
     "text": [
      "c:\\users\\mtinaco\\dev\\solutions\\cos-algo-nilm\\nilmtk\\nilmtk\\elecmeter.py:431: UserWarning: The provided sample_period (1) is shorter than the meter's sample_period (6)\n",
      "  warn(\"The provided sample_period ({}) is shorter than the meter's sample_period ({})\".format(\n",
      "c:\\users\\mtinaco\\dev\\solutions\\cos-algo-nilm\\nilmtk\\nilmtk\\elecmeter.py:431: UserWarning: The provided sample_period (1) is shorter than the meter's sample_period (6)\n",
      "  warn(\"The provided sample_period ({}) is shorter than the meter's sample_period ({})\".format(\n",
      "c:\\users\\mtinaco\\dev\\solutions\\cos-algo-nilm\\nilmtk\\nilmtk\\elecmeter.py:431: UserWarning: The provided sample_period (1) is shorter than the meter's sample_period (6)\n",
      "  warn(\"The provided sample_period ({}) is shorter than the meter's sample_period ({})\".format(\n",
      "c:\\users\\mtinaco\\dev\\solutions\\cos-algo-nilm\\nilmtk\\nilmtk\\elecmeter.py:431: UserWarning: The provided sample_period (1) is shorter than the meter's sample_period (6)\n",
      "  warn(\"The provided sample_period ({}) is shorter than the meter's sample_period ({})\".format(\n",
      "c:\\users\\mtinaco\\dev\\solutions\\cos-algo-nilm\\nilmtk\\nilmtk\\elecmeter.py:431: UserWarning: The provided sample_period (1) is shorter than the meter's sample_period (6)\n",
      "  warn(\"The provided sample_period ({}) is shorter than the meter's sample_period ({})\".format(\n",
      "c:\\users\\mtinaco\\dev\\solutions\\cos-algo-nilm\\nilmtk\\nilmtk\\utils.py:509: UserWarning: Found duplicate index. Keeping first value\n",
      "  warnings.warn(\"Found duplicate index. Keeping first value\")\n"
     ]
    }
   ],
   "source": [
    "ext = NilmtkSubsectionExtractor(dataset_path=pathsman.UKDALE_H5_PATH,\n",
    "                                params={\"start_time\" : UKDALE_START_TIME,\n",
    "                                        \"end_time\" : UKDALE_END_TIME,\n",
    "                                        \"building\" : UKDALE_BUILDING,\n",
    "                                        \"appliances\" : applist,\n",
    "                                        \"sample_period\" : 1,\n",
    "                                        \"resample\" : True})"
   ]
  },
  {
   "cell_type": "code",
   "execution_count": 15,
   "metadata": {},
   "outputs": [
    {
     "data": {
      "text/html": [
       "<div>\n",
       "<style scoped>\n",
       "    .dataframe tbody tr th:only-of-type {\n",
       "        vertical-align: middle;\n",
       "    }\n",
       "\n",
       "    .dataframe tbody tr th {\n",
       "        vertical-align: top;\n",
       "    }\n",
       "\n",
       "    .dataframe thead th {\n",
       "        text-align: right;\n",
       "    }\n",
       "</style>\n",
       "<table border=\"1\" class=\"dataframe\">\n",
       "  <thead>\n",
       "    <tr style=\"text-align: right;\">\n",
       "      <th></th>\n",
       "      <th>power_series</th>\n",
       "      <th>on_power_threshold</th>\n",
       "    </tr>\n",
       "  </thead>\n",
       "  <tbody>\n",
       "    <tr>\n",
       "      <th>fridge</th>\n",
       "      <td>2015-01-01 00:00:04+00:00    0.0\n",
       "2015-01-01 00...</td>\n",
       "      <td>50.0</td>\n",
       "    </tr>\n",
       "    <tr>\n",
       "      <th>washer dryer</th>\n",
       "      <td>2015-01-01 00:00:01+00:00    0.0\n",
       "2015-01-01 00...</td>\n",
       "      <td>20.0</td>\n",
       "    </tr>\n",
       "    <tr>\n",
       "      <th>kettle</th>\n",
       "      <td>2015-01-01 00:00:04+00:00    1.0\n",
       "2015-01-01 00...</td>\n",
       "      <td>10.0</td>\n",
       "    </tr>\n",
       "    <tr>\n",
       "      <th>dish washer</th>\n",
       "      <td>2015-01-01 00:00:05+00:00    1.0\n",
       "2015-01-01 00...</td>\n",
       "      <td>10.0</td>\n",
       "    </tr>\n",
       "    <tr>\n",
       "      <th>microwave</th>\n",
       "      <td>2015-01-01 00:00:02+00:00    1.0\n",
       "2015-01-01 00...</td>\n",
       "      <td>200.0</td>\n",
       "    </tr>\n",
       "  </tbody>\n",
       "</table>\n",
       "</div>"
      ],
      "text/plain": [
       "                                                   power_series  \\\n",
       "fridge        2015-01-01 00:00:04+00:00    0.0\n",
       "2015-01-01 00...   \n",
       "washer dryer  2015-01-01 00:00:01+00:00    0.0\n",
       "2015-01-01 00...   \n",
       "kettle        2015-01-01 00:00:04+00:00    1.0\n",
       "2015-01-01 00...   \n",
       "dish washer   2015-01-01 00:00:05+00:00    1.0\n",
       "2015-01-01 00...   \n",
       "microwave     2015-01-01 00:00:02+00:00    1.0\n",
       "2015-01-01 00...   \n",
       "\n",
       "              on_power_threshold  \n",
       "fridge                      50.0  \n",
       "washer dryer                20.0  \n",
       "kettle                      10.0  \n",
       "dish washer                 10.0  \n",
       "microwave                  200.0  "
      ]
     },
     "execution_count": 15,
     "metadata": {},
     "output_type": "execute_result"
    }
   ],
   "source": [
    "ext.df.head()"
   ]
  },
  {
   "cell_type": "code",
   "execution_count": 16,
   "metadata": {},
   "outputs": [
    {
     "data": {
      "text/plain": [
       "[<matplotlib.lines.Line2D at 0x23d26062100>]"
      ]
     },
     "execution_count": 16,
     "metadata": {},
     "output_type": "execute_result"
    },
    {
     "data": {
      "image/png": "[encoded data removed]",
      "text/plain": [
       "<Figure size 640x480 with 1 Axes>"
      ]
     },
     "metadata": {},
     "output_type": "display_data"
    }
   ],
   "source": [
    "plt.plot(ext.df.loc[FRIDGE_FREEZER, \"power_series\"])\n",
    "plt.plot(ext.df.loc[MICROWAVE, \"power_series\"])"
   ]
  },
  {
   "cell_type": "code",
   "execution_count": null,
   "metadata": {},
   "outputs": [],
   "source": []
  },
  {
   "cell_type": "code",
   "execution_count": null,
   "metadata": {},
   "outputs": [],
   "source": []
  }
 ],
 "metadata": {
  "kernelspec": {
   "display_name": "venv",
   "language": "python",
   "name": "python3"
  },
  "language_info": {
   "codemirror_mode": {
    "name": "ipython",
    "version": 3
   },
   "file_extension": ".py",
   "mimetype": "text/x-python",
   "name": "python",
   "nbconvert_exporter": "python",
   "pygments_lexer": "ipython3",
   "version": "3.8.10"
  },
  "orig_nbformat": 4
 },
 "nbformat": 4,
 "nbformat_minor": 2
}
