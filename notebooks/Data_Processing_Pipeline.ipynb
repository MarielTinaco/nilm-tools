{
 "cells": [
  {
   "cell_type": "code",
   "execution_count": 1,
   "metadata": {},
   "outputs": [],
   "source": [
    "import sys, os\n",
    "\n",
    "import random\n",
    "import statistics as stat\n",
    "import pandas as pd\n",
    "import numpy as np\n",
    "import matplotlib.pyplot as plt\n",
    "\n",
    "from copy import copy\n",
    "\n",
    "%matplotlib inline\n",
    "\n",
    "import nilmtk\n",
    "\n",
    "sys.path.append(os.path.dirname(os.getcwd()))"
   ]
  },
  {
   "cell_type": "code",
   "execution_count": 2,
   "metadata": {},
   "outputs": [],
   "source": [
    "import adinilm.functions as F\n",
    "from adinilm.enumerations import *\n",
    "from adinilm.objs import DatasetProfile, ProfileHandler, NormalizationHandler\n",
    "from adinilm.utils import paths_manager as pathsman\n",
    "from adinilm.io import NilmtkSubsectionExtractor\n",
    "from adinilm.io.profile import GenericProfileHandler"
   ]
  },
  {
   "cell_type": "code",
   "execution_count": 3,
   "metadata": {},
   "outputs": [],
   "source": [
    "SAVE_PROFILE = True"
   ]
  },
  {
   "cell_type": "code",
   "execution_count": 4,
   "metadata": {},
   "outputs": [],
   "source": [
    "sections = [\"train\", \"test\", \"val\"]"
   ]
  },
  {
   "cell_type": "code",
   "execution_count": 5,
   "metadata": {},
   "outputs": [],
   "source": [
    "## Variable declaration for dataset\n",
    "TRAIN_UKDALE_BUILDING = 1\n",
    "TRAIN_UKDALE_START_TIME = \"2015-01-01\"\n",
    "TRAIN_UKDALE_END_TIME = \"2015-10-20\"\n",
    "\n",
    "TEST_UKDALE_BUILDING = 1\n",
    "TEST_UKDALE_START_TIME = \"2015-11-01\"\n",
    "TEST_UKDALE_END_TIME = \"2016-04-30\"\n",
    "\n",
    "VAL_UKDALE_BUILDING = 1\n",
    "VAL_UKDALE_START_TIME = \"2016-11-01\"\n",
    "VAL_UKDALE_END_TIME = \"2016-12-31\"\n",
    "\n",
    "FRIDGE_FREEZER = \"fridge\"\n",
    "KETTLE = \"kettle\"\n",
    "DISHWASHER = \"dish washer\"\n",
    "MICROWAVE = \"microwave\"\n",
    "WASHER_DRYER = \"washer dryer\"\n",
    "\n",
    "applist = [FRIDGE_FREEZER, WASHER_DRYER, KETTLE, DISHWASHER, MICROWAVE]"
   ]
  },
  {
   "cell_type": "code",
   "execution_count": 6,
   "metadata": {},
   "outputs": [],
   "source": [
    "info = {\n",
    "        \"subsection\" : {\n",
    "                \"building\" : TRAIN_UKDALE_BUILDING,\n",
    "                \"start_time\" : TRAIN_UKDALE_START_TIME,\n",
    "                \"end_time\": TRAIN_UKDALE_END_TIME\n",
    "        },\n",
    "        \"preprocessing\" : {\n",
    "                \"sampling\" : {\n",
    "                        \"sample_period\" : 6,\n",
    "                        \"resample\" : True\n",
    "                },\n",
    "                \"normalization\" : {\n",
    "                        \"mode\" : \"minmax\",\n",
    "                        \"scope\" : \"local\"\n",
    "                }\n",
    "        },\n",
    "        \"appliances\" : [FRIDGE_FREEZER, WASHER_DRYER, KETTLE, DISHWASHER, MICROWAVE],\n",
    "        \"appliance_data\" : {\n",
    "                FRIDGE_FREEZER : {\n",
    "                        \"window\" : 50,\n",
    "                        \"min\" : 0,\n",
    "                        \"max\" : 0,\n",
    "                        \"on_power_threshold\" : 10,\n",
    "                },\n",
    "                WASHER_DRYER : {               \n",
    "                        \"window\" : 50,\n",
    "                        \"min\" : 0,\n",
    "                        \"max\" : 0,\n",
    "                        \"on_power_threshold\" : 10,\n",
    "                },\n",
    "                KETTLE : {\n",
    "                        \"window\" : 50,\n",
    "                        \"min\" : 0,\n",
    "                        \"max\" : 0,\n",
    "                        \"on_power_threshold\" : 10,\n",
    "                },\n",
    "                DISHWASHER : {\n",
    "                        \"window\" : 10,\n",
    "                        \"min\" : 0,\n",
    "                        \"max\" : 0,\n",
    "                        \"on_power_threshold\" : 10,\n",
    "                },\n",
    "                MICROWAVE : {\n",
    "                        \"window\" : 50,\n",
    "                        \"min\" : 0,\n",
    "                        \"max\" : 0,\n",
    "                        \"on_power_threshold\" : 10,\n",
    "                }\n",
    "        }\n",
    "}"
   ]
  },
  {
   "cell_type": "code",
   "execution_count": 7,
   "metadata": {},
   "outputs": [
    {
     "name": "stderr",
     "output_type": "stream",
     "text": [
      "c:\\users\\mtinaco\\dev\\solutions\\cos-algo-nilm\\nilmtk\\nilmtk\\elecmeter.py:431: UserWarning: The provided sample_period (1) is shorter than the meter's sample_period (6)\n",
      "  warn(\"The provided sample_period ({}) is shorter than the meter's sample_period ({})\".format(\n",
      "c:\\users\\mtinaco\\dev\\solutions\\cos-algo-nilm\\nilmtk\\nilmtk\\elecmeter.py:431: UserWarning: The provided sample_period (1) is shorter than the meter's sample_period (6)\n",
      "  warn(\"The provided sample_period ({}) is shorter than the meter's sample_period ({})\".format(\n",
      "c:\\users\\mtinaco\\dev\\solutions\\cos-algo-nilm\\nilmtk\\nilmtk\\elecmeter.py:431: UserWarning: The provided sample_period (1) is shorter than the meter's sample_period (6)\n",
      "  warn(\"The provided sample_period ({}) is shorter than the meter's sample_period ({})\".format(\n",
      "c:\\users\\mtinaco\\dev\\solutions\\cos-algo-nilm\\nilmtk\\nilmtk\\elecmeter.py:431: UserWarning: The provided sample_period (1) is shorter than the meter's sample_period (6)\n",
      "  warn(\"The provided sample_period ({}) is shorter than the meter's sample_period ({})\".format(\n",
      "c:\\users\\mtinaco\\dev\\solutions\\cos-algo-nilm\\nilmtk\\nilmtk\\elecmeter.py:431: UserWarning: The provided sample_period (1) is shorter than the meter's sample_period (6)\n",
      "  warn(\"The provided sample_period ({}) is shorter than the meter's sample_period ({})\".format(\n",
      "c:\\users\\mtinaco\\dev\\solutions\\cos-algo-nilm\\nilmtk\\nilmtk\\utils.py:509: UserWarning: Found duplicate index. Keeping first value\n",
      "  warnings.warn(\"Found duplicate index. Keeping first value\")\n"
     ]
    }
   ],
   "source": [
    "ext = NilmtkSubsectionExtractor(dataset_path=pathsman.UKDALE_H5_PATH, params=info, match_timeframes=True)"
   ]
  },
  {
   "cell_type": "code",
   "execution_count": 8,
   "metadata": {},
   "outputs": [
    {
     "name": "stderr",
     "output_type": "stream",
     "text": [
      "c:\\users\\mtinaco\\dev\\solutions\\cos-algo-nilm\\nilmtk\\nilmtk\\elecmeter.py:431: UserWarning: The provided sample_period (1) is shorter than the meter's sample_period (6)\n",
      "  warn(\"The provided sample_period ({}) is shorter than the meter's sample_period ({})\".format(\n",
      "c:\\users\\mtinaco\\dev\\solutions\\cos-algo-nilm\\nilmtk\\nilmtk\\elecmeter.py:431: UserWarning: The provided sample_period (1) is shorter than the meter's sample_period (6)\n",
      "  warn(\"The provided sample_period ({}) is shorter than the meter's sample_period ({})\".format(\n",
      "c:\\users\\mtinaco\\dev\\solutions\\cos-algo-nilm\\nilmtk\\nilmtk\\elecmeter.py:431: UserWarning: The provided sample_period (1) is shorter than the meter's sample_period (6)\n",
      "  warn(\"The provided sample_period ({}) is shorter than the meter's sample_period ({})\".format(\n",
      "c:\\users\\mtinaco\\dev\\solutions\\cos-algo-nilm\\nilmtk\\nilmtk\\elecmeter.py:431: UserWarning: The provided sample_period (1) is shorter than the meter's sample_period (6)\n",
      "  warn(\"The provided sample_period ({}) is shorter than the meter's sample_period ({})\".format(\n",
      "c:\\users\\mtinaco\\dev\\solutions\\cos-algo-nilm\\nilmtk\\nilmtk\\elecmeter.py:431: UserWarning: The provided sample_period (1) is shorter than the meter's sample_period (6)\n",
      "  warn(\"The provided sample_period ({}) is shorter than the meter's sample_period ({})\".format(\n",
      "c:\\users\\mtinaco\\dev\\solutions\\cos-algo-nilm\\nilmtk\\nilmtk\\utils.py:509: UserWarning: Found duplicate index. Keeping first value\n",
      "  warnings.warn(\"Found duplicate index. Keeping first value\")\n"
     ]
    }
   ],
   "source": [
    "test_info = copy(info)\n",
    "test_info[\"subsection\"][\"building\"] = TEST_UKDALE_BUILDING\n",
    "test_info[\"subsection\"][\"start_time\"] = TEST_UKDALE_START_TIME\n",
    "test_info[\"subsection\"][\"end_time\"] = TEST_UKDALE_END_TIME\n",
    "\n",
    "ext2 = NilmtkSubsectionExtractor(dataset_path=pathsman.UKDALE_H5_PATH, params=test_info, match_timeframes=True)"
   ]
  },
  {
   "cell_type": "code",
   "execution_count": 9,
   "metadata": {},
   "outputs": [
    {
     "name": "stderr",
     "output_type": "stream",
     "text": [
      "c:\\users\\mtinaco\\dev\\solutions\\cos-algo-nilm\\nilmtk\\nilmtk\\elecmeter.py:431: UserWarning: The provided sample_period (1) is shorter than the meter's sample_period (6)\n",
      "  warn(\"The provided sample_period ({}) is shorter than the meter's sample_period ({})\".format(\n",
      "c:\\users\\mtinaco\\dev\\solutions\\cos-algo-nilm\\nilmtk\\nilmtk\\elecmeter.py:431: UserWarning: The provided sample_period (1) is shorter than the meter's sample_period (6)\n",
      "  warn(\"The provided sample_period ({}) is shorter than the meter's sample_period ({})\".format(\n",
      "c:\\users\\mtinaco\\dev\\solutions\\cos-algo-nilm\\nilmtk\\nilmtk\\elecmeter.py:431: UserWarning: The provided sample_period (1) is shorter than the meter's sample_period (6)\n",
      "  warn(\"The provided sample_period ({}) is shorter than the meter's sample_period ({})\".format(\n",
      "c:\\users\\mtinaco\\dev\\solutions\\cos-algo-nilm\\nilmtk\\nilmtk\\elecmeter.py:431: UserWarning: The provided sample_period (1) is shorter than the meter's sample_period (6)\n",
      "  warn(\"The provided sample_period ({}) is shorter than the meter's sample_period ({})\".format(\n",
      "c:\\users\\mtinaco\\dev\\solutions\\cos-algo-nilm\\nilmtk\\nilmtk\\elecmeter.py:431: UserWarning: The provided sample_period (1) is shorter than the meter's sample_period (6)\n",
      "  warn(\"The provided sample_period ({}) is shorter than the meter's sample_period ({})\".format(\n",
      "c:\\users\\mtinaco\\dev\\solutions\\cos-algo-nilm\\nilmtk\\nilmtk\\utils.py:509: UserWarning: Found duplicate index. Keeping first value\n",
      "  warnings.warn(\"Found duplicate index. Keeping first value\")\n"
     ]
    }
   ],
   "source": [
    "val_info = copy(info)\n",
    "val_info[\"subsection\"][\"building\"] = VAL_UKDALE_BUILDING\n",
    "val_info[\"subsection\"][\"start_time\"] = VAL_UKDALE_START_TIME\n",
    "val_info[\"subsection\"][\"end_time\"] = VAL_UKDALE_END_TIME\n",
    "\n",
    "ext3 = NilmtkSubsectionExtractor(dataset_path=pathsman.UKDALE_H5_PATH, params=val_info, match_timeframes=True)"
   ]
  },
  {
   "cell_type": "code",
   "execution_count": 10,
   "metadata": {},
   "outputs": [],
   "source": [
    "ext_data = {\n",
    "        \"train\" : ext,\n",
    "        \"test\"  : ext2,\n",
    "        \"val\"   : ext3\n",
    "}"
   ]
  },
  {
   "cell_type": "code",
   "execution_count": 11,
   "metadata": {},
   "outputs": [],
   "source": [
    "FS = 1/6          # 1 Hz\n",
    "DUR = 600       # 512 sec"
   ]
  },
  {
   "cell_type": "code",
   "execution_count": 12,
   "metadata": {},
   "outputs": [],
   "source": [
    "SAMPLE_LENGTH = int(DUR * FS)"
   ]
  },
  {
   "cell_type": "code",
   "execution_count": 13,
   "metadata": {},
   "outputs": [],
   "source": [
    "def quantile_filter_2(data, sequence_length, p=50):\n",
    "    new_mains = F.scan_sequences(data=data, mode=\"odd_window\", seq_len=sequence_length)\n",
    "    new_mains = np.percentile(new_mains, p, axis=1, interpolation=\"nearest\")\n",
    "    return new_mains"
   ]
  },
  {
   "cell_type": "code",
   "execution_count": 14,
   "metadata": {},
   "outputs": [],
   "source": [
    "class SequenceToArrayFormatter:\n",
    "\n",
    "        def __init__(self, info: list):\n",
    "                self.info = info\n",
    "        \n",
    "        def format(self, data : pd.DataFrame, *args, **kwargs) -> np.ndarray:\n",
    "                finder = kwargs.get() if \"finder\" in kwargs else \"power_series\"\n",
    "                data = data.loc[self.info[\"appliances\"], finder]\n",
    "\n",
    "                lens = [len(r) for r in data]\n",
    "                min_lens = min(lens)\n",
    "                p = [np.array(r)[:min_lens] for r in data]\n",
    "                data = np.vstack(p)\n",
    "                data[np.isnan(data)] = 0\n",
    "                return data.T\n",
    "        \n",
    "        def __call__(self, data, *args, **kwargs):\n",
    "                return self.format(data, *args, **kwargs)"
   ]
  },
  {
   "cell_type": "code",
   "execution_count": 15,
   "metadata": {},
   "outputs": [],
   "source": [
    "class QuantileFilterApplier:\n",
    "\n",
    "        def __init__(self, info, p=50):\n",
    "                self.info = info\n",
    "                self.p = p\n",
    "        \n",
    "        def filter(self, data, *args, **kwargs):\n",
    "                apps = self.info[\"appliances\"]\n",
    "                data_c = data.copy()\n",
    "                for i, app in enumerate(apps):\n",
    "                        data_c[:,i] = quantile_filter_2(data[:,i], self.info[\"appliance_data\"][app][\"window\"], p=self.p)\n",
    "                return data_c\n",
    "\n",
    "        def __call__(self, data, *args, **kwargs):\n",
    "                return self.filter(data, *args, **kwargs)"
   ]
  },
  {
   "cell_type": "code",
   "execution_count": 16,
   "metadata": {},
   "outputs": [],
   "source": [
    "class AdaptiveMinMaxScaling:\n",
    "    \n",
    "        def __init__(self, info):\n",
    "                self.info = info\n",
    "\n",
    "        def normalize(self, data, *args, **kwargs):\n",
    "                apps = self.info[\"appliances\"]\n",
    "                data_c = data.copy()\n",
    "                for i, app in enumerate(apps):\n",
    "                        data_c[:,i] = F.adaptive_minmax_scaling(data[:,i])\n",
    "                \n",
    "                return data_c\n",
    "\n",
    "        def __call__(self, data, *args, **kwargs):\n",
    "                return self.normalize(data, *args, **kwargs)\n"
   ]
  },
  {
   "cell_type": "code",
   "execution_count": 17,
   "metadata": {},
   "outputs": [],
   "source": [
    "class OnPowerThresholdBinarizer:\n",
    "        def __init__(self, info):\n",
    "                self.info = info\n",
    "        \n",
    "        def binarize(self, data, *args, **kwargs):\n",
    "                apps = self.info[\"appliances\"]\n",
    "                data_c = data.copy()\n",
    "                for i, app in enumerate(apps):\n",
    "                        data_c[:,i] = F.binarization(data[:,i], mode=\"threshold\", threshold=self.info[\"appliance_data\"][app][\"on_power_threshold\"])\n",
    "                return data_c\n",
    "        \n",
    "        def __call__(self, data, *args, **kwargs):\n",
    "                return self.binarize(data, *args, **kwargs)"
   ]
  },
  {
   "cell_type": "code",
   "execution_count": 18,
   "metadata": {},
   "outputs": [],
   "source": [
    "class SubmeterMixer:\n",
    "\n",
    "        def __init__(self, *args, **kwargs):\n",
    "                self.ax = kwargs.get(\"axis\") if \"axis\" in kwargs else 1\n",
    "\n",
    "        def mix(self, data : np.ndarray, *args, **kwargs):\n",
    "                return data.sum(axis=self.ax)\n",
    "\n",
    "        def __call__(self, data, *args, **kwargs):\n",
    "                return self.mix(data, *args, **kwargs)"
   ]
  },
  {
   "cell_type": "code",
   "execution_count": 19,
   "metadata": {},
   "outputs": [],
   "source": [
    "class NoisedInput:\n",
    "\n",
    "        def noise(self, data, *args, **kwargs):\n",
    "                _denoise = quantile_filter_2(data, 10, 50)\n",
    "                data = data - np.percentile(data, 1)\n",
    "                data = np.where(data < _denoise, _denoise, data)\n",
    "                return quantile_filter_2(data, 10, 50)\n",
    "\n",
    "        def __call__(self, data, *args, **kwargs):\n",
    "                return self.noise(data, *args, **kwargs)"
   ]
  },
  {
   "cell_type": "code",
   "execution_count": 20,
   "metadata": {},
   "outputs": [],
   "source": [
    "formatter = SequenceToArrayFormatter(ext.params)\n",
    "filterer = QuantileFilterApplier(ext.params)\n",
    "normalizer = AdaptiveMinMaxScaling(ext.params)\n",
    "binarizer = OnPowerThresholdBinarizer(ext.params)\n",
    "mixer = SubmeterMixer(axis=1)\n",
    "noiser = NoisedInput()"
   ]
  },
  {
   "cell_type": "code",
   "execution_count": 42,
   "metadata": {},
   "outputs": [],
   "source": [
    "ProfileHandler.mkdir(pathsman.PROFILES_DIR, exist_ok=True)\n",
    "prof = DatasetProfile(parent_dir=pathsman.PROFILES_DIR,\n",
    "                handler=NILMProjects.UNETNILM.value,\n",
    "                dataset_name=\"ukdale\",\n",
    "                metadata=info,\n",
    "                mode=\"w\")\n",
    "prof_handler = GenericProfileHandler(pathsman.PROFILES_DIR)"
   ]
  },
  {
   "cell_type": "code",
   "execution_count": 43,
   "metadata": {},
   "outputs": [
    {
     "name": "stderr",
     "output_type": "stream",
     "text": [
      "C:\\Users\\MTinaco\\AppData\\Local\\Temp\\ipykernel_48604\\361044578.py:3: DeprecationWarning: the `interpolation=` argument to percentile was renamed to `method=`, which has additional options.\n",
      "Users of the modes 'nearest', 'lower', 'higher', or 'midpoint' are encouraged to review the method they used. (Deprecated NumPy 1.22)\n",
      "  new_mains = np.percentile(new_mains, p, axis=1, interpolation=\"nearest\")\n",
      "C:\\Users\\MTinaco\\AppData\\Local\\Temp\\ipykernel_48604\\361044578.py:3: DeprecationWarning: the `interpolation=` argument to percentile was renamed to `method=`, which has additional options.\n",
      "Users of the modes 'nearest', 'lower', 'higher', or 'midpoint' are encouraged to review the method they used. (Deprecated NumPy 1.22)\n",
      "  new_mains = np.percentile(new_mains, p, axis=1, interpolation=\"nearest\")\n",
      "C:\\Users\\MTinaco\\AppData\\Local\\Temp\\ipykernel_48604\\361044578.py:3: DeprecationWarning: the `interpolation=` argument to percentile was renamed to `method=`, which has additional options.\n",
      "Users of the modes 'nearest', 'lower', 'higher', or 'midpoint' are encouraged to review the method they used. (Deprecated NumPy 1.22)\n",
      "  new_mains = np.percentile(new_mains, p, axis=1, interpolation=\"nearest\")\n"
     ]
    }
   ],
   "source": [
    "# Pipeline Workflow\n",
    "\n",
    "for key, value in ext_data.items():\n",
    "\n",
    "        data = formatter(train.df)\n",
    "        data_i = mixer(data)\n",
    "        data_i_den = quantile_filter_2(data_i, 10, p=50)\n",
    "        data_i_den = F.adaptive_minmax_scaling(data_i_den)\n",
    "        data_i_n = noiser(data_i)\n",
    "        data_i_n = F.adaptive_minmax_scaling(data_i_n)\n",
    "        data = filterer(data)\n",
    "        data_p = normalizer(data)\n",
    "        data_s = binarizer(data)\n",
    "\n",
    "        assert not np.any(np.isnan(data_i_den))\n",
    "        assert not np.any(np.isnan(data_i_n))\n",
    "        assert not np.any(np.isnan(data_p))\n",
    "        assert not np.any(np.isnan(data_s))\n",
    "\n",
    "        if SAVE_PROFILE:\n",
    "                prof_handler.write(data_i_den, data_i_n, data_p, data_s, profile=prof, subdir=key)\n",
    "\n",
    "                # del data\n",
    "                # del data_i\n",
    "                # del data_i_den\n",
    "                # del data_i_n\n",
    "                # del data_p\n",
    "                # del data_s"
   ]
  },
  {
   "cell_type": "code",
   "execution_count": 44,
   "metadata": {},
   "outputs": [
    {
     "data": {
      "text/plain": [
       "array([[0., 0., 0., 0., 0.],\n",
       "       [0., 0., 0., 0., 0.],\n",
       "       [0., 0., 0., 0., 0.],\n",
       "       ...,\n",
       "       [0., 0., 0., 0., 0.],\n",
       "       [0., 0., 0., 0., 0.],\n",
       "       [0., 0., 0., 0., 0.]], dtype=float32)"
      ]
     },
     "execution_count": 44,
     "metadata": {},
     "output_type": "execute_result"
    }
   ],
   "source": [
    "data_s"
   ]
  },
  {
   "cell_type": "code",
   "execution_count": 45,
   "metadata": {},
   "outputs": [],
   "source": [
    "data_p[np.isnan(data_p)] = 0"
   ]
  },
  {
   "cell_type": "code",
   "execution_count": 46,
   "metadata": {},
   "outputs": [
    {
     "data": {
      "text/plain": [
       "array([[0.        , 0.        , 0.00041339, 0.00041   , 0.00063492],\n",
       "       [0.        , 0.        , 0.00041339, 0.00041   , 0.00063492],\n",
       "       [0.        , 0.        , 0.00041339, 0.00041   , 0.00063492],\n",
       "       ...,\n",
       "       [0.        , 0.        , 0.00041339, 0.        , 0.00063492],\n",
       "       [0.        , 0.        , 0.00041339, 0.        , 0.00063492],\n",
       "       [0.        , 0.        , 0.00041339, 0.        , 0.00063492]],\n",
       "      dtype=float32)"
      ]
     },
     "execution_count": 46,
     "metadata": {},
     "output_type": "execute_result"
    }
   ],
   "source": [
    "data_p"
   ]
  },
  {
   "cell_type": "code",
   "execution_count": 47,
   "metadata": {},
   "outputs": [
    {
     "data": {
      "text/plain": [
       "[<matplotlib.lines.Line2D at 0x1c73497cdf0>]"
      ]
     },
     "execution_count": 47,
     "metadata": {},
     "output_type": "execute_result"
    },
    {
     "data": {
      "image/png": "[encoded data removed]",
      "text/plain": [
       "<Figure size 640x480 with 1 Axes>"
      ]
     },
     "metadata": {},
     "output_type": "display_data"
    }
   ],
   "source": [
    "plt.plot(data_i_n[60000:70000])"
   ]
  },
  {
   "cell_type": "code",
   "execution_count": 48,
   "metadata": {},
   "outputs": [
    {
     "data": {
      "text/plain": [
       "[<matplotlib.lines.Line2D at 0x1c7341e35b0>]"
      ]
     },
     "execution_count": 48,
     "metadata": {},
     "output_type": "execute_result"
    },
    {
     "data": {
      "image/png": "[encoded data removed]",
      "text/plain": [
       "<Figure size 640x480 with 1 Axes>"
      ]
     },
     "metadata": {},
     "output_type": "display_data"
    }
   ],
   "source": [
    "plt.plot(data_i_den[60000:70000])"
   ]
  },
  {
   "cell_type": "code",
   "execution_count": 49,
   "metadata": {},
   "outputs": [
    {
     "data": {
      "text/plain": [
       "[<matplotlib.lines.Line2D at 0x1c7342a8e50>]"
      ]
     },
     "execution_count": 49,
     "metadata": {},
     "output_type": "execute_result"
    },
    {
     "data": {
      "image/png": "[encoded data removed]",
      "text/plain": [
       "<Figure size 640x480 with 1 Axes>"
      ]
     },
     "metadata": {},
     "output_type": "display_data"
    }
   ],
   "source": [
    "plt.plot(data_p[60000:70000,1])"
   ]
  },
  {
   "cell_type": "code",
   "execution_count": 50,
   "metadata": {},
   "outputs": [
    {
     "data": {
      "text/plain": [
       "[<matplotlib.lines.Line2D at 0x1c734a62c10>]"
      ]
     },
     "execution_count": 50,
     "metadata": {},
     "output_type": "execute_result"
    },
    {
     "data": {
      "image/png": "[encoded data removed]",
      "text/plain": [
       "<Figure size 640x480 with 1 Axes>"
      ]
     },
     "metadata": {},
     "output_type": "display_data"
    }
   ],
   "source": [
    "plt.plot(data_s[60000:70000,1])"
   ]
  },
  {
   "cell_type": "code",
   "execution_count": 51,
   "metadata": {},
   "outputs": [],
   "source": [
    "# if SAVE_PROFILE:\n",
    "#         ProfileHandler.mkdir(pathsman.PROFILES_DIR, exist_ok=True)\n",
    "#         prof = DatasetProfile(parent_dir=pathsman.PROFILES_DIR,\n",
    "#                         handler=NILMProjects.UNETNILM.value,\n",
    "#                         dataset_name=\"ukdale\",\n",
    "#                         metadata=info,\n",
    "#                         mode=\"w\")\n",
    "#         ret = ProfileHandler.write(data_i_den, data_i_n, data_p, data_s, profile=prof, subdir=\"training\")\n",
    "#         print(ret)"
   ]
  },
  {
   "cell_type": "code",
   "execution_count": null,
   "metadata": {},
   "outputs": [],
   "source": []
  }
 ],
 "metadata": {
  "kernelspec": {
   "display_name": "venv",
   "language": "python",
   "name": "python3"
  },
  "language_info": {
   "codemirror_mode": {
    "name": "ipython",
    "version": 3
   },
   "file_extension": ".py",
   "mimetype": "text/x-python",
   "name": "python",
   "nbconvert_exporter": "python",
   "pygments_lexer": "ipython3",
   "version": "3.8.10"
  },
  "orig_nbformat": 4
 },
 "nbformat": 4,
 "nbformat_minor": 2
}
