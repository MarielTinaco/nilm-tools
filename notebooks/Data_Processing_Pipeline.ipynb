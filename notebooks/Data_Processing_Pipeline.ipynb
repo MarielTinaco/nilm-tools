{
 "cells": [
  {
   "cell_type": "code",
   "execution_count": 1,
   "metadata": {},
   "outputs": [],
   "source": [
    "import sys, os\n",
    "\n",
    "import random\n",
    "import statistics as stat\n",
    "import pandas as pd\n",
    "import numpy as np\n",
    "import matplotlib.pyplot as plt\n",
    "%matplotlib inline\n",
    "\n",
    "import nilmtk\n",
    "\n",
    "sys.path.append(os.path.dirname(os.getcwd()))"
   ]
  },
  {
   "cell_type": "code",
   "execution_count": 2,
   "metadata": {},
   "outputs": [],
   "source": [
    "import adinilm.functions as F\n",
    "from adinilm.enumerations import *\n",
    "from adinilm.objs import DatasetProfile, ProfileHandler, NormalizationHandler\n",
    "from adinilm.utils import paths_manager as pathsman\n",
    "from adinilm.io import NilmtkSubsectionExtractor"
   ]
  },
  {
   "cell_type": "code",
   "execution_count": 3,
   "metadata": {},
   "outputs": [],
   "source": [
    "SAVE_PROFILE = True"
   ]
  },
  {
   "cell_type": "code",
   "execution_count": 4,
   "metadata": {},
   "outputs": [],
   "source": [
    "## Variable declaration for dataset\n",
    "UKDALE_BUILDING = 1\n",
    "UKDALE_START_TIME = \"2015-01-01\"\n",
    "# END_TIME = \"2015-01-15\"\n",
    "UKDALE_END_TIME = \"2015-04-01\"\n",
    "\n",
    "FRIDGE_FREEZER = \"fridge\"\n",
    "KETTLE = \"kettle\"\n",
    "DISHWASHER = \"dish washer\"\n",
    "MICROWAVE = \"microwave\"\n",
    "WASHER_DRYER = \"washer dryer\"\n",
    "\n",
    "applist = [FRIDGE_FREEZER, WASHER_DRYER, KETTLE, DISHWASHER, MICROWAVE]"
   ]
  },
  {
   "cell_type": "code",
   "execution_count": 5,
   "metadata": {},
   "outputs": [],
   "source": [
    "info = {\n",
    "        \"subsection\" : {\n",
    "                \"building\" : UKDALE_BUILDING,\n",
    "                \"start_time\" : UKDALE_START_TIME,\n",
    "                \"end_time\": UKDALE_END_TIME\n",
    "        },\n",
    "        \"preprocessing\" : {\n",
    "                \"sampling\" : {\n",
    "                        \"sample_period\" : 6,\n",
    "                        \"resample\" : True\n",
    "                },\n",
    "                \"normalization\" : {\n",
    "                        \"mode\" : \"minmax\",\n",
    "                        \"scope\" : \"local\"\n",
    "                }\n",
    "        },\n",
    "        \"appliances\" : [FRIDGE_FREEZER, WASHER_DRYER, KETTLE, DISHWASHER, MICROWAVE],\n",
    "        \"appliance_data\" : {\n",
    "                FRIDGE_FREEZER : {\n",
    "                        \"window\" : 50,\n",
    "                        \"min\" : 0,\n",
    "                        \"max\" : 0,\n",
    "                        \"on_power_threshold\" : 10,\n",
    "                },\n",
    "                WASHER_DRYER : {               \n",
    "                        \"window\" : 50,\n",
    "                        \"min\" : 0,\n",
    "                        \"max\" : 0,\n",
    "                        \"on_power_threshold\" : 10,\n",
    "                },\n",
    "                KETTLE : {\n",
    "                        \"window\" : 50,\n",
    "                        \"min\" : 0,\n",
    "                        \"max\" : 0,\n",
    "                        \"on_power_threshold\" : 10,\n",
    "                },\n",
    "                DISHWASHER : {\n",
    "                        \"window\" : 10,\n",
    "                        \"min\" : 0,\n",
    "                        \"max\" : 0,\n",
    "                        \"on_power_threshold\" : 10,\n",
    "                },\n",
    "                MICROWAVE : {\n",
    "                        \"window\" : 50,\n",
    "                        \"min\" : 0,\n",
    "                        \"max\" : 0,\n",
    "                        \"on_power_threshold\" : 10,\n",
    "                }\n",
    "        }\n",
    "}"
   ]
  },
  {
   "cell_type": "code",
   "execution_count": 6,
   "metadata": {},
   "outputs": [
    {
     "name": "stderr",
     "output_type": "stream",
     "text": [
      "c:\\users\\mtinaco\\dev\\solutions\\cos-algo-nilm\\nilmtk\\nilmtk\\utils.py:509: UserWarning: Found duplicate index. Keeping first value\n",
      "  warnings.warn(\"Found duplicate index. Keeping first value\")\n"
     ]
    }
   ],
   "source": [
    "ext = NilmtkSubsectionExtractor(dataset_path=pathsman.UKDALE_H5_PATH, params=info)\n"
   ]
  },
  {
   "cell_type": "code",
   "execution_count": 7,
   "metadata": {},
   "outputs": [
    {
     "data": {
      "text/html": [
       "<div>\n",
       "<style scoped>\n",
       "    .dataframe tbody tr th:only-of-type {\n",
       "        vertical-align: middle;\n",
       "    }\n",
       "\n",
       "    .dataframe tbody tr th {\n",
       "        vertical-align: top;\n",
       "    }\n",
       "\n",
       "    .dataframe thead th {\n",
       "        text-align: right;\n",
       "    }\n",
       "</style>\n",
       "<table border=\"1\" class=\"dataframe\">\n",
       "  <thead>\n",
       "    <tr style=\"text-align: right;\">\n",
       "      <th></th>\n",
       "      <th>power_series</th>\n",
       "      <th>on_power_threshold</th>\n",
       "      <th>activations</th>\n",
       "    </tr>\n",
       "  </thead>\n",
       "  <tbody>\n",
       "    <tr>\n",
       "      <th>fridge</th>\n",
       "      <td>2015-01-01 00:00:00+00:00      0.0\n",
       "2015-01-01 ...</td>\n",
       "      <td>50.0</td>\n",
       "      <td>[[0.0, 0.0, 103.0, 100.0, 97.0, 97.0, 95.0, 94...</td>\n",
       "    </tr>\n",
       "    <tr>\n",
       "      <th>washer dryer</th>\n",
       "      <td>2015-01-01 00:00:00+00:00    0.0\n",
       "2015-01-01 00...</td>\n",
       "      <td>20.0</td>\n",
       "      <td>[[10.0, 10.0, 103.0, 103.0, 10.0, 10.0, 10.0, ...</td>\n",
       "    </tr>\n",
       "    <tr>\n",
       "      <th>kettle</th>\n",
       "      <td>2015-01-01 00:00:00+00:00    1.0\n",
       "2015-01-01 00...</td>\n",
       "      <td>10.0</td>\n",
       "      <td>[[1.0, 1.0, 565.0, 2347.0, 2350.0, 2365.0, 238...</td>\n",
       "    </tr>\n",
       "    <tr>\n",
       "      <th>dish washer</th>\n",
       "      <td>2015-01-01 00:00:00+00:00      1.0\n",
       "2015-01-01 ...</td>\n",
       "      <td>10.0</td>\n",
       "      <td>[[1.0, 1.0, 24.0, 23.0, 24.0, 24.0, 24.0, 6.0,...</td>\n",
       "    </tr>\n",
       "    <tr>\n",
       "      <th>microwave</th>\n",
       "      <td>2015-01-01 00:00:00+00:00    1.0\n",
       "2015-01-01 00...</td>\n",
       "      <td>200.0</td>\n",
       "      <td>[[1.0, 1.0, 1632.0, 1623.0, 1619.0, 1612.0, 16...</td>\n",
       "    </tr>\n",
       "    <tr>\n",
       "      <th>site meter</th>\n",
       "      <td>2015-01-01 00:00:00+00:00    139.301666\n",
       "2015-0...</td>\n",
       "      <td>NaN</td>\n",
       "      <td>NaN</td>\n",
       "    </tr>\n",
       "  </tbody>\n",
       "</table>\n",
       "</div>"
      ],
      "text/plain": [
       "                                                   power_series  \\\n",
       "fridge        2015-01-01 00:00:00+00:00      0.0\n",
       "2015-01-01 ...   \n",
       "washer dryer  2015-01-01 00:00:00+00:00    0.0\n",
       "2015-01-01 00...   \n",
       "kettle        2015-01-01 00:00:00+00:00    1.0\n",
       "2015-01-01 00...   \n",
       "dish washer   2015-01-01 00:00:00+00:00      1.0\n",
       "2015-01-01 ...   \n",
       "microwave     2015-01-01 00:00:00+00:00    1.0\n",
       "2015-01-01 00...   \n",
       "site meter    2015-01-01 00:00:00+00:00    139.301666\n",
       "2015-0...   \n",
       "\n",
       "              on_power_threshold  \\\n",
       "fridge                      50.0   \n",
       "washer dryer                20.0   \n",
       "kettle                      10.0   \n",
       "dish washer                 10.0   \n",
       "microwave                  200.0   \n",
       "site meter                   NaN   \n",
       "\n",
       "                                                    activations  \n",
       "fridge        [[0.0, 0.0, 103.0, 100.0, 97.0, 97.0, 95.0, 94...  \n",
       "washer dryer  [[10.0, 10.0, 103.0, 103.0, 10.0, 10.0, 10.0, ...  \n",
       "kettle        [[1.0, 1.0, 565.0, 2347.0, 2350.0, 2365.0, 238...  \n",
       "dish washer   [[1.0, 1.0, 24.0, 23.0, 24.0, 24.0, 24.0, 6.0,...  \n",
       "microwave     [[1.0, 1.0, 1632.0, 1623.0, 1619.0, 1612.0, 16...  \n",
       "site meter                                                  NaN  "
      ]
     },
     "execution_count": 7,
     "metadata": {},
     "output_type": "execute_result"
    }
   ],
   "source": [
    "ext.df.head(6)"
   ]
  },
  {
   "cell_type": "code",
   "execution_count": 8,
   "metadata": {},
   "outputs": [],
   "source": [
    "FS = 1/6          # 1 Hz\n",
    "DUR = 600       # 512 sec"
   ]
  },
  {
   "cell_type": "code",
   "execution_count": 9,
   "metadata": {},
   "outputs": [],
   "source": [
    "SAMPLE_LENGTH = int(DUR * FS)"
   ]
  },
  {
   "cell_type": "code",
   "execution_count": 10,
   "metadata": {},
   "outputs": [],
   "source": [
    "def quantile_filter_2(data, sequence_length, p=50):\n",
    "    new_mains = F.scan_sequences(data=data, mode=\"odd_window\", seq_len=sequence_length)\n",
    "    new_mains = np.percentile(new_mains, p, axis=1, interpolation=\"nearest\")\n",
    "    return new_mains"
   ]
  },
  {
   "cell_type": "code",
   "execution_count": 11,
   "metadata": {},
   "outputs": [],
   "source": [
    "# utils\n",
    "\n",
    "def match_timeframes(series):\n",
    "        # Determine first and last timestamps\n",
    "        start_tfs = []\n",
    "        end_tfs = []\n",
    "        for tf in series:\n",
    "                index = tf.index\n",
    "                start_tfs.append(index[0])\n",
    "                end_tfs.append(index[-1])\n",
    "        uniform_start_tf = max(start_tfs)\n",
    "        uniform_end_tf = min(end_tfs)\n",
    "\n",
    "        series_c = series.copy()\n",
    "        for idx, tf in enumerate(series):\n",
    "                series_c[idx] = tf[uniform_start_tf:uniform_end_tf]\n",
    "\n",
    "        return series_c"
   ]
  },
  {
   "cell_type": "code",
   "execution_count": 12,
   "metadata": {},
   "outputs": [],
   "source": [
    "class SubmeterDataframeFormatter:\n",
    "\n",
    "        def __init__(self, applist: list):\n",
    "                self.applist = applist\n",
    "\n",
    "        def format(self, data : pd.DataFrame, *args, **kwargs) -> np.ndarray:\n",
    "                finder = kwargs.get() if \"finder\" in kwargs else \"power_series\"\n",
    "                data = data.loc[self.applist, finder]\n",
    "\n",
    "                data = match_timeframes(data)\n",
    "                p = [np.array(r) for r in data]\n",
    "\n",
    "                data = np.array(p)\n",
    "                data[np.isnan(data)] = 0\n",
    "                return data.T\n",
    "\n",
    "        def __call__(self, data, *args, **kwargs):\n",
    "                return self.format(data, *args, **kwargs)"
   ]
  },
  {
   "cell_type": "code",
   "execution_count": 40,
   "metadata": {},
   "outputs": [],
   "source": [
    "class SequenceToArrayFormatter:\n",
    "\n",
    "        def __init__(self, info: list):\n",
    "                self.info = info\n",
    "        \n",
    "        def format(self, data : pd.DataFrame, *args, **kwargs) -> np.ndarray:\n",
    "                finder = kwargs.get() if \"finder\" in kwargs else \"power_series\"\n",
    "                data = data.loc[self.info[\"appliances\"], finder]\n",
    "                p = [np.array(r) for r in data]\n",
    "\n",
    "                data = np.array(p)\n",
    "                data[np.isnan(data)] = 0\n",
    "                return data.T\n",
    "        \n",
    "        def __call__(self, data, *args, **kwargs):\n",
    "                return self.format(data, *args, **kwargs)"
   ]
  },
  {
   "cell_type": "code",
   "execution_count": 28,
   "metadata": {},
   "outputs": [],
   "source": [
    "class QuantileFilterApplier:\n",
    "\n",
    "        def __init__(self, info, p=50):\n",
    "                self.info = info\n",
    "                self.p = p\n",
    "        \n",
    "        def filter(self, data, *args, **kwargs):\n",
    "                apps = self.info[\"appliances\"]\n",
    "                data_c = data.copy()\n",
    "                for i, app in enumerate(apps):\n",
    "                        data_c[i,:] = quantile_filter_2(data[i,:], self.info[\"appliance_data\"][app][\"window\"], p=self.p)\n",
    "                return data_c\n",
    "\n",
    "        def __call__(self, data, *args, **kwargs):\n",
    "                return self.filter(data, *args, **kwargs)"
   ]
  },
  {
   "cell_type": "code",
   "execution_count": 29,
   "metadata": {},
   "outputs": [],
   "source": [
    "class AdaptiveMinMaxScaling:\n",
    "    \n",
    "        def __init__(self, info):\n",
    "                self.info = info\n",
    "\n",
    "        def normalize(self, data, *args, **kwargs):\n",
    "                apps = self.info[\"appliances\"]\n",
    "                data_c = data.copy()\n",
    "                for i, app in enumerate(apps):\n",
    "                        data_c[i,:] = F.adaptive_minmax_scaling(data[i,:])\n",
    "                \n",
    "                return data_c\n",
    "\n",
    "        def __call__(self, data, *args, **kwargs):\n",
    "                return self.normalize(data, *args, **kwargs)\n"
   ]
  },
  {
   "cell_type": "code",
   "execution_count": 30,
   "metadata": {},
   "outputs": [],
   "source": [
    "class OnPowerThresholdBinarizer:\n",
    "        def __init__(self, info):\n",
    "                self.info = info\n",
    "        \n",
    "        def binarize(self, data, *args, **kwargs):\n",
    "                apps = self.info[\"appliances\"]\n",
    "                data_c = data.copy()\n",
    "                for i, app in enumerate(apps):\n",
    "                        data_c[i,:] = F.binarization(data[i,:], mode=\"threshold\", threshold=self.info[\"appliance_data\"][app][\"on_power_threshold\"])\n",
    "                return data_c\n",
    "        \n",
    "        def __call__(self, data, *args, **kwargs):\n",
    "                return self.binarize(data, *args, **kwargs)"
   ]
  },
  {
   "cell_type": "code",
   "execution_count": 31,
   "metadata": {},
   "outputs": [],
   "source": [
    "class SubmeterMixer:\n",
    "\n",
    "        def __init__(self, *args, **kwargs):\n",
    "                self.ax = kwargs.get(\"axis\") if \"axis\" in kwargs else 1\n",
    "\n",
    "        def mix(self, data : np.ndarray, *args, **kwargs):\n",
    "                return data.sum(axis=self.ax)\n",
    "\n",
    "        def __call__(self, data, *args, **kwargs):\n",
    "                return self.mix(data, *args, **kwargs)"
   ]
  },
  {
   "cell_type": "code",
   "execution_count": 32,
   "metadata": {},
   "outputs": [],
   "source": [
    "class NoisedInput:\n",
    "\n",
    "        def noise(self, data, *args, **kwargs):\n",
    "                _denoise = quantile_filter_2(data, 10, 50)\n",
    "                data = data - np.percentile(data, 1)\n",
    "                data = np.where(data < _denoise, _denoise, data)\n",
    "                return quantile_filter_2(data, 10, 50)\n",
    "\n",
    "        def __call__(self, data, *args, **kwargs):\n",
    "                return self.noise(data, *args, **kwargs)"
   ]
  },
  {
   "cell_type": "code",
   "execution_count": 43,
   "metadata": {},
   "outputs": [],
   "source": [
    "formatter = SequenceToArrayFormatter(ext.params)\n",
    "filterer = QuantileFilterApplier(ext.params)\n",
    "normalizer = AdaptiveMinMaxScaling(ext.params)\n",
    "binarizer = OnPowerThresholdBinarizer(ext.params)\n",
    "mixer = SubmeterMixer(axis=1)\n",
    "noiser = NoisedInput()"
   ]
  },
  {
   "cell_type": "code",
   "execution_count": 45,
   "metadata": {},
   "outputs": [
    {
     "name": "stderr",
     "output_type": "stream",
     "text": [
      "C:\\Users\\MTinaco\\AppData\\Local\\Temp\\ipykernel_39376\\361044578.py:3: DeprecationWarning: the `interpolation=` argument to percentile was renamed to `method=`, which has additional options.\n",
      "Users of the modes 'nearest', 'lower', 'higher', or 'midpoint' are encouraged to review the method they used. (Deprecated NumPy 1.22)\n",
      "  new_mains = np.percentile(new_mains, p, axis=1, interpolation=\"nearest\")\n",
      "c:\\Users\\MTinaco\\Dev\\Solutions\\cos-algo-nilm\\adinilm\\data_processing\\normalize.py:41: RuntimeWarning: invalid value encountered in divide\n",
      "  norm_data = (data - self.min) / (self.max - self.min)\n"
     ]
    }
   ],
   "source": [
    "# Pipeline Workflow\n",
    "data = formatter(ext.df)\n",
    "data_i = mixer(data)\n",
    "data_i_den = quantile_filter_2(data_i, 10, p=50)\n",
    "data_i_den = F.adaptive_minmax_scaling(data_i_den)\n",
    "data_i_n = noiser(data_i)\n",
    "data_i_n = F.adaptive_minmax_scaling(data_i_n)\n",
    "data = filterer(data)\n",
    "data_p = normalizer(data)\n",
    "data_s = binarizer(data)"
   ]
  },
  {
   "cell_type": "code",
   "execution_count": 47,
   "metadata": {},
   "outputs": [
    {
     "data": {
      "text/plain": [
       "array([[  0.,   0.,   0.,   0.,   0.],\n",
       "       [  0.,   0.,   0.,   0.,   0.],\n",
       "       [  0.,   0.,   0.,   0.,   0.],\n",
       "       ...,\n",
       "       [252.,   0.,   1., 120.,   1.],\n",
       "       [252.,   0.,   1., 120.,   1.],\n",
       "       [252.,   0.,   1., 119.,   1.]], dtype=float32)"
      ]
     },
     "execution_count": 47,
     "metadata": {},
     "output_type": "execute_result"
    }
   ],
   "source": [
    "data_s"
   ]
  },
  {
   "cell_type": "code",
   "execution_count": null,
   "metadata": {},
   "outputs": [],
   "source": [
    "data_p[np.isnan(data_p)] = 0"
   ]
  },
  {
   "cell_type": "code",
   "execution_count": 46,
   "metadata": {},
   "outputs": [
    {
     "data": {
      "text/plain": [
       "array([[ nan,  nan,  nan,  nan,  nan],\n",
       "       [ nan,  nan,  nan,  nan,  nan],\n",
       "       [ nan,  nan,  nan,  nan,  nan],\n",
       "       ...,\n",
       "       [252.,   0.,   1., 120.,   1.],\n",
       "       [252.,   0.,   1., 120.,   1.],\n",
       "       [252.,   0.,   1., 119.,   1.]], dtype=float32)"
      ]
     },
     "execution_count": 46,
     "metadata": {},
     "output_type": "execute_result"
    }
   ],
   "source": [
    "data_p"
   ]
  },
  {
   "cell_type": "code",
   "execution_count": null,
   "metadata": {},
   "outputs": [
    {
     "data": {
      "text/plain": [
       "[<matplotlib.lines.Line2D at 0x29416af2cd0>]"
      ]
     },
     "execution_count": 56,
     "metadata": {},
     "output_type": "execute_result"
    },
    {
     "data": {
      "image/png": "[encoded data removed]",
      "text/plain": [
       "<Figure size 640x480 with 1 Axes>"
      ]
     },
     "metadata": {},
     "output_type": "display_data"
    }
   ],
   "source": [
    "plt.plot(data_i_n[60000:70000])"
   ]
  },
  {
   "cell_type": "code",
   "execution_count": null,
   "metadata": {},
   "outputs": [
    {
     "data": {
      "text/plain": [
       "[<matplotlib.lines.Line2D at 0x29410275340>]"
      ]
     },
     "execution_count": 57,
     "metadata": {},
     "output_type": "execute_result"
    },
    {
     "data": {
      "image/png": "[encoded data removed]",
      "text/plain": [
       "<Figure size 640x480 with 1 Axes>"
      ]
     },
     "metadata": {},
     "output_type": "display_data"
    }
   ],
   "source": [
    "plt.plot(data_i_den[60000:70000])"
   ]
  },
  {
   "cell_type": "code",
   "execution_count": null,
   "metadata": {},
   "outputs": [
    {
     "data": {
      "text/plain": [
       "[<matplotlib.lines.Line2D at 0x29416b36f70>]"
      ]
     },
     "execution_count": 58,
     "metadata": {},
     "output_type": "execute_result"
    },
    {
     "data": {
      "image/png": "[encoded data removed]",
      "text/plain": [
       "<Figure size 640x480 with 1 Axes>"
      ]
     },
     "metadata": {},
     "output_type": "display_data"
    }
   ],
   "source": [
    "plt.plot(data_p[60000:70000,1])"
   ]
  },
  {
   "cell_type": "code",
   "execution_count": null,
   "metadata": {},
   "outputs": [
    {
     "data": {
      "text/plain": [
       "[<matplotlib.lines.Line2D at 0x294101a5dc0>]"
      ]
     },
     "execution_count": 59,
     "metadata": {},
     "output_type": "execute_result"
    },
    {
     "data": {
      "image/png": "[encoded data removed]",
      "text/plain": [
       "<Figure size 640x480 with 1 Axes>"
      ]
     },
     "metadata": {},
     "output_type": "display_data"
    }
   ],
   "source": [
    "plt.plot(data_s[60000:70000,1])"
   ]
  },
  {
   "cell_type": "code",
   "execution_count": null,
   "metadata": {},
   "outputs": [],
   "source": [
    "if SAVE_PROFILE:\n",
    "        ProfileHandler.mkdir(pathsman.PROFILES_DIR, exist_ok=True)\n",
    "        prof = DatasetProfile(parent_dir=pathsman.PROFILES_DIR,\n",
    "                        handler=NILMProjects.UNETNILM.value,\n",
    "                        dataset_name=\"ukdale\",\n",
    "                        metadata=info,\n",
    "                        mode=\"w\")\n",
    "        ProfileHandler.write(data_i_den, data_i_n, data_p, data_s, profile=prof, subdir=\"training\")"
   ]
  },
  {
   "cell_type": "code",
   "execution_count": null,
   "metadata": {},
   "outputs": [],
   "source": []
  }
 ],
 "metadata": {
  "kernelspec": {
   "display_name": "venv",
   "language": "python",
   "name": "python3"
  },
  "language_info": {
   "codemirror_mode": {
    "name": "ipython",
    "version": 3
   },
   "file_extension": ".py",
   "mimetype": "text/x-python",
   "name": "python",
   "nbconvert_exporter": "python",
   "pygments_lexer": "ipython3",
   "version": "3.8.10"
  },
  "orig_nbformat": 4
 },
 "nbformat": 4,
 "nbformat_minor": 2
}
