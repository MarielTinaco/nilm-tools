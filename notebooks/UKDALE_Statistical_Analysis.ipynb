{
 "cells": [
  {
   "cell_type": "code",
   "execution_count": 1,
   "metadata": {},
   "outputs": [],
   "source": [
    "## imports\n",
    "import os\n",
    "import sys\n",
    "import statistics as stat\n",
    "from __future__ import print_function\n",
    "from pathlib import Path\n",
    "from collections import defaultdict\n",
    "import nilmtk\n",
    "from matplotlib import rcParams\n",
    "from copy import deepcopy\n",
    "import matplotlib.pyplot as plt\n",
    "%matplotlib inline\n",
    "\n",
    "## imports for the function \n",
    "import pandas as pd\n",
    "import numpy as np\n",
    "from typing import Union, Tuple, Dict\n",
    "from nilmtk.utils import print_dict  \n",
    "import json\n",
    "from skimage.measure import block_reduce\n",
    "from pprint import pprint\n",
    "\n",
    "## path for load\n",
    "sys.path.append(os.path.dirname(os.getcwd()))\n",
    "\n",
    "## import for the load_data python\n",
    "from src.unetnilm.data_proc import load_data\n",
    "from src.stats.Statistical_analysis import extract_states, state_plot\n",
    "from src.data_structures.sequence_mixer import RandomSequenceMixer"
   ]
  },
  {
   "cell_type": "code",
   "execution_count": 2,
   "metadata": {},
   "outputs": [],
   "source": [
    "import src.functions as F"
   ]
  },
  {
   "cell_type": "code",
   "execution_count": 3,
   "metadata": {},
   "outputs": [],
   "source": [
    "## dataset loading\n",
    "from src.utils import paths_manager as pathsman\n",
    "\n",
    "## Variable declaration for dataset\n",
    "BUILDING = 1\n",
    "START_TIME = \"2015-01-01\"\n",
    "END_TIME = \"2015-03-30\"\n",
    "\n",
    "## Dataset initialization\n",
    "dataset = nilmtk.DataSet(pathsman.UKDALE_H5_PATH)\n",
    "dataset.set_window(start=START_TIME, end=END_TIME)"
   ]
  },
  {
   "cell_type": "code",
   "execution_count": 4,
   "metadata": {},
   "outputs": [],
   "source": [
    "#dataset.buildings[BUILDING].elec"
   ]
  },
  {
   "cell_type": "code",
   "execution_count": 5,
   "metadata": {},
   "outputs": [],
   "source": [
    "# print(dataset.buildings[BUILDING].elec[\"fridge\"])\n",
    "# print(dataset.buildings[BUILDING].elec[\"washer dryer\"])\n",
    "# print(dataset.buildings[BUILDING].elec[\"toasted sandwich maker\"])\n",
    "# print(dataset.buildings[BUILDING].elec[\"dish washer\"])\n",
    "# print(dataset.buildings[BUILDING].elec[\"microwave\"])"
   ]
  },
  {
   "cell_type": "code",
   "execution_count": 6,
   "metadata": {},
   "outputs": [],
   "source": [
    "# dataset.buildings[BUILDING].elec[\"kettle\"].plot()\n",
    "# dataset.buildings[BUILDING].elec[\"toasted sandwich maker\"].plot()\n",
    "# dataset.buildings[BUILDING].elec[\"food processor\"].plot()"
   ]
  },
  {
   "cell_type": "code",
   "execution_count": 7,
   "metadata": {},
   "outputs": [],
   "source": [
    "# ## Initial/raw data plot\n",
    "# dataset.buildings[BUILDING].elec[\"fridge\"].plot()\n",
    "# dataset.buildings[BUILDING].elec[\"washer dryer\"].plot()\n",
    "# dataset.buildings[BUILDING].elec[\"kettle\"].plot()\n",
    "# dataset.buildings[BUILDING].elec[\"dish washer\"].plot()\n",
    "# dataset.buildings[BUILDING].elec[\"microwave\"].plot()"
   ]
  },
  {
   "cell_type": "code",
   "execution_count": 8,
   "metadata": {},
   "outputs": [],
   "source": [
    "# dataset.buildings[BUILDING].elec[\"fridge\"].power_series_all_data().plot()\n",
    "# dataset.buildings[BUILDING].elec[\"washer dryer\"].power_series_all_data().plot()\n",
    "# dataset.buildings[BUILDING].elec[\"kettle\"].power_series_all_data().plot()\n",
    "# dataset.buildings[BUILDING].elec[\"dish washer\"].power_series_all_data().plot()\n",
    "# dataset.buildings[BUILDING].elec[\"microwave\"].power_series_all_data().plot()"
   ]
  },
  {
   "cell_type": "code",
   "execution_count": 9,
   "metadata": {},
   "outputs": [],
   "source": [
    "## Helper Functions\n",
    "\n",
    "def binarization(data,threshold):\n",
    "    \"\"\"[summary]\n",
    "    \n",
    "    Arguments:\n",
    "        data {[type]} -- [description]\n",
    "        threshold {[type]} -- [description]\n",
    "    \n",
    "    Returns:\n",
    "        [type] -- [description]\n",
    "    \"\"\"\n",
    "    state = np.where(data>= threshold,1,0).astype(int)\n",
    "    return state\n",
    "\n",
    "def get_percentile(data,p=50):\n",
    "    \"\"\"[summary]\n",
    "    \n",
    "    Arguments:\n",
    "        data {[type]} -- [description]\n",
    "        quantile {[type]} -- [description]\n",
    "    \n",
    "    Returns:\n",
    "        [type] -- [description]\n",
    "    \"\"\"\n",
    "    return np.percentile(data, p, axis=1, interpolation=\"nearest\")\n",
    "\n",
    "def generate_sequences(sequence_length, data):\n",
    "    sequence_length = sequence_length - 1 if sequence_length% 2==0 else sequence_length\n",
    "    units_to_pad = sequence_length // 2\n",
    "    new_mains = np.pad(data, (units_to_pad,units_to_pad),'constant',constant_values=(0,0))\n",
    "    new_mains = np.array([new_mains[i:i + sequence_length] for i in range(len(new_mains) - sequence_length+1)])\n",
    "    return new_mains\n",
    "\n",
    "def quantile_filter(sequence_length, data, p=50):\n",
    "    new_mains = generate_sequences(sequence_length, data)\n",
    "    new_mains = get_percentile(new_mains, p)\n",
    "    return new_mains"
   ]
  },
  {
   "cell_type": "code",
   "execution_count": 10,
   "metadata": {},
   "outputs": [],
   "source": [
    "## Appliance Dictionary Declaration\n",
    "building = 1\n",
    "appliance = {\n",
    "    \"fridge\" : {\n",
    "        \"window\" : 50,\n",
    "        \"mean\" : float(dataset.buildings[building].elec[\"fridge\"].power_series_all_data().mean()),\n",
    "        \"std\" : float(dataset.buildings[building].elec[\"fridge\"].power_series_all_data().std()),\n",
    "        \"min\" : float(dataset.buildings[building].elec[\"fridge\"].power_series_all_data().min()),\n",
    "        \"max\" : float(dataset.buildings[building].elec[\"fridge\"].power_series_all_data().max())\n",
    "    },\n",
    "    \"washer dryer\" : {\n",
    "        \"window\" : 50,\n",
    "        \"mean\" : float(dataset.buildings[building].elec[\"washer dryer\"].power_series_all_data().mean()),\n",
    "        \"std\" : float(dataset.buildings[building].elec[\"washer dryer\"].power_series_all_data().std()),\n",
    "        \"min\" : float(dataset.buildings[building].elec[\"washer dryer\"].power_series_all_data().min()),\n",
    "        \"max\" : float(dataset.buildings[building].elec[\"washer dryer\"].power_series_all_data().max())\n",
    "    },\n",
    "    \"kettle\" : {\n",
    "        \"window\" : 10,\n",
    "        \"mean\" : float(dataset.buildings[building].elec[\"kettle\"].power_series_all_data().mean()),\n",
    "        \"std\" : float(dataset.buildings[building].elec[\"kettle\"].power_series_all_data().std()),\n",
    "        \"min\" : float(dataset.buildings[building].elec[\"kettle\"].power_series_all_data().min()),\n",
    "        \"max\" : float(dataset.buildings[building].elec[\"kettle\"].power_series_all_data().max())\n",
    "    },\n",
    "    \"dish washer\" : {\n",
    "        \"window\" : 50,\n",
    "        \"mean\" : float(dataset.buildings[building].elec[\"dish washer\"].power_series_all_data().mean()),\n",
    "        \"std\" : float(dataset.buildings[building].elec[\"dish washer\"].power_series_all_data().std()),\n",
    "        \"min\" : float(dataset.buildings[building].elec[\"dish washer\"].power_series_all_data().min()),\n",
    "        \"max\" : float(dataset.buildings[building].elec[\"dish washer\"].power_series_all_data().max())\n",
    "    },\n",
    "    \"microwave\" : {\n",
    "        \"window\" : 10,\n",
    "        \"mean\" : float(dataset.buildings[building].elec[\"microwave\"].power_series_all_data().mean()),\n",
    "        \"std\" : float(dataset.buildings[building].elec[\"microwave\"].power_series_all_data().std()),\n",
    "        \"min\" : float(dataset.buildings[building].elec[\"microwave\"].power_series_all_data().min()),\n",
    "        \"max\" : float(dataset.buildings[building].elec[\"microwave\"].power_series_all_data().max())\n",
    "    }\n",
    "}"
   ]
  },
  {
   "cell_type": "code",
   "execution_count": 11,
   "metadata": {},
   "outputs": [],
   "source": [
    "power_elec = dataset.buildings[building].elec\n",
    "\n",
    "indices = [power_elec[app].power_series_all_data().index for app in appliance.keys()]\n",
    "sorted_indices = sorted(indices, key=len)\n",
    "\n",
    "main_index = sorted_indices[0]\n",
    "reduced_power_series_list = []"
   ]
  },
  {
   "cell_type": "code",
   "execution_count": 12,
   "metadata": {},
   "outputs": [
    {
     "name": "stderr",
     "output_type": "stream",
     "text": [
      "C:\\Users\\MTinaco\\AppData\\Local\\Temp\\ipykernel_62552\\1755866677.py:26: DeprecationWarning: the `interpolation=` argument to percentile was renamed to `method=`, which has additional options.\n",
      "Users of the modes 'nearest', 'lower', 'higher', or 'midpoint' are encouraged to review the method they used. (Deprecated NumPy 1.22)\n",
      "  return np.percentile(data, p, axis=1, interpolation=\"nearest\")\n",
      "C:\\Users\\MTinaco\\AppData\\Local\\Temp\\ipykernel_62552\\1755866677.py:26: DeprecationWarning: the `interpolation=` argument to percentile was renamed to `method=`, which has additional options.\n",
      "Users of the modes 'nearest', 'lower', 'higher', or 'midpoint' are encouraged to review the method they used. (Deprecated NumPy 1.22)\n",
      "  return np.percentile(data, p, axis=1, interpolation=\"nearest\")\n",
      "C:\\Users\\MTinaco\\AppData\\Local\\Temp\\ipykernel_62552\\1755866677.py:26: DeprecationWarning: the `interpolation=` argument to percentile was renamed to `method=`, which has additional options.\n",
      "Users of the modes 'nearest', 'lower', 'higher', or 'midpoint' are encouraged to review the method they used. (Deprecated NumPy 1.22)\n",
      "  return np.percentile(data, p, axis=1, interpolation=\"nearest\")\n",
      "C:\\Users\\MTinaco\\AppData\\Local\\Temp\\ipykernel_62552\\1755866677.py:26: DeprecationWarning: the `interpolation=` argument to percentile was renamed to `method=`, which has additional options.\n",
      "Users of the modes 'nearest', 'lower', 'higher', or 'midpoint' are encouraged to review the method they used. (Deprecated NumPy 1.22)\n",
      "  return np.percentile(data, p, axis=1, interpolation=\"nearest\")\n",
      "C:\\Users\\MTinaco\\AppData\\Local\\Temp\\ipykernel_62552\\1755866677.py:26: DeprecationWarning: the `interpolation=` argument to percentile was renamed to `method=`, which has additional options.\n",
      "Users of the modes 'nearest', 'lower', 'higher', or 'midpoint' are encouraged to review the method they used. (Deprecated NumPy 1.22)\n",
      "  return np.percentile(data, p, axis=1, interpolation=\"nearest\")\n"
     ]
    }
   ],
   "source": [
    "targets = []\n",
    "states = [] \n",
    "\n",
    "for app in appliance.keys():\n",
    "    power_series = power_elec[app].power_series_all_data()\n",
    "    reduced_power_series = power_series[power_series.index.get_indexer(main_index, method=\"nearest\")]\n",
    "    reduced_power_series_list.append(reduced_power_series)\n",
    "    meter = quantile_filter(appliance[app][\"window\"], reduced_power_series, p=50)\n",
    "    state = binarization(meter, power_elec[app].on_power_threshold())\n",
    "    targets.append(meter)\n",
    "    states.append(state)"
   ]
  },
  {
   "cell_type": "code",
   "execution_count": 13,
   "metadata": {},
   "outputs": [
    {
     "data": {
      "image/png": "[encoded data removed]",
      "text/plain": [
       "<Figure size 640x480 with 1 Axes>"
      ]
     },
     "metadata": {},
     "output_type": "display_data"
    }
   ],
   "source": [
    "zero, one = extract_states(states)\n",
    "state_plot(zero, one)"
   ]
  },
  {
   "attachments": {},
   "cell_type": "markdown",
   "metadata": {},
   "source": [
    "## With Data Shuffler"
   ]
  },
  {
   "cell_type": "code",
   "execution_count": 14,
   "metadata": {},
   "outputs": [],
   "source": [
    "def quantile_filter_2(sequence_length, data, p=50):\n",
    "    new_mains = F.scan_sequences(data=data, mode=\"odd_window\", seq_len=sequence_length)\n",
    "    new_mains = np.percentile(new_mains, p, axis=1, interpolation=\"nearest\")\n",
    "    return new_mains"
   ]
  },
  {
   "cell_type": "code",
   "execution_count": 15,
   "metadata": {},
   "outputs": [],
   "source": [
    "FRIDGE_FREEZER = \"fridge freezer\"\n",
    "KETTLE = \"kettle\"\n",
    "DISHWASHER = \"dish washer\"\n",
    "MICROWAVE = \"microwave\"\n",
    "WASHER_DRYER = \"washer dryer\"\n",
    "\n",
    "applist = [FRIDGE_FREEZER, WASHER_DRYER, KETTLE, DISHWASHER, MICROWAVE]"
   ]
  },
  {
   "cell_type": "code",
   "execution_count": 16,
   "metadata": {},
   "outputs": [
    {
     "name": "stdout",
     "output_type": "stream",
     "text": [
      "Activation stats in the period [2015-01-01, 2015-03-30]\n"
     ]
    },
    {
     "data": {
      "text/html": [
       "<div>\n",
       "<style scoped>\n",
       "    .dataframe tbody tr th:only-of-type {\n",
       "        vertical-align: middle;\n",
       "    }\n",
       "\n",
       "    .dataframe tbody tr th {\n",
       "        vertical-align: top;\n",
       "    }\n",
       "\n",
       "    .dataframe thead th {\n",
       "        text-align: right;\n",
       "    }\n",
       "</style>\n",
       "<table border=\"1\" class=\"dataframe\">\n",
       "  <thead>\n",
       "    <tr style=\"text-align: right;\">\n",
       "      <th></th>\n",
       "      <th>No. of Activations</th>\n",
       "      <th>Average Length</th>\n",
       "      <th>Max Length</th>\n",
       "      <th>Min Length</th>\n",
       "    </tr>\n",
       "  </thead>\n",
       "  <tbody>\n",
       "    <tr>\n",
       "      <th>fridge freezer</th>\n",
       "      <td>2092</td>\n",
       "      <td>249.163958</td>\n",
       "      <td>3570</td>\n",
       "      <td>53</td>\n",
       "    </tr>\n",
       "    <tr>\n",
       "      <th>washer dryer</th>\n",
       "      <td>98</td>\n",
       "      <td>1008.918367</td>\n",
       "      <td>1308</td>\n",
       "      <td>246</td>\n",
       "    </tr>\n",
       "    <tr>\n",
       "      <th>kettle</th>\n",
       "      <td>458</td>\n",
       "      <td>27.174672</td>\n",
       "      <td>103</td>\n",
       "      <td>7</td>\n",
       "    </tr>\n",
       "    <tr>\n",
       "      <th>dish washer</th>\n",
       "      <td>31</td>\n",
       "      <td>1086.935484</td>\n",
       "      <td>1181</td>\n",
       "      <td>598</td>\n",
       "    </tr>\n",
       "    <tr>\n",
       "      <th>microwave</th>\n",
       "      <td>804</td>\n",
       "      <td>18.865672</td>\n",
       "      <td>142</td>\n",
       "      <td>7</td>\n",
       "    </tr>\n",
       "  </tbody>\n",
       "</table>\n",
       "</div>"
      ],
      "text/plain": [
       "                No. of Activations  Average Length  Max Length  Min Length\n",
       "fridge freezer                2092      249.163958        3570          53\n",
       "washer dryer                    98     1008.918367        1308         246\n",
       "kettle                         458       27.174672         103           7\n",
       "dish washer                     31     1086.935484        1181         598\n",
       "microwave                      804       18.865672         142           7"
      ]
     },
     "execution_count": 16,
     "metadata": {},
     "output_type": "execute_result"
    }
   ],
   "source": [
    "print(f\"Activation stats in the period [{START_TIME}, {END_TIME}]\")\n",
    "row = []\n",
    "\n",
    "for app in applist:\n",
    "    col = []\n",
    "    app_name = app.upper()\n",
    "    activations = power_elec[app].get_activations()\n",
    "    total_num = len(activations)\n",
    "    average_length = stat.mean(map(len, activations))\n",
    "    max_length = max(map(len, activations))\n",
    "    min_length = min(map(len, activations))\n",
    "    col.append(total_num)\n",
    "    col.append(average_length)\n",
    "    col.append(max_length)\n",
    "    col.append(min_length)\n",
    "    row.append(col)\n",
    "\n",
    "pd.DataFrame(row, columns=[\"No. of Activations\", \"Average Length\", \"Max Length\", \"Min Length\"], index=applist)"
   ]
  },
  {
   "cell_type": "code",
   "execution_count": 17,
   "metadata": {},
   "outputs": [],
   "source": [
    "def collect_sequence(appliance, num_windows, seq_len=100, mode=\"adaptive\"):\n",
    "        collections = []\n",
    "        for activation in power_elec[appliance].get_activations():\n",
    "                collections = collections + F.scan_sequences(np.array(activation), seq_len=seq_len, num_windows=num_windows, mode=mode)\n",
    "        return collections"
   ]
  },
  {
   "cell_type": "code",
   "execution_count": 18,
   "metadata": {},
   "outputs": [
    {
     "data": {
      "text/html": [
       "<div>\n",
       "<style scoped>\n",
       "    .dataframe tbody tr th:only-of-type {\n",
       "        vertical-align: middle;\n",
       "    }\n",
       "\n",
       "    .dataframe tbody tr th {\n",
       "        vertical-align: top;\n",
       "    }\n",
       "\n",
       "    .dataframe thead th {\n",
       "        text-align: right;\n",
       "    }\n",
       "</style>\n",
       "<table border=\"1\" class=\"dataframe\">\n",
       "  <thead>\n",
       "    <tr style=\"text-align: right;\">\n",
       "      <th></th>\n",
       "      <th>fridge freezer</th>\n",
       "      <th>washer dryer</th>\n",
       "      <th>kettle</th>\n",
       "      <th>dish washer</th>\n",
       "      <th>microwave</th>\n",
       "    </tr>\n",
       "  </thead>\n",
       "  <tbody>\n",
       "    <tr>\n",
       "      <th>filter_window</th>\n",
       "      <td>50</td>\n",
       "      <td>50</td>\n",
       "      <td>50</td>\n",
       "      <td>10</td>\n",
       "      <td>50</td>\n",
       "    </tr>\n",
       "    <tr>\n",
       "      <th>window</th>\n",
       "      <td>(5, 5)</td>\n",
       "      <td>23</td>\n",
       "      <td>5</td>\n",
       "      <td>70</td>\n",
       "      <td>3</td>\n",
       "    </tr>\n",
       "    <tr>\n",
       "      <th>mode</th>\n",
       "      <td>tail</td>\n",
       "      <td>adaptive</td>\n",
       "      <td>adaptive</td>\n",
       "      <td>adaptive</td>\n",
       "      <td>adaptive</td>\n",
       "    </tr>\n",
       "    <tr>\n",
       "      <th>min</th>\n",
       "      <td>0</td>\n",
       "      <td>0</td>\n",
       "      <td>0</td>\n",
       "      <td>0</td>\n",
       "      <td>0</td>\n",
       "    </tr>\n",
       "    <tr>\n",
       "      <th>max</th>\n",
       "      <td>0</td>\n",
       "      <td>0</td>\n",
       "      <td>0</td>\n",
       "      <td>0</td>\n",
       "      <td>0</td>\n",
       "    </tr>\n",
       "    <tr>\n",
       "      <th>Total collected sequences</th>\n",
       "      <td>20842</td>\n",
       "      <td>2150</td>\n",
       "      <td>2286</td>\n",
       "      <td>2160</td>\n",
       "      <td>2404</td>\n",
       "    </tr>\n",
       "  </tbody>\n",
       "</table>\n",
       "</div>"
      ],
      "text/plain": [
       "                          fridge freezer washer dryer    kettle dish washer  \\\n",
       "filter_window                         50           50        50          10   \n",
       "window                            (5, 5)           23         5          70   \n",
       "mode                                tail     adaptive  adaptive    adaptive   \n",
       "min                                    0            0         0           0   \n",
       "max                                    0            0         0           0   \n",
       "Total collected sequences          20842         2150      2286        2160   \n",
       "\n",
       "                          microwave  \n",
       "filter_window                    50  \n",
       "window                            3  \n",
       "mode                       adaptive  \n",
       "min                               0  \n",
       "max                               0  \n",
       "Total collected sequences      2404  "
      ]
     },
     "execution_count": 18,
     "metadata": {},
     "output_type": "execute_result"
    }
   ],
   "source": [
    "info = {\n",
    "        FRIDGE_FREEZER : {\n",
    "                \"filter_window\" : 50,\n",
    "                \"window\" : (5, 5),\n",
    "                \"mode\" : \"tail\",\n",
    "                \"min\" : 0,\n",
    "                \"max\" : 0,\n",
    "                \"on_power_threshold\" : 10,\n",
    "        },\n",
    "        WASHER_DRYER : {               \n",
    "                \"filter_window\" : 50,\n",
    "                \"window\" : 23,\n",
    "                \"mode\" : \"adaptive\",\n",
    "                \"min\" : 0,\n",
    "                \"max\" : 0,\n",
    "                \"on_power_threshold\" : 10,\n",
    "        },\n",
    "        KETTLE : {\n",
    "                \"filter_window\" : 50,\n",
    "                \"window\" : 5,\n",
    "                \"mode\" : \"adaptive\",\n",
    "                \"min\" : 0,\n",
    "                \"max\" : 0,\n",
    "                \"on_power_threshold\" : 10,\n",
    "        },\n",
    "        DISHWASHER : {\n",
    "                \"filter_window\" : 10,\n",
    "                \"window\" : 70,\n",
    "                \"mode\" : \"adaptive\",\n",
    "                \"min\" : 0,\n",
    "                \"max\" : 0,\n",
    "                \"on_power_threshold\" : 10,\n",
    "        },\n",
    "        MICROWAVE : {\n",
    "                \"filter_window\" : 50,\n",
    "                \"window\" : 3,\n",
    "                \"mode\" : \"adaptive\",\n",
    "                \"min\" : 0,\n",
    "                \"max\" : 0,\n",
    "                \"on_power_threshold\" : 10,\n",
    "        }\n",
    "}\n",
    "targets_store = defaultdict(list)\n",
    "\n",
    "for app in applist:\n",
    "        collected_sequences = collect_sequence(app, num_windows=info[app][\"window\"], mode=info[app][\"mode\"])\n",
    "        info[app][\"Total collected sequences\"] = len(collected_sequences)\n",
    "        targets_store[app] = collected_sequences\n",
    "\n",
    "pd.DataFrame(info)"
   ]
  },
  {
   "cell_type": "code",
   "execution_count": null,
   "metadata": {},
   "outputs": [],
   "source": [
    "    "
   ]
  },
  {
   "cell_type": "code",
   "execution_count": 19,
   "metadata": {},
   "outputs": [],
   "source": [
    "extended_targets_store = deepcopy(targets_store)\n",
    "\n",
    "fridge_extender = collect_sequence(FRIDGE_FREEZER, num_windows=2, seq_len=100, mode= \"window\")\n",
    "extended_targets_store[FRIDGE_FREEZER].extend(fridge_extender)\n",
    "\n",
    "washer_extender = collect_sequence(FRIDGE_FREEZER, num_windows=(5, 5), seq_len=100, mode= \"tail\")\n",
    "extended_targets_store[WASHER_DRYER].extend(washer_extender)\n",
    "\n",
    "extended_targets_store[DISHWASHER].extend([np.zeros(100) for _ in range(1000)])\n",
    "extended_targets_store[KETTLE].extend([np.zeros(100) for _ in range(1000)])\n",
    "extended_targets_store[MICROWAVE].extend([np.zeros(100) for _ in range(1000)])"
   ]
  },
  {
   "cell_type": "code",
   "execution_count": 41,
   "metadata": {},
   "outputs": [],
   "source": [
    "NUM_SAMPLES = 10000\n",
    "SEQUENCE_LENGTH = 100\n",
    "rsm = RandomSequenceMixer(*(extended_targets_store[app] for app in applist))\n",
    "\n",
    "main_meter_array = np.zeros(NUM_SAMPLES*SEQUENCE_LENGTH)\n",
    "submeter_container = [np.zeros(NUM_SAMPLES*SEQUENCE_LENGTH) for _ in range(len(applist))]"
   ]
  },
  {
   "cell_type": "code",
   "execution_count": 42,
   "metadata": {},
   "outputs": [],
   "source": [
    "from concurrent.futures import ThreadPoolExecutor, wait\n",
    "import time\n",
    "\n",
    "with ThreadPoolExecutor(max_workers=3) as executor:\n",
    "        # first_target, first_meter = rsm.get()\n",
    "\n",
    "        for arr in range(NUM_SAMPLES):\n",
    "                future = executor.submit(rsm.get)\n",
    "                targets = future.result()[0]\n",
    "                main_meter = future.result()[1]\n",
    "\n",
    "                for idx, target in enumerate(targets):\n",
    "                        submeter_container[idx][SEQUENCE_LENGTH*arr:SEQUENCE_LENGTH*(arr+1)] = target\n",
    "                \n",
    "                main_meter_array[SEQUENCE_LENGTH*arr:SEQUENCE_LENGTH*(arr+1)] = main_meter\n",
    "        "
   ]
  },
  {
   "cell_type": "code",
   "execution_count": 43,
   "metadata": {},
   "outputs": [
    {
     "name": "stderr",
     "output_type": "stream",
     "text": [
      "C:\\Users\\MTinaco\\AppData\\Local\\Temp\\ipykernel_62552\\2094214197.py:3: DeprecationWarning: the `interpolation=` argument to percentile was renamed to `method=`, which has additional options.\n",
      "Users of the modes 'nearest', 'lower', 'higher', or 'midpoint' are encouraged to review the method they used. (Deprecated NumPy 1.22)\n",
      "  new_mains = np.percentile(new_mains, p, axis=1, interpolation=\"nearest\")\n"
     ]
    }
   ],
   "source": [
    "targets = []\n",
    "states = []\n",
    "\n",
    "for i, app in enumerate(applist):\n",
    "        meter = quantile_filter_2(info[app][\"filter_window\"], submeter_container[i], p=50)\n",
    "        state = binarization(meter, power_elec[app].on_power_threshold())\n",
    "        info[app]['min'] = 0.0\n",
    "        info[app]['max'] = meter.max()\n",
    "        info[app]['on_power_threshold'] = power_elec[app].on_power_threshold()\n",
    "\n",
    "        meter = (meter - info[app]['min'])/(info[app]['max'] - info[app]['min'])\n",
    "\n",
    "        targets.append(meter)\n",
    "        states.append(state)"
   ]
  },
  {
   "cell_type": "code",
   "execution_count": 44,
   "metadata": {},
   "outputs": [
    {
     "data": {
      "text/plain": [
       "{'fridge freezer': {'filter_window': 50,\n",
       "  'window': (5, 5),\n",
       "  'mode': 'tail',\n",
       "  'min': 0.0,\n",
       "  'max': 259.0,\n",
       "  'Total collected sequences': 20842,\n",
       "  'on_power_threshold': 50},\n",
       " 'washer dryer': {'filter_window': 50,\n",
       "  'window': 23,\n",
       "  'mode': 'adaptive',\n",
       "  'min': 0.0,\n",
       "  'max': 2055.0,\n",
       "  'Total collected sequences': 2150,\n",
       "  'on_power_threshold': 20},\n",
       " 'kettle': {'filter_window': 50,\n",
       "  'window': 5,\n",
       "  'mode': 'adaptive',\n",
       "  'min': 0.0,\n",
       "  'max': 2413.0,\n",
       "  'Total collected sequences': 2286,\n",
       "  'on_power_threshold': 10},\n",
       " 'dish washer': {'filter_window': 10,\n",
       "  'window': 70,\n",
       "  'mode': 'adaptive',\n",
       "  'min': 0.0,\n",
       "  'max': 2439.0,\n",
       "  'Total collected sequences': 2160,\n",
       "  'on_power_threshold': 10},\n",
       " 'microwave': {'filter_window': 50,\n",
       "  'window': 3,\n",
       "  'mode': 'adaptive',\n",
       "  'min': 0.0,\n",
       "  'max': 1570.0,\n",
       "  'Total collected sequences': 2404,\n",
       "  'on_power_threshold': 200}}"
      ]
     },
     "execution_count": 44,
     "metadata": {},
     "output_type": "execute_result"
    }
   ],
   "source": [
    "info"
   ]
  },
  {
   "cell_type": "code",
   "execution_count": 45,
   "metadata": {},
   "outputs": [
    {
     "data": {
      "image/png": "[encoded data removed]",
      "text/plain": [
       "<Figure size 640x480 with 1 Axes>"
      ]
     },
     "metadata": {},
     "output_type": "display_data"
    }
   ],
   "source": [
    "zero, one = extract_states(states)\n",
    "state_plot(zero, one)"
   ]
  },
  {
   "cell_type": "code",
   "execution_count": 46,
   "metadata": {},
   "outputs": [],
   "source": [
    "states = np.stack(states).T\n",
    "targets = np.stack(targets).T"
   ]
  },
  {
   "cell_type": "code",
   "execution_count": 47,
   "metadata": {},
   "outputs": [],
   "source": [
    "# for normalization\n",
    "mains_max = power_elec.mains().power_series_all_data().max()\n",
    "mains_min = power_elec.mains().power_series_all_data().min()"
   ]
  },
  {
   "cell_type": "code",
   "execution_count": 48,
   "metadata": {},
   "outputs": [
    {
     "name": "stderr",
     "output_type": "stream",
     "text": [
      "C:\\Users\\MTinaco\\AppData\\Local\\Temp\\ipykernel_62552\\2094214197.py:3: DeprecationWarning: the `interpolation=` argument to percentile was renamed to `method=`, which has additional options.\n",
      "Users of the modes 'nearest', 'lower', 'higher', or 'midpoint' are encouraged to review the method they used. (Deprecated NumPy 1.22)\n",
      "  new_mains = np.percentile(new_mains, p, axis=1, interpolation=\"nearest\")\n"
     ]
    }
   ],
   "source": [
    "mains_denoise = quantile_filter_2(10, main_meter_array, 50)\n",
    "mains = main_meter_array-np.percentile(main_meter_array, 1)\n",
    "mains = np.where(mains < mains_denoise, mains_denoise, mains)\n",
    "mains = quantile_filter_2(10, mains, 50)"
   ]
  },
  {
   "cell_type": "code",
   "execution_count": 49,
   "metadata": {},
   "outputs": [],
   "source": [
    "norm_mains_denoise = (mains_denoise - mains_denoise.min())/(mains_denoise.max() - mains_denoise.min())\n",
    "norm_mains = (mains - mains_min)/(mains_max - mains_min)"
   ]
  },
  {
   "cell_type": "code",
   "execution_count": 50,
   "metadata": {},
   "outputs": [],
   "source": [
    "save_path = Path(\"to_dataloader/test3/\")\n",
    "save_path.mkdir(exist_ok=True)"
   ]
  },
  {
   "cell_type": "code",
   "execution_count": 51,
   "metadata": {},
   "outputs": [],
   "source": [
    "np.save(str(save_path) + \"/denoise_inputs.npy\", norm_mains_denoise)\n",
    "np.save(str(save_path) + \"/noise_inputs.npy\", norm_mains)\n",
    "np.save(str(save_path) + \"/targets.npy\", targets)\n",
    "np.save(str(save_path) + \"/states.npy\", states)"
   ]
  },
  {
   "cell_type": "markdown",
   "metadata": {},
   "source": []
  },
  {
   "cell_type": "code",
   "execution_count": null,
   "metadata": {},
   "outputs": [],
   "source": []
  }
 ],
 "metadata": {
  "kernelspec": {
   "display_name": "venv",
   "language": "python",
   "name": "python3"
  },
  "language_info": {
   "codemirror_mode": {
    "name": "ipython",
    "version": 3
   },
   "file_extension": ".py",
   "mimetype": "text/x-python",
   "name": "python",
   "nbconvert_exporter": "python",
   "pygments_lexer": "ipython3",
   "version": "3.8.10"
  },
  "orig_nbformat": 4,
  "vscode": {
   "interpreter": {
    "hash": "10a9a30f28fd241a93da53fece6779df67a4a47459630003d251de2cb970c542"
   }
  }
 },
 "nbformat": 4,
 "nbformat_minor": 2
}
