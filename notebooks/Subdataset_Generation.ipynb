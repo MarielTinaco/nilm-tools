{
 "cells": [
  {
   "cell_type": "code",
   "execution_count": 1,
   "metadata": {},
   "outputs": [],
   "source": [
    "import sys, os\n",
    "\n",
    "import random\n",
    "import statistics as stat\n",
    "import pandas as pd\n",
    "import numpy as np\n",
    "import matplotlib.pyplot as plt\n",
    "%matplotlib inline\n",
    "\n",
    "import nilmtk\n",
    "\n",
    "sys.path.append(os.path.dirname(os.getcwd()))\n"
   ]
  },
  {
   "attachments": {},
   "cell_type": "markdown",
   "metadata": {},
   "source": [
    "## Import local modules"
   ]
  },
  {
   "cell_type": "code",
   "execution_count": 2,
   "metadata": {},
   "outputs": [],
   "source": [
    "import src.functions as F\n",
    "from src.enumerations import *\n",
    "from src.objs import DatasetProfile, ProfileHandler, NormalizationHandler\n",
    "from src.utils import paths_manager as pathsman\n",
    "from src.stats.Statistical_analysis import extract_states, state_plot\n"
   ]
  },
  {
   "attachments": {},
   "cell_type": "markdown",
   "metadata": {},
   "source": [
    "## Constants"
   ]
  },
  {
   "cell_type": "code",
   "execution_count": 3,
   "metadata": {},
   "outputs": [],
   "source": [
    "## Variable declaration for dataset\n",
    "BUILDING = 1\n",
    "START_TIME = \"2015-01-01\"\n",
    "END_TIME = \"2015-01-15\"\n",
    "\n",
    "FRIDGE_FREEZER = \"fridge freezer\"\n",
    "KETTLE = \"kettle\"\n",
    "DISHWASHER = \"dish washer\"\n",
    "MICROWAVE = \"microwave\"\n",
    "WASHER_DRYER = \"washer dryer\"\n",
    "\n",
    "applist = [FRIDGE_FREEZER, WASHER_DRYER, KETTLE, DISHWASHER, MICROWAVE]\n"
   ]
  },
  {
   "attachments": {},
   "cell_type": "markdown",
   "metadata": {},
   "source": [
    "## Subsect Dataset"
   ]
  },
  {
   "cell_type": "code",
   "execution_count": 4,
   "metadata": {},
   "outputs": [],
   "source": [
    "## Dataset initialization\n",
    "dataset = nilmtk.DataSet(pathsman.UKDALE_H5_PATH)\n",
    "dataset.set_window(start=START_TIME, end=END_TIME)"
   ]
  },
  {
   "cell_type": "code",
   "execution_count": 5,
   "metadata": {},
   "outputs": [],
   "source": [
    "def quantile_filter_2(sequence_length, data, p=50):\n",
    "    new_mains = F.scan_sequences(data=data, mode=\"odd_window\", seq_len=sequence_length)\n",
    "    new_mains = np.percentile(new_mains, p, axis=1, interpolation=\"nearest\")\n",
    "    return new_mains"
   ]
  },
  {
   "cell_type": "code",
   "execution_count": 6,
   "metadata": {},
   "outputs": [],
   "source": [
    "power_elec = dataset.buildings[BUILDING].elec"
   ]
  },
  {
   "cell_type": "code",
   "execution_count": 7,
   "metadata": {},
   "outputs": [
    {
     "name": "stdout",
     "output_type": "stream",
     "text": [
      "Activation stats in the period [2015-01-01, 2015-01-15]\n"
     ]
    },
    {
     "data": {
      "text/html": [
       "<div>\n",
       "<style scoped>\n",
       "    .dataframe tbody tr th:only-of-type {\n",
       "        vertical-align: middle;\n",
       "    }\n",
       "\n",
       "    .dataframe tbody tr th {\n",
       "        vertical-align: top;\n",
       "    }\n",
       "\n",
       "    .dataframe thead th {\n",
       "        text-align: right;\n",
       "    }\n",
       "</style>\n",
       "<table border=\"1\" class=\"dataframe\">\n",
       "  <thead>\n",
       "    <tr style=\"text-align: right;\">\n",
       "      <th></th>\n",
       "      <th>No. of Activations</th>\n",
       "      <th>Average Length</th>\n",
       "      <th>Max Length</th>\n",
       "      <th>Min Length</th>\n",
       "    </tr>\n",
       "  </thead>\n",
       "  <tbody>\n",
       "    <tr>\n",
       "      <th>fridge freezer</th>\n",
       "      <td>328</td>\n",
       "      <td>241.978659</td>\n",
       "      <td>1310</td>\n",
       "      <td>94</td>\n",
       "    </tr>\n",
       "    <tr>\n",
       "      <th>washer dryer</th>\n",
       "      <td>12</td>\n",
       "      <td>1021.666667</td>\n",
       "      <td>1204</td>\n",
       "      <td>893</td>\n",
       "    </tr>\n",
       "    <tr>\n",
       "      <th>kettle</th>\n",
       "      <td>57</td>\n",
       "      <td>27.315789</td>\n",
       "      <td>57</td>\n",
       "      <td>7</td>\n",
       "    </tr>\n",
       "    <tr>\n",
       "      <th>dish washer</th>\n",
       "      <td>4</td>\n",
       "      <td>1028.250000</td>\n",
       "      <td>1033</td>\n",
       "      <td>1022</td>\n",
       "    </tr>\n",
       "    <tr>\n",
       "      <th>microwave</th>\n",
       "      <td>118</td>\n",
       "      <td>18.932203</td>\n",
       "      <td>119</td>\n",
       "      <td>7</td>\n",
       "    </tr>\n",
       "  </tbody>\n",
       "</table>\n",
       "</div>"
      ],
      "text/plain": [
       "                No. of Activations  Average Length  Max Length  Min Length\n",
       "fridge freezer                 328      241.978659        1310          94\n",
       "washer dryer                    12     1021.666667        1204         893\n",
       "kettle                          57       27.315789          57           7\n",
       "dish washer                      4     1028.250000        1033        1022\n",
       "microwave                      118       18.932203         119           7"
      ]
     },
     "execution_count": 7,
     "metadata": {},
     "output_type": "execute_result"
    }
   ],
   "source": [
    "print(f\"Activation stats in the period [{START_TIME}, {END_TIME}]\")\n",
    "row = []\n",
    "\n",
    "for app in applist:\n",
    "    col = []\n",
    "    app_name = app.upper()\n",
    "    activations = power_elec[app].get_activations()\n",
    "    total_num = len(activations)\n",
    "    average_length = stat.mean(map(len, activations))\n",
    "    max_length = max(map(len, activations))\n",
    "    min_length = min(map(len, activations))\n",
    "    col.append(total_num)\n",
    "    col.append(average_length)\n",
    "    col.append(max_length)\n",
    "    col.append(min_length)\n",
    "    row.append(col)\n",
    "\n",
    "pd.DataFrame(row, columns=[\"No. of Activations\", \"Average Length\", \"Max Length\", \"Min Length\"], index=applist)"
   ]
  },
  {
   "cell_type": "code",
   "execution_count": 8,
   "metadata": {},
   "outputs": [],
   "source": [
    "info = {\n",
    "        FRIDGE_FREEZER : {\n",
    "                \"window\" : 50,\n",
    "                \"min\" : 0,\n",
    "                \"max\" : 0,\n",
    "                \"on_power_threshold\" : 10,\n",
    "        },\n",
    "        WASHER_DRYER : {               \n",
    "                \"window\" : 50,\n",
    "                \"min\" : 0,\n",
    "                \"max\" : 0,\n",
    "                \"on_power_threshold\" : 10,\n",
    "        },\n",
    "        KETTLE : {\n",
    "                \"window\" : 50,\n",
    "                \"min\" : 0,\n",
    "                \"max\" : 0,\n",
    "                \"on_power_threshold\" : 10,\n",
    "        },\n",
    "        DISHWASHER : {\n",
    "                \"window\" : 10,\n",
    "                \"min\" : 0,\n",
    "                \"max\" : 0,\n",
    "                \"on_power_threshold\" : 10,\n",
    "        },\n",
    "        MICROWAVE : {\n",
    "                \"window\" : 50,\n",
    "                \"min\" : 0,\n",
    "                \"max\" : 0,\n",
    "                \"on_power_threshold\" : 10,\n",
    "        }\n",
    "}"
   ]
  },
  {
   "cell_type": "code",
   "execution_count": 9,
   "metadata": {},
   "outputs": [],
   "source": [
    "FULL_NUM_SAMPLES = 1200000\n",
    "\n",
    "ACTIVATION_EXTENSION_MAPPING = {\n",
    "    FRIDGE_FREEZER : {\n",
    "        \"mode\" : \"randomizer\",\n",
    "        \"interval\" : lambda : random.randint(70, 400),\n",
    "    },\n",
    "    WASHER_DRYER : {\n",
    "        \"mode\" : \"randomizer\",\n",
    "        \"interval\" : lambda : random.randint(200, 1700),\n",
    "    },\n",
    "    KETTLE : {\n",
    "        \"mode\" : \"randomizer\",\n",
    "        \"interval\" : lambda : random.randint(200, 1700),\n",
    "    },\n",
    "    DISHWASHER : {\n",
    "        \"mode\" : \"randomizer\",\n",
    "        \"interval\" : lambda : random.randint(200, 1700),\n",
    "    },\n",
    "    MICROWAVE : {\n",
    "        \"mode\" : \"randomizer\",\n",
    "        \"interval\" : lambda : random.randint(10, 700),\n",
    "    },\n",
    "}"
   ]
  },
  {
   "cell_type": "code",
   "execution_count": 10,
   "metadata": {},
   "outputs": [
    {
     "name": "stderr",
     "output_type": "stream",
     "text": [
      "C:\\Users\\MTinaco\\AppData\\Local\\Temp\\ipykernel_48428\\2094214197.py:3: DeprecationWarning: the `interpolation=` argument to percentile was renamed to `method=`, which has additional options.\n",
      "Users of the modes 'nearest', 'lower', 'higher', or 'midpoint' are encouraged to review the method they used. (Deprecated NumPy 1.22)\n",
      "  new_mains = np.percentile(new_mains, p, axis=1, interpolation=\"nearest\")\n",
      "C:\\Users\\MTinaco\\AppData\\Local\\Temp\\ipykernel_48428\\2094214197.py:3: DeprecationWarning: the `interpolation=` argument to percentile was renamed to `method=`, which has additional options.\n",
      "Users of the modes 'nearest', 'lower', 'higher', or 'midpoint' are encouraged to review the method they used. (Deprecated NumPy 1.22)\n",
      "  new_mains = np.percentile(new_mains, p, axis=1, interpolation=\"nearest\")\n",
      "C:\\Users\\MTinaco\\AppData\\Local\\Temp\\ipykernel_48428\\2094214197.py:3: DeprecationWarning: the `interpolation=` argument to percentile was renamed to `method=`, which has additional options.\n",
      "Users of the modes 'nearest', 'lower', 'higher', or 'midpoint' are encouraged to review the method they used. (Deprecated NumPy 1.22)\n",
      "  new_mains = np.percentile(new_mains, p, axis=1, interpolation=\"nearest\")\n",
      "C:\\Users\\MTinaco\\AppData\\Local\\Temp\\ipykernel_48428\\2094214197.py:3: DeprecationWarning: the `interpolation=` argument to percentile was renamed to `method=`, which has additional options.\n",
      "Users of the modes 'nearest', 'lower', 'higher', or 'midpoint' are encouraged to review the method they used. (Deprecated NumPy 1.22)\n",
      "  new_mains = np.percentile(new_mains, p, axis=1, interpolation=\"nearest\")\n",
      "C:\\Users\\MTinaco\\AppData\\Local\\Temp\\ipykernel_48428\\2094214197.py:3: DeprecationWarning: the `interpolation=` argument to percentile was renamed to `method=`, which has additional options.\n",
      "Users of the modes 'nearest', 'lower', 'higher', or 'midpoint' are encouraged to review the method they used. (Deprecated NumPy 1.22)\n",
      "  new_mains = np.percentile(new_mains, p, axis=1, interpolation=\"nearest\")\n"
     ]
    },
    {
     "data": {
      "image/png": "[encoded data removed]",
      "text/plain": [
       "<Figure size 640x480 with 1 Axes>"
      ]
     },
     "metadata": {},
     "output_type": "display_data"
    }
   ],
   "source": [
    "states = []\n",
    "targets = []\n",
    "unfiltered_power = []\n",
    "\n",
    "normalizer = NormalizationHandler(mode=\"minmax\", min_val=0, max_val=3300)\n",
    "\n",
    "for app in applist:\n",
    "        elec = power_elec[app]\n",
    "        mode = ACTIVATION_EXTENSION_MAPPING[app][\"mode\"]\n",
    "        interval = ACTIVATION_EXTENSION_MAPPING[app][\"interval\"]\n",
    "\n",
    "        extended_activations = F.extend_activations(elec, mode=mode, num_full_samples=FULL_NUM_SAMPLES, interval=interval)\n",
    "        unfiltered_power.append(extended_activations)\n",
    "        filtered_data = quantile_filter_2(info[app][\"window\"], extended_activations, p=50)\n",
    "        info[app]['min'] = 0.0\n",
    "        info[app]['max'] = filtered_data.max()\n",
    "        info[app]['on_power_threshold'] = elec.on_power_threshold()\n",
    "        binarized_data = F.binarization(filtered_data, mode=\"threshold\", threshold=power_elec[app].on_power_threshold())\n",
    "        normalizer.select_mode(mode=\"minmax\", min_val=info[app]['min'], max_val=info[app]['max'])\n",
    "        normalized_data = normalizer.normalize(filtered_data)\n",
    "        states.append(binarized_data)\n",
    "        targets.append(normalized_data)\n",
    "\n",
    "zero, one = extract_states(states)\n",
    "state_plot(zero, one)"
   ]
  },
  {
   "cell_type": "code",
   "execution_count": 11,
   "metadata": {},
   "outputs": [],
   "source": [
    "states = np.stack(states).T\n",
    "targets = np.stack(targets).T"
   ]
  },
  {
   "cell_type": "code",
   "execution_count": 12,
   "metadata": {},
   "outputs": [],
   "source": [
    "mains = np.sum(unfiltered_power, axis=0)"
   ]
  },
  {
   "cell_type": "code",
   "execution_count": 13,
   "metadata": {},
   "outputs": [
    {
     "name": "stderr",
     "output_type": "stream",
     "text": [
      "C:\\Users\\MTinaco\\AppData\\Local\\Temp\\ipykernel_48428\\2094214197.py:3: DeprecationWarning: the `interpolation=` argument to percentile was renamed to `method=`, which has additional options.\n",
      "Users of the modes 'nearest', 'lower', 'higher', or 'midpoint' are encouraged to review the method they used. (Deprecated NumPy 1.22)\n",
      "  new_mains = np.percentile(new_mains, p, axis=1, interpolation=\"nearest\")\n"
     ]
    }
   ],
   "source": [
    "mains_denoise = quantile_filter_2(10, mains, 50)\n",
    "mains = mains-np.percentile(mains, 1)\n",
    "mains = np.where(mains < mains_denoise, mains_denoise, mains)\n",
    "mains = quantile_filter_2(10, mains, 50)"
   ]
  },
  {
   "cell_type": "code",
   "execution_count": 14,
   "metadata": {},
   "outputs": [],
   "source": [
    "normalizer.select_mode(mode=\"minmax\", min_val=mains_denoise.min(), max_val=mains_denoise.max())\n",
    "norm_mains_denoise = normalizer.normalize(mains_denoise)\n",
    "\n",
    "normalizer.select_mode(mode=\"minmax\", min_val=mains.min(), max_val=mains.max())\n",
    "norm_mains = normalizer.normalize(mains)"
   ]
  },
  {
   "attachments": {},
   "cell_type": "markdown",
   "metadata": {},
   "source": [
    "## Profile Handling"
   ]
  },
  {
   "cell_type": "code",
   "execution_count": 15,
   "metadata": {},
   "outputs": [
    {
     "data": {
      "text/plain": [
       "DatasetProfile(parent_dir=WindowsPath('c:/Users/MTinaco/Dev/Solutions/cos-algo-nilm/src/utils/../../profiles'), handler='unetnilm', dataset_name='ukdale', metadata={'fridge freezer': {'window': 50, 'min': 0.0, 'max': 255.0, 'on_power_threshold': 50}, 'washer dryer': {'window': 50, 'min': 0.0, 'max': 2055.0, 'on_power_threshold': 20}, 'kettle': {'window': 50, 'min': 0.0, 'max': 2364.0, 'on_power_threshold': 10}, 'dish washer': {'window': 10, 'min': 0.0, 'max': 2411.0, 'on_power_threshold': 10}, 'microwave': {'window': 50, 'min': 0.0, 'max': 1564.0, 'on_power_threshold': 200}}, mode='w', full_path=WindowsPath('c:/Users/MTinaco/Dev/Solutions/cos-algo-nilm/src/utils/../../profiles/unetnilm_ukdale_20240315_134050'))"
      ]
     },
     "execution_count": 15,
     "metadata": {},
     "output_type": "execute_result"
    }
   ],
   "source": [
    "ProfileHandler.mkdir(pathsman.PROFILES_DIR, exist_ok=True)\n",
    "prof = DatasetProfile(parent_dir=pathsman.PROFILES_DIR,\n",
    "                      handler=NILMProjects.UNETNILM.value,\n",
    "                      dataset_name=\"ukdale\",\n",
    "                      metadata=info,\n",
    "                      mode=\"w\")\n",
    "\n",
    "ProfileHandler.write(norm_mains_denoise, norm_mains, targets, states, profile=prof, subdir=\"training\")"
   ]
  }
 ],
 "metadata": {
  "kernelspec": {
   "display_name": "venv",
   "language": "python",
   "name": "python3"
  },
  "language_info": {
   "codemirror_mode": {
    "name": "ipython",
    "version": 3
   },
   "file_extension": ".py",
   "mimetype": "text/x-python",
   "name": "python",
   "nbconvert_exporter": "python",
   "pygments_lexer": "ipython3",
   "version": "3.8.10"
  },
  "orig_nbformat": 4
 },
 "nbformat": 4,
 "nbformat_minor": 2
}
