{
 "cells": [
  {
   "cell_type": "code",
   "execution_count": 1,
   "metadata": {},
   "outputs": [],
   "source": [
    "import sys, os\n",
    "\n",
    "import random\n",
    "import statistics as stat\n",
    "import pandas as pd\n",
    "import numpy as np\n",
    "import matplotlib.pyplot as plt\n",
    "%matplotlib inline\n",
    "\n",
    "import nilmtk\n",
    "\n",
    "sys.path.append(os.path.dirname(os.getcwd()))\n"
   ]
  },
  {
   "attachments": {},
   "cell_type": "markdown",
   "metadata": {},
   "source": [
    "## Import local modules"
   ]
  },
  {
   "cell_type": "code",
   "execution_count": 2,
   "metadata": {},
   "outputs": [
    {
     "ename": "NameError",
     "evalue": "name 'nilmtk' is not defined",
     "output_type": "error",
     "traceback": [
      "\u001b[1;31m---------------------------------------------------------------------------\u001b[0m",
      "\u001b[1;31mNameError\u001b[0m                                 Traceback (most recent call last)",
      "Cell \u001b[1;32mIn[2], line 1\u001b[0m\n\u001b[1;32m----> 1\u001b[0m \u001b[39mimport\u001b[39;00m \u001b[39madinilm\u001b[39;00m\u001b[39m.\u001b[39;00m\u001b[39mfunctions\u001b[39;00m \u001b[39mas\u001b[39;00m \u001b[39mF\u001b[39;00m\n\u001b[0;32m      2\u001b[0m \u001b[39mfrom\u001b[39;00m \u001b[39madinilm\u001b[39;00m\u001b[39m.\u001b[39;00m\u001b[39menumerations\u001b[39;00m \u001b[39mimport\u001b[39;00m \u001b[39m*\u001b[39m\n\u001b[0;32m      3\u001b[0m \u001b[39mfrom\u001b[39;00m \u001b[39madinilm\u001b[39;00m\u001b[39m.\u001b[39;00m\u001b[39mobjs\u001b[39;00m \u001b[39mimport\u001b[39;00m DatasetProfile, ProfileHandler, NormalizationHandler\n",
      "File \u001b[1;32mc:\\Users\\MTinaco\\Dev\\Solutions\\cos-algo-nilm\\adinilm\\functions.py:5\u001b[0m\n\u001b[0;32m      3\u001b[0m \u001b[39mfrom\u001b[39;00m \u001b[39m.\u001b[39;00m\u001b[39mdata_processing\u001b[39;00m\u001b[39m.\u001b[39;00m\u001b[39msequence_scanning\u001b[39;00m \u001b[39mimport\u001b[39;00m scan_sequences\n\u001b[0;32m      4\u001b[0m \u001b[39mfrom\u001b[39;00m \u001b[39m.\u001b[39;00m\u001b[39mdata_processing\u001b[39;00m\u001b[39m.\u001b[39;00m\u001b[39mnormalize\u001b[39;00m \u001b[39mimport\u001b[39;00m adaptive_minmax_scaling\n\u001b[1;32m----> 5\u001b[0m \u001b[39mfrom\u001b[39;00m \u001b[39m.\u001b[39;00m\u001b[39maugmentation\u001b[39;00m\u001b[39m.\u001b[39;00m\u001b[39mactivation_extension\u001b[39;00m \u001b[39mimport\u001b[39;00m extend_activations\n",
      "File \u001b[1;32mc:\\Users\\MTinaco\\Dev\\Solutions\\cos-algo-nilm\\adinilm\\augmentation\\activation_extension.py:8\u001b[0m\n\u001b[0;32m      5\u001b[0m \u001b[39mfrom\u001b[39;00m \u001b[39mabc\u001b[39;00m \u001b[39mimport\u001b[39;00m ABC\n\u001b[0;32m      6\u001b[0m \u001b[39mfrom\u001b[39;00m \u001b[39menum\u001b[39;00m \u001b[39mimport\u001b[39;00m Enum, auto\n\u001b[1;32m----> 8\u001b[0m \u001b[39mfrom\u001b[39;00m \u001b[39m.\u001b[39;00m\u001b[39mnilmtk_extension\u001b[39;00m\u001b[39m.\u001b[39;00m\u001b[39melecmeter\u001b[39;00m \u001b[39mimport\u001b[39;00m ElecmeterActivationAppender, ElecmeterActivationRandomizer, \\\n\u001b[0;32m      9\u001b[0m                 NILMTKActivationExtenderRegistry, NILMTKActivationExtenderTypes\n\u001b[0;32m     11\u001b[0m \u001b[39mclass\u001b[39;00m \u001b[39mActivationExtensionTypes\u001b[39;00m(Enum):\n\u001b[0;32m     12\u001b[0m         ZERO \u001b[39m=\u001b[39m \u001b[39m\"\u001b[39m\u001b[39mzero\u001b[39m\u001b[39m\"\u001b[39m\n",
      "File \u001b[1;32mc:\\Users\\MTinaco\\Dev\\Solutions\\cos-algo-nilm\\adinilm\\augmentation\\nilmtk_extension\\elecmeter.py:70\u001b[0m\n\u001b[0;32m     66\u001b[0m                 acts \u001b[39m=\u001b[39m np\u001b[39m.\u001b[39mhstack(activation_stack)\n\u001b[0;32m     67\u001b[0m                 \u001b[39mreturn\u001b[39;00m np\u001b[39m.\u001b[39mhstack([power_series\u001b[39m.\u001b[39mvalues, acts[:num_samples]])\n\u001b[1;32m---> 70\u001b[0m \u001b[39mclass\u001b[39;00m \u001b[39mElecmeterActivationRightPadder\u001b[39;00m:\n\u001b[0;32m     72\u001b[0m         \u001b[39mdef\u001b[39;00m \u001b[39m__init__\u001b[39m(\u001b[39mself\u001b[39m, data : nilmtk\u001b[39m.\u001b[39mElecMeter):\n\u001b[0;32m     73\u001b[0m                 \u001b[39mself\u001b[39m\u001b[39m.\u001b[39mdata \u001b[39m=\u001b[39m data\n",
      "File \u001b[1;32mc:\\Users\\MTinaco\\Dev\\Solutions\\cos-algo-nilm\\adinilm\\augmentation\\nilmtk_extension\\elecmeter.py:72\u001b[0m, in \u001b[0;36mElecmeterActivationRightPadder\u001b[1;34m()\u001b[0m\n\u001b[0;32m     70\u001b[0m \u001b[39mclass\u001b[39;00m \u001b[39mElecmeterActivationRightPadder\u001b[39;00m:\n\u001b[1;32m---> 72\u001b[0m         \u001b[39mdef\u001b[39;00m \u001b[39m__init__\u001b[39m(\u001b[39mself\u001b[39m, data : nilmtk\u001b[39m.\u001b[39mElecMeter):\n\u001b[0;32m     73\u001b[0m                 \u001b[39mself\u001b[39m\u001b[39m.\u001b[39mdata \u001b[39m=\u001b[39m data\n\u001b[0;32m     75\u001b[0m         \u001b[39mdef\u001b[39;00m \u001b[39mextend\u001b[39m(\u001b[39mself\u001b[39m, num_samples \u001b[39m=\u001b[39m \u001b[39m0\u001b[39m, padding_mode : Union[Callable, \u001b[39mint\u001b[39m, \u001b[39mstr\u001b[39m] \u001b[39m=\u001b[39m \u001b[39m0\u001b[39m, \u001b[39m*\u001b[39m\u001b[39m*\u001b[39mkwargs) \u001b[39m-\u001b[39m\u001b[39m>\u001b[39m np\u001b[39m.\u001b[39mndarray:\n",
      "\u001b[1;31mNameError\u001b[0m: name 'nilmtk' is not defined"
     ]
    }
   ],
   "source": [
    "import adinilm.functions as F\n",
    "from adinilm.enumerations import *\n",
    "from adinilm.objs import DatasetProfile, ProfileHandler, NormalizationHandler\n",
    "from adinilm.utils import paths_manager as pathsman\n",
    "from adinilm.stats.Statistical_analysis import extract_states, state_plot\n"
   ]
  },
  {
   "attachments": {},
   "cell_type": "markdown",
   "metadata": {},
   "source": [
    "## Constants"
   ]
  },
  {
   "cell_type": "code",
   "execution_count": null,
   "metadata": {},
   "outputs": [],
   "source": [
    "## Variable declaration for dataset\n",
    "BUILDING = 1\n",
    "START_TIME = \"2015-05-15\"\n",
    "# END_TIME = \"2015-01-15\"\n",
    "END_TIME = \"2015-07-15\"\n",
    "\n",
    "FRIDGE_FREEZER = \"fridge\"\n",
    "KETTLE = \"kettle\"\n",
    "DISHWASHER = \"dish washer\"\n",
    "MICROWAVE = \"microwave\"\n",
    "WASHER_DRYER = \"washer dryer\"\n",
    "\n",
    "applist = [FRIDGE_FREEZER, WASHER_DRYER, KETTLE, DISHWASHER, MICROWAVE]\n"
   ]
  },
  {
   "attachments": {},
   "cell_type": "markdown",
   "metadata": {},
   "source": [
    "## Subsect Dataset"
   ]
  },
  {
   "cell_type": "code",
   "execution_count": null,
   "metadata": {},
   "outputs": [],
   "source": [
    "## Dataset initialization\n",
    "dataset = nilmtk.DataSet(pathsman.UKDALE_H5_PATH)\n",
    "dataset.set_window(start=START_TIME, end=END_TIME)"
   ]
  },
  {
   "cell_type": "code",
   "execution_count": null,
   "metadata": {},
   "outputs": [],
   "source": [
    "def quantile_filter_2(sequence_length, data, p=50):\n",
    "    new_mains = F.scan_sequences(data=data, mode=\"odd_window\", seq_len=sequence_length)\n",
    "    new_mains = np.percentile(new_mains, p, axis=1, interpolation=\"nearest\")\n",
    "    return new_mains"
   ]
  },
  {
   "cell_type": "code",
   "execution_count": null,
   "metadata": {},
   "outputs": [],
   "source": [
    "power_elec = dataset.buildings[BUILDING].elec"
   ]
  },
  {
   "cell_type": "code",
   "execution_count": null,
   "metadata": {},
   "outputs": [
    {
     "name": "stdout",
     "output_type": "stream",
     "text": [
      "Activation stats in the period [2015-05-15, 2015-07-15]\n"
     ]
    },
    {
     "data": {
      "text/html": [
       "<div>\n",
       "<style scoped>\n",
       "    .dataframe tbody tr th:only-of-type {\n",
       "        vertical-align: middle;\n",
       "    }\n",
       "\n",
       "    .dataframe tbody tr th {\n",
       "        vertical-align: top;\n",
       "    }\n",
       "\n",
       "    .dataframe thead th {\n",
       "        text-align: right;\n",
       "    }\n",
       "</style>\n",
       "<table border=\"1\" class=\"dataframe\">\n",
       "  <thead>\n",
       "    <tr style=\"text-align: right;\">\n",
       "      <th></th>\n",
       "      <th>No. of Activations</th>\n",
       "      <th>Average Length</th>\n",
       "      <th>Max Length</th>\n",
       "      <th>Min Length</th>\n",
       "    </tr>\n",
       "  </thead>\n",
       "  <tbody>\n",
       "    <tr>\n",
       "      <th>fridge</th>\n",
       "      <td>1578</td>\n",
       "      <td>256.487326</td>\n",
       "      <td>3709</td>\n",
       "      <td>28</td>\n",
       "    </tr>\n",
       "    <tr>\n",
       "      <th>washer dryer</th>\n",
       "      <td>52</td>\n",
       "      <td>938.250000</td>\n",
       "      <td>1137</td>\n",
       "      <td>878</td>\n",
       "    </tr>\n",
       "    <tr>\n",
       "      <th>kettle</th>\n",
       "      <td>231</td>\n",
       "      <td>23.861472</td>\n",
       "      <td>80</td>\n",
       "      <td>7</td>\n",
       "    </tr>\n",
       "    <tr>\n",
       "      <th>dish washer</th>\n",
       "      <td>25</td>\n",
       "      <td>1068.560000</td>\n",
       "      <td>1099</td>\n",
       "      <td>1041</td>\n",
       "    </tr>\n",
       "    <tr>\n",
       "      <th>microwave</th>\n",
       "      <td>339</td>\n",
       "      <td>16.743363</td>\n",
       "      <td>97</td>\n",
       "      <td>7</td>\n",
       "    </tr>\n",
       "  </tbody>\n",
       "</table>\n",
       "</div>"
      ],
      "text/plain": [
       "              No. of Activations  Average Length  Max Length  Min Length\n",
       "fridge                      1578      256.487326        3709          28\n",
       "washer dryer                  52      938.250000        1137         878\n",
       "kettle                       231       23.861472          80           7\n",
       "dish washer                   25     1068.560000        1099        1041\n",
       "microwave                    339       16.743363          97           7"
      ]
     },
     "execution_count": 7,
     "metadata": {},
     "output_type": "execute_result"
    }
   ],
   "source": [
    "print(f\"Activation stats in the period [{START_TIME}, {END_TIME}]\")\n",
    "row = []\n",
    "\n",
    "for app in applist:\n",
    "    col = []\n",
    "    app_name = app.upper()\n",
    "    activations = power_elec[app].get_activations()\n",
    "    total_num = len(activations)\n",
    "    average_length = stat.mean(map(len, activations))\n",
    "    max_length = max(map(len, activations))\n",
    "    min_length = min(map(len, activations))\n",
    "    col.append(total_num)\n",
    "    col.append(average_length)\n",
    "    col.append(max_length)\n",
    "    col.append(min_length)\n",
    "    row.append(col)\n",
    "\n",
    "pd.DataFrame(row, columns=[\"No. of Activations\", \"Average Length\", \"Max Length\", \"Min Length\"], index=applist)"
   ]
  },
  {
   "cell_type": "code",
   "execution_count": null,
   "metadata": {},
   "outputs": [],
   "source": [
    "info = {\n",
    "        \"subsection\" : {\n",
    "                \"building\" : BUILDING,\n",
    "                \"start_time\" : START_TIME,\n",
    "                \"end_time\": END_TIME\n",
    "        },\n",
    "        \"preprocessing\" : [\n",
    "                {\n",
    "                        \"activation_extension\" : {\n",
    "                                \"mode\" : \"randomizer\",\n",
    "                                \"num_full_samples\" : 1200000\n",
    "                        }\n",
    "                },\n",
    "                {\n",
    "                        \"normalization\" : {\n",
    "                                \"mode\" : \"minmax\",\n",
    "                                \"scope\" : \"local\"\n",
    "                        }\n",
    "                }\n",
    "        ],\n",
    "        \"appliances\" : [FRIDGE_FREEZER, WASHER_DRYER, KETTLE, DISHWASHER, MICROWAVE],\n",
    "        \"appliance_data\" : {\n",
    "                FRIDGE_FREEZER : {\n",
    "                        \"window\" : 50,\n",
    "                        \"min\" : 0,\n",
    "                        \"max\" : 0,\n",
    "                        \"on_power_threshold\" : 10,\n",
    "                },\n",
    "                WASHER_DRYER : {               \n",
    "                        \"window\" : 50,\n",
    "                        \"min\" : 0,\n",
    "                        \"max\" : 0,\n",
    "                        \"on_power_threshold\" : 10,\n",
    "                },\n",
    "                KETTLE : {\n",
    "                        \"window\" : 50,\n",
    "                        \"min\" : 0,\n",
    "                        \"max\" : 0,\n",
    "                        \"on_power_threshold\" : 10,\n",
    "                },\n",
    "                DISHWASHER : {\n",
    "                        \"window\" : 10,\n",
    "                        \"min\" : 0,\n",
    "                        \"max\" : 0,\n",
    "                        \"on_power_threshold\" : 10,\n",
    "                },\n",
    "                MICROWAVE : {\n",
    "                        \"window\" : 50,\n",
    "                        \"min\" : 0,\n",
    "                        \"max\" : 0,\n",
    "                        \"on_power_threshold\" : 10,\n",
    "                }\n",
    "        }\n",
    "}"
   ]
  },
  {
   "cell_type": "code",
   "execution_count": null,
   "metadata": {},
   "outputs": [],
   "source": [
    "CROSS_VAL = False"
   ]
  },
  {
   "cell_type": "code",
   "execution_count": null,
   "metadata": {},
   "outputs": [],
   "source": [
    "num_samples = len(power_elec[FRIDGE_FREEZER].power_series_all_data())"
   ]
  },
  {
   "cell_type": "code",
   "execution_count": null,
   "metadata": {},
   "outputs": [],
   "source": [
    "\n",
    "if CROSS_VAL:\n",
    "    FULL_NUM_SAMPLES = 100000\n",
    "    \n",
    "    ACTIVATION_EXTENSION_MAPPING = {\n",
    "        FRIDGE_FREEZER : {\n",
    "            \"mode\" : \"rightpadder\",\n",
    "            \"padding_mode\" : 0,\n",
    "        },\n",
    "        WASHER_DRYER : {\n",
    "            \"mode\" : \"rightpadder\",\n",
    "            \"padding_mode\" : 0,\n",
    "        },\n",
    "        KETTLE : {\n",
    "            \"mode\" : \"rightpadder\",\n",
    "            \"padding_mode\" : 0,\n",
    "        },\n",
    "        DISHWASHER : {\n",
    "            \"mode\" : \"rightpadder\",\n",
    "            \"padding_mode\" : 0,\n",
    "        },\n",
    "        MICROWAVE : {\n",
    "            \"mode\" : \"rightpadder\",\n",
    "            \"padding_mode\" : 0,\n",
    "        },\n",
    "    }\n",
    "\n",
    "else:\n",
    "    FULL_NUM_SAMPLES = 2000000\n",
    "\n",
    "    ACTIVATION_EXTENSION_MAPPING = {\n",
    "        FRIDGE_FREEZER : {\n",
    "            \"mode\" : \"randomizer\",\n",
    "            \"interval\" : lambda : random.randint(70, 400),\n",
    "        },\n",
    "        WASHER_DRYER : {\n",
    "            \"mode\" : \"randomizer\",\n",
    "            \"interval\" : lambda : random.randint(200, 1700),\n",
    "        },\n",
    "        KETTLE : {\n",
    "            \"mode\" : \"randomizer\",\n",
    "            \"interval\" : lambda : random.randint(10, 200),\n",
    "        },\n",
    "        DISHWASHER : {\n",
    "            \"mode\" : \"randomizer\",\n",
    "            \"interval\" : lambda : random.randint(200, 1700),\n",
    "        },\n",
    "        MICROWAVE : {\n",
    "            \"mode\" : \"randomizer\",\n",
    "            \"interval\" : lambda : random.randint(10, 200),\n",
    "        },\n",
    "    }"
   ]
  },
  {
   "cell_type": "code",
   "execution_count": null,
   "metadata": {},
   "outputs": [
    {
     "ename": "AttributeError",
     "evalue": "module 'adinilm.functions' has no attribute 'extend_activations'",
     "output_type": "error",
     "traceback": [
      "\u001b[1;31m---------------------------------------------------------------------------\u001b[0m",
      "\u001b[1;31mAttributeError\u001b[0m                            Traceback (most recent call last)",
      "Cell \u001b[1;32mIn[13], line 17\u001b[0m\n\u001b[0;32m     14\u001b[0m \u001b[39melse\u001b[39;00m:\n\u001b[0;32m     15\u001b[0m         interval \u001b[39m=\u001b[39m ACTIVATION_EXTENSION_MAPPING[app][\u001b[39m\"\u001b[39m\u001b[39minterval\u001b[39m\u001b[39m\"\u001b[39m]\n\u001b[1;32m---> 17\u001b[0m         extended_activations \u001b[39m=\u001b[39m F\u001b[39m.\u001b[39;49mextend_activations(elec, mode\u001b[39m=\u001b[39mmode, num_full_samples\u001b[39m=\u001b[39mFULL_NUM_SAMPLES, interval\u001b[39m=\u001b[39minterval)\n\u001b[0;32m     18\u001b[0m unfiltered_power\u001b[39m.\u001b[39mappend(extended_activations)\n\u001b[0;32m     19\u001b[0m filtered_data \u001b[39m=\u001b[39m quantile_filter_2(info[\u001b[39m\"\u001b[39m\u001b[39mappliance_data\u001b[39m\u001b[39m\"\u001b[39m][app][\u001b[39m\"\u001b[39m\u001b[39mwindow\u001b[39m\u001b[39m\"\u001b[39m], extended_activations, p\u001b[39m=\u001b[39m\u001b[39m50\u001b[39m)\n",
      "\u001b[1;31mAttributeError\u001b[0m: module 'adinilm.functions' has no attribute 'extend_activations'"
     ]
    }
   ],
   "source": [
    "states = []\n",
    "targets = []\n",
    "unfiltered_power = []\n",
    "\n",
    "normalizer = NormalizationHandler(mode=\"minmax\", min_val=0, max_val=3300)\n",
    "\n",
    "for app in info[\"appliances\"]:\n",
    "        elec = power_elec[app]\n",
    "        mode = ACTIVATION_EXTENSION_MAPPING[app][\"mode\"]\n",
    "        if CROSS_VAL:\n",
    "                padding_mode = ACTIVATION_EXTENSION_MAPPING[app][\"padding_mode\"]\n",
    "\n",
    "                extended_activations = F.extend_activations(elec, mode=mode, num_full_samples=FULL_NUM_SAMPLES, padding_mode=padding_mode)\n",
    "        else:\n",
    "                interval = ACTIVATION_EXTENSION_MAPPING[app][\"interval\"]\n",
    "\n",
    "                extended_activations = F.extend_activations(elec, mode=mode, num_full_samples=FULL_NUM_SAMPLES, interval=interval)\n",
    "        unfiltered_power.append(extended_activations)\n",
    "        filtered_data = quantile_filter_2(info[\"appliance_data\"][app][\"window\"], extended_activations, p=50)\n",
    "        info[\"appliance_data\"][app]['min'] = 0.0\n",
    "        info[\"appliance_data\"][app]['max'] = float(filtered_data.max())\n",
    "        info[\"appliance_data\"][app]['on_power_threshold'] = elec.on_power_threshold()\n",
    "        binarized_data = F.binarization(filtered_data, mode=\"threshold\", threshold=power_elec[app].on_power_threshold())\n",
    "        # normalizer.select_mode(mode=\"minmax\", min_val=info[\"appliance_data\"][app]['min'], max_val=info[\"appliance_data\"][app]['max'])\n",
    "        # normalized_data = normalizer.normalize(filtered_data)\n",
    "        normalized_data = filtered_data\n",
    "        states.append(binarized_data)\n",
    "        targets.append(normalized_data)\n",
    "\n",
    "zero, one = extract_states(states)\n",
    "state_plot(zero, one)"
   ]
  },
  {
   "cell_type": "code",
   "execution_count": null,
   "metadata": {},
   "outputs": [],
   "source": [
    "states = np.stack(states).T\n",
    "targets = np.stack(targets).T"
   ]
  },
  {
   "cell_type": "code",
   "execution_count": null,
   "metadata": {},
   "outputs": [],
   "source": [
    "mains = np.sum(unfiltered_power, axis=0)"
   ]
  },
  {
   "cell_type": "code",
   "execution_count": null,
   "metadata": {},
   "outputs": [
    {
     "name": "stderr",
     "output_type": "stream",
     "text": [
      "C:\\Users\\MTinaco\\AppData\\Local\\Temp\\ipykernel_32696\\2094214197.py:3: DeprecationWarning: the `interpolation=` argument to percentile was renamed to `method=`, which has additional options.\n",
      "Users of the modes 'nearest', 'lower', 'higher', or 'midpoint' are encouraged to review the method they used. (Deprecated NumPy 1.22)\n",
      "  new_mains = np.percentile(new_mains, p, axis=1, interpolation=\"nearest\")\n"
     ]
    },
    {
     "ename": "KeyboardInterrupt",
     "evalue": "",
     "output_type": "error",
     "traceback": [
      "\u001b[1;31m---------------------------------------------------------------------------\u001b[0m",
      "\u001b[1;31mKeyboardInterrupt\u001b[0m                         Traceback (most recent call last)",
      "Cell \u001b[1;32mIn[58], line 1\u001b[0m\n\u001b[1;32m----> 1\u001b[0m mains_denoise \u001b[39m=\u001b[39m quantile_filter_2(\u001b[39m10\u001b[39;49m, mains, \u001b[39m50\u001b[39;49m)\n\u001b[0;32m      2\u001b[0m mains \u001b[39m=\u001b[39m mains\u001b[39m-\u001b[39mnp\u001b[39m.\u001b[39mpercentile(mains, \u001b[39m1\u001b[39m)\n\u001b[0;32m      3\u001b[0m mains \u001b[39m=\u001b[39m np\u001b[39m.\u001b[39mwhere(mains \u001b[39m<\u001b[39m mains_denoise, mains_denoise, mains)\n",
      "Cell \u001b[1;32mIn[48], line 3\u001b[0m, in \u001b[0;36mquantile_filter_2\u001b[1;34m(sequence_length, data, p)\u001b[0m\n\u001b[0;32m      1\u001b[0m \u001b[39mdef\u001b[39;00m \u001b[39mquantile_filter_2\u001b[39m(sequence_length, data, p\u001b[39m=\u001b[39m\u001b[39m50\u001b[39m):\n\u001b[0;32m      2\u001b[0m     new_mains \u001b[39m=\u001b[39m F\u001b[39m.\u001b[39mscan_sequences(data\u001b[39m=\u001b[39mdata, mode\u001b[39m=\u001b[39m\u001b[39m\"\u001b[39m\u001b[39modd_window\u001b[39m\u001b[39m\"\u001b[39m, seq_len\u001b[39m=\u001b[39msequence_length)\n\u001b[1;32m----> 3\u001b[0m     new_mains \u001b[39m=\u001b[39m np\u001b[39m.\u001b[39;49mpercentile(new_mains, p, axis\u001b[39m=\u001b[39;49m\u001b[39m1\u001b[39;49m, interpolation\u001b[39m=\u001b[39;49m\u001b[39m\"\u001b[39;49m\u001b[39mnearest\u001b[39;49m\u001b[39m\"\u001b[39;49m)\n\u001b[0;32m      4\u001b[0m     \u001b[39mreturn\u001b[39;00m new_mains\n",
      "File \u001b[1;32m<__array_function__ internals>:200\u001b[0m, in \u001b[0;36mpercentile\u001b[1;34m(*args, **kwargs)\u001b[0m\n",
      "File \u001b[1;32mc:\\Users\\MTinaco\\Dev\\Solutions\\cos-algo-nilm\\venv\\lib\\site-packages\\numpy\\lib\\function_base.py:4205\u001b[0m, in \u001b[0;36mpercentile\u001b[1;34m(a, q, axis, out, overwrite_input, method, keepdims, interpolation)\u001b[0m\n\u001b[0;32m   4203\u001b[0m \u001b[39mif\u001b[39;00m \u001b[39mnot\u001b[39;00m _quantile_is_valid(q):\n\u001b[0;32m   4204\u001b[0m     \u001b[39mraise\u001b[39;00m \u001b[39mValueError\u001b[39;00m(\u001b[39m\"\u001b[39m\u001b[39mPercentiles must be in the range [0, 100]\u001b[39m\u001b[39m\"\u001b[39m)\n\u001b[1;32m-> 4205\u001b[0m \u001b[39mreturn\u001b[39;00m _quantile_unchecked(\n\u001b[0;32m   4206\u001b[0m     a, q, axis, out, overwrite_input, method, keepdims)\n",
      "File \u001b[1;32mc:\\Users\\MTinaco\\Dev\\Solutions\\cos-algo-nilm\\venv\\lib\\site-packages\\numpy\\lib\\function_base.py:4473\u001b[0m, in \u001b[0;36m_quantile_unchecked\u001b[1;34m(a, q, axis, out, overwrite_input, method, keepdims)\u001b[0m\n\u001b[0;32m   4465\u001b[0m \u001b[39mdef\u001b[39;00m \u001b[39m_quantile_unchecked\u001b[39m(a,\n\u001b[0;32m   4466\u001b[0m                         q,\n\u001b[0;32m   4467\u001b[0m                         axis\u001b[39m=\u001b[39m\u001b[39mNone\u001b[39;00m,\n\u001b[1;32m   (...)\u001b[0m\n\u001b[0;32m   4470\u001b[0m                         method\u001b[39m=\u001b[39m\u001b[39m\"\u001b[39m\u001b[39mlinear\u001b[39m\u001b[39m\"\u001b[39m,\n\u001b[0;32m   4471\u001b[0m                         keepdims\u001b[39m=\u001b[39m\u001b[39mFalse\u001b[39;00m):\n\u001b[0;32m   4472\u001b[0m \u001b[39m    \u001b[39m\u001b[39m\"\"\"Assumes that q is in [0, 1], and is an ndarray\"\"\"\u001b[39;00m\n\u001b[1;32m-> 4473\u001b[0m     \u001b[39mreturn\u001b[39;00m _ureduce(a,\n\u001b[0;32m   4474\u001b[0m                     func\u001b[39m=\u001b[39;49m_quantile_ureduce_func,\n\u001b[0;32m   4475\u001b[0m                     q\u001b[39m=\u001b[39;49mq,\n\u001b[0;32m   4476\u001b[0m                     keepdims\u001b[39m=\u001b[39;49mkeepdims,\n\u001b[0;32m   4477\u001b[0m                     axis\u001b[39m=\u001b[39;49maxis,\n\u001b[0;32m   4478\u001b[0m                     out\u001b[39m=\u001b[39;49mout,\n\u001b[0;32m   4479\u001b[0m                     overwrite_input\u001b[39m=\u001b[39;49moverwrite_input,\n\u001b[0;32m   4480\u001b[0m                     method\u001b[39m=\u001b[39;49mmethod)\n",
      "File \u001b[1;32mc:\\Users\\MTinaco\\Dev\\Solutions\\cos-algo-nilm\\venv\\lib\\site-packages\\numpy\\lib\\function_base.py:3718\u001b[0m, in \u001b[0;36m_ureduce\u001b[1;34m(a, func, keepdims, **kwargs)\u001b[0m\n\u001b[0;32m   3692\u001b[0m \u001b[39mdef\u001b[39;00m \u001b[39m_ureduce\u001b[39m(a, func, keepdims\u001b[39m=\u001b[39m\u001b[39mFalse\u001b[39;00m, \u001b[39m*\u001b[39m\u001b[39m*\u001b[39mkwargs):\n\u001b[0;32m   3693\u001b[0m \u001b[39m    \u001b[39m\u001b[39m\"\"\"\u001b[39;00m\n\u001b[0;32m   3694\u001b[0m \u001b[39m    Internal Function.\u001b[39;00m\n\u001b[0;32m   3695\u001b[0m \u001b[39m    Call `func` with `a` as first argument swapping the axes to use extended\u001b[39;00m\n\u001b[1;32m   (...)\u001b[0m\n\u001b[0;32m   3716\u001b[0m \n\u001b[0;32m   3717\u001b[0m \u001b[39m    \"\"\"\u001b[39;00m\n\u001b[1;32m-> 3718\u001b[0m     a \u001b[39m=\u001b[39m np\u001b[39m.\u001b[39;49masanyarray(a)\n\u001b[0;32m   3719\u001b[0m     axis \u001b[39m=\u001b[39m kwargs\u001b[39m.\u001b[39mget(\u001b[39m'\u001b[39m\u001b[39maxis\u001b[39m\u001b[39m'\u001b[39m, \u001b[39mNone\u001b[39;00m)\n\u001b[0;32m   3720\u001b[0m     out \u001b[39m=\u001b[39m kwargs\u001b[39m.\u001b[39mget(\u001b[39m'\u001b[39m\u001b[39mout\u001b[39m\u001b[39m'\u001b[39m, \u001b[39mNone\u001b[39;00m)\n",
      "\u001b[1;31mKeyboardInterrupt\u001b[0m: "
     ]
    }
   ],
   "source": [
    "mains_denoise = quantile_filter_2(10, mains, 50)\n",
    "mains = mains-np.percentile(mains, 1)\n",
    "mains = np.where(mains < mains_denoise, mains_denoise, mains)\n",
    "mains = quantile_filter_2(10, mains, 50)"
   ]
  },
  {
   "cell_type": "code",
   "execution_count": null,
   "metadata": {},
   "outputs": [],
   "source": [
    "norm_mains_denoise = mains_denoise\n",
    "norm_mains = mains"
   ]
  },
  {
   "cell_type": "code",
   "execution_count": null,
   "metadata": {},
   "outputs": [],
   "source": [
    "# normalizer.select_mode(mode=\"minmax\", min_val=mains_denoise.min(), max_val=mains_denoise.max())\n",
    "# norm_mains_denoise = normalizer.normalize(mains_denoise)\n",
    "\n",
    "# normalizer.select_mode(mode=\"minmax\", min_val=mains.min(), max_val=mains.max())\n",
    "# norm_mains = normalizer.normalize(mains)"
   ]
  },
  {
   "attachments": {},
   "cell_type": "markdown",
   "metadata": {},
   "source": [
    "## Profile Handling"
   ]
  },
  {
   "cell_type": "code",
   "execution_count": null,
   "metadata": {},
   "outputs": [
    {
     "data": {
      "text/plain": [
       "Full path: C:\\Users\\MTinaco\\Dev\\Solutions\\cos-algo-nilm\\profiles\\unetnilm_ukdale_20240909_203838\n",
       "                "
      ]
     },
     "execution_count": 43,
     "metadata": {},
     "output_type": "execute_result"
    }
   ],
   "source": [
    "ProfileHandler.mkdir(pathsman.PROFILES_DIR, exist_ok=True)\n",
    "prof = DatasetProfile(parent_dir=pathsman.PROFILES_DIR,\n",
    "                      handler=NILMProjects.UNETNILM.value,\n",
    "                      dataset_name=\"ukdale\",\n",
    "                      metadata=info,\n",
    "                      mode=\"w\")\n",
    "ProfileHandler.write(norm_mains_denoise, norm_mains, targets, states, profile=prof, subdir=\"crossval\" if CROSS_VAL else \"training\")"
   ]
  },
  {
   "cell_type": "code",
   "execution_count": null,
   "metadata": {},
   "outputs": [],
   "source": []
  }
 ],
 "metadata": {
  "kernelspec": {
   "display_name": "venv",
   "language": "python",
   "name": "python3"
  },
  "language_info": {
   "codemirror_mode": {
    "name": "ipython",
    "version": 3
   },
   "file_extension": ".py",
   "mimetype": "text/x-python",
   "name": "python",
   "nbconvert_exporter": "python",
   "pygments_lexer": "ipython3",
   "version": "3.8.10"
  },
  "orig_nbformat": 4
 },
 "nbformat": 4,
 "nbformat_minor": 2
}
