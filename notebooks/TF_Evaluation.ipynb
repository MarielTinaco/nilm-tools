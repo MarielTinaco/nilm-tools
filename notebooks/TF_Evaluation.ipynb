{
 "cells": [
  {
   "cell_type": "code",
   "execution_count": 5,
   "metadata": {},
   "outputs": [],
   "source": [
    "import sys, os\n",
    "from typing import Any\n",
    "import numpy as np\n",
    "import tensorflow as tf\n",
    "import logging\n",
    "\n",
    "from pathlib import Path\n",
    "from datetime import datetime"
   ]
  },
  {
   "cell_type": "code",
   "execution_count": 9,
   "metadata": {},
   "outputs": [],
   "source": [
    "sys.path.append(\"..\")"
   ]
  },
  {
   "cell_type": "code",
   "execution_count": 10,
   "metadata": {},
   "outputs": [],
   "source": [
    "from adik.dataloaders.seq2point import MultitargetQuantileRegressionSeq2PointDataLoader"
   ]
  },
  {
   "cell_type": "code",
   "execution_count": 40,
   "metadata": {},
   "outputs": [],
   "source": [
    "from adinilm.objs import DatasetProfile, ProfileHandler\n",
    "from adinilm.src.tf_nilm.data_loader.seq2point_nilm import NILMSeq2PointDataset\n",
    "from adinilm.utils.paths_manager import PROFILES_DIR, LOG_DIR\n",
    "from adinilm.src.tf_nilm.losses.quantileloss import QuantileLoss \n",
    "from adinilm.src.tf_nilm.losses.multiactivationloss import MultiActivationLoss \n",
    "from adinilm.src.tf_nilm.models import simple_seq2point"
   ]
  },
  {
   "cell_type": "code",
   "execution_count": 41,
   "metadata": {},
   "outputs": [],
   "source": [
    "SEQ_LEN = 100\n",
    "BATCH_SIZE = 256\n",
    "MODEL = \"resnet\"\n",
    "PROFILE_PATH = PROFILES_DIR / \"unetnilm_ukdale_20240730_143151\""
   ]
  },
  {
   "cell_type": "code",
   "execution_count": 42,
   "metadata": {},
   "outputs": [],
   "source": [
    "profile, x1, x2, y, z = ProfileHandler.read(PROFILE_PATH, subdir=\"training\")"
   ]
  },
  {
   "cell_type": "code",
   "execution_count": 43,
   "metadata": {},
   "outputs": [],
   "source": [
    "indices = np.arange(x1.shape[0])\n",
    "data = NILMSeq2PointDataset(x1, (y, z), seq_len=SEQ_LEN, indices=indices,\n",
    "                        batch_size=BATCH_SIZE,\n",
    "                        sequence_strategy= MultitargetQuantileRegressionSeq2PointDataLoader)"
   ]
  },
  {
   "cell_type": "code",
   "execution_count": 46,
   "metadata": {},
   "outputs": [],
   "source": [
    "CHECKPOINT = LOG_DIR / \"tf_nilm\" / \"20240818-150648\" / \"weights\" / \"checkpoint.keras\""
   ]
  },
  {
   "cell_type": "code",
   "execution_count": 47,
   "metadata": {},
   "outputs": [],
   "source": [
    "model = tf.keras.models.load_model(CHECKPOINT)"
   ]
  },
  {
   "cell_type": "code",
   "execution_count": 49,
   "metadata": {},
   "outputs": [
    {
     "name": "stdout",
     "output_type": "stream",
     "text": [
      "\u001b[1m6747/6747\u001b[0m \u001b[32m━━━━━━━━━━━━━━━━━━━━\u001b[0m\u001b[37m\u001b[0m \u001b[1m289s\u001b[0m 43ms/step - loss: 0.4815\n"
     ]
    }
   ],
   "source": [
    "ret = model.evaluate(data, batch_size=BATCH_SIZE)"
   ]
  }
 ],
 "metadata": {
  "kernelspec": {
   "display_name": "venv",
   "language": "python",
   "name": "python3"
  },
  "language_info": {
   "codemirror_mode": {
    "name": "ipython",
    "version": 3
   },
   "file_extension": ".py",
   "mimetype": "text/x-python",
   "name": "python",
   "nbconvert_exporter": "python",
   "pygments_lexer": "ipython3",
   "version": "3.10.10"
  },
  "orig_nbformat": 4
 },
 "nbformat": 4,
 "nbformat_minor": 2
}
