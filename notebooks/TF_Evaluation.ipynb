{
 "cells": [
  {
   "cell_type": "code",
   "execution_count": 1,
   "metadata": {},
   "outputs": [],
   "source": [
    "import sys, os\n",
    "from typing import Any\n",
    "import numpy as np\n",
    "import tensorflow as tf\n",
    "import logging\n",
    "\n",
    "from pathlib import Path\n",
    "from datetime import datetime"
   ]
  },
  {
   "cell_type": "code",
   "execution_count": 2,
   "metadata": {},
   "outputs": [],
   "source": [
    "sys.path.append(\"..\")"
   ]
  },
  {
   "cell_type": "code",
   "execution_count": 3,
   "metadata": {},
   "outputs": [],
   "source": [
    "from adik.dataloaders.seq2point import MultitargetQuantileRegressionSeq2PointDataLoader"
   ]
  },
  {
   "cell_type": "code",
   "execution_count": 4,
   "metadata": {},
   "outputs": [],
   "source": [
    "from adinilm.objs import DatasetProfile, ProfileHandler\n",
    "from adinilm.src.tf_nilm.data_loader.seq2point_nilm import NILMSeq2PointDataset\n",
    "from adinilm.utils.paths_manager import PROFILES_DIR, LOG_DIR, DATA_DIR\n",
    "from adinilm.src.tf_nilm.losses.quantileloss import QuantileLoss \n",
    "from adinilm.src.tf_nilm.losses.multiactivationloss import MultiActivationLoss \n",
    "from adinilm.src.tf_nilm.models import simple_seq2point"
   ]
  },
  {
   "cell_type": "code",
   "execution_count": 11,
   "metadata": {},
   "outputs": [],
   "source": [
    "SEQ_LEN = 100\n",
    "BATCH_SIZE = 256\n",
    "PROFILE_PATH = DATA_DIR / \"NILMTK\" / \"processed\"\n",
    "BEST = True"
   ]
  },
  {
   "cell_type": "code",
   "execution_count": 12,
   "metadata": {},
   "outputs": [],
   "source": [
    "data = NILMSeq2PointDataset(PROFILE_PATH / \"val\", seq_len=SEQ_LEN,\n",
    "                        batch_size=BATCH_SIZE,\n",
    "                        sequence_strategy= MultitargetQuantileRegressionSeq2PointDataLoader)\n"
   ]
  },
  {
   "cell_type": "code",
   "execution_count": 13,
   "metadata": {},
   "outputs": [],
   "source": [
    "log_dir = \"20240904-063900\"\n",
    "checkpoint_file = \"best.keras\" if BEST else \"checkpoint.keras\""
   ]
  },
  {
   "cell_type": "code",
   "execution_count": 14,
   "metadata": {},
   "outputs": [],
   "source": [
    "CHECKPOINT = LOG_DIR / \"tf_nilm\" / log_dir / \"weights\" / checkpoint_file"
   ]
  },
  {
   "cell_type": "code",
   "execution_count": 15,
   "metadata": {},
   "outputs": [],
   "source": [
    "model = tf.keras.models.load_model(CHECKPOINT)"
   ]
  },
  {
   "cell_type": "code",
   "execution_count": 16,
   "metadata": {},
   "outputs": [
    {
     "name": "stdout",
     "output_type": "stream",
     "text": [
      "\u001b[1m3374/3374\u001b[0m \u001b[32m━━━━━━━━━━━━━━━━━━━━\u001b[0m\u001b[37m\u001b[0m \u001b[1m144s\u001b[0m 42ms/step - loss: 0.2349 - y1_output_accuracy: 0.9542\n"
     ]
    }
   ],
   "source": [
    "ret = model.evaluate(data, batch_size=BATCH_SIZE)"
   ]
  },
  {
   "cell_type": "code",
   "execution_count": 17,
   "metadata": {},
   "outputs": [
    {
     "name": "stdout",
     "output_type": "stream",
     "text": [
      "\u001b[1m3374/3374\u001b[0m \u001b[32m━━━━━━━━━━━━━━━━━━━━\u001b[0m\u001b[37m\u001b[0m \u001b[1m153s\u001b[0m 45ms/step\n"
     ]
    }
   ],
   "source": [
    "pred = model.predict(data)"
   ]
  },
  {
   "cell_type": "code",
   "execution_count": 23,
   "metadata": {},
   "outputs": [
    {
     "data": {
      "text/plain": [
       "((863744, 5, 2), (863744, 5, 5))"
      ]
     },
     "execution_count": 23,
     "metadata": {},
     "output_type": "execute_result"
    }
   ],
   "source": [
    "pred[0].shape, pred[1].shape"
   ]
  },
  {
   "cell_type": "code",
   "execution_count": 36,
   "metadata": {},
   "outputs": [],
   "source": [
    "states_pred = np.apply_along_axis(lambda x : tf.argmax(x, axis=0), axis=2, arr=pred[0])"
   ]
  },
  {
   "cell_type": "code",
   "execution_count": 37,
   "metadata": {},
   "outputs": [
    {
     "data": {
      "text/plain": [
       "(863744, 5)"
      ]
     },
     "execution_count": 37,
     "metadata": {},
     "output_type": "execute_result"
    }
   ],
   "source": [
    "states_pred.shape"
   ]
  },
  {
   "cell_type": "code",
   "execution_count": 38,
   "metadata": {},
   "outputs": [],
   "source": [
    "import matplotlib.pyplot as plt\n",
    "\n",
    "%matplotlib inline"
   ]
  },
  {
   "cell_type": "code",
   "execution_count": 42,
   "metadata": {},
   "outputs": [
    {
     "data": {
      "text/plain": [
       "[<matplotlib.lines.Line2D at 0x2da93a9a110>,\n",
       " <matplotlib.lines.Line2D at 0x2da938ee770>,\n",
       " <matplotlib.lines.Line2D at 0x2da98a7bcd0>,\n",
       " <matplotlib.lines.Line2D at 0x2da93a9a380>,\n",
       " <matplotlib.lines.Line2D at 0x2da93a9a470>]"
      ]
     },
     "execution_count": 42,
     "metadata": {},
     "output_type": "execute_result"
    },
    {
     "data": {
      "image/png": "[encoded data removed]",
      "text/plain": [
       "<Figure size 640x480 with 1 Axes>"
      ]
     },
     "metadata": {},
     "output_type": "display_data"
    }
   ],
   "source": [
    "plt.plot(states_pred[:9000])"
   ]
  },
  {
   "cell_type": "code",
   "execution_count": 44,
   "metadata": {},
   "outputs": [],
   "source": [
    "dliter = iter(data)\n",
    "\n",
    "stat_list = []\n",
    "for idx, (inp, lab) in enumerate(dliter):\n",
    "        stat, pow = lab\n",
    "        stat_list.append(stat)"
   ]
  },
  {
   "cell_type": "code",
   "execution_count": 47,
   "metadata": {},
   "outputs": [],
   "source": [
    "stacked = np.vstack(stat_list)"
   ]
  },
  {
   "cell_type": "code",
   "execution_count": 49,
   "metadata": {},
   "outputs": [
    {
     "data": {
      "text/plain": [
       "[<matplotlib.lines.Line2D at 0x2da93ba1cf0>,\n",
       " <matplotlib.lines.Line2D at 0x2da98aa3460>,\n",
       " <matplotlib.lines.Line2D at 0x2da377da1d0>,\n",
       " <matplotlib.lines.Line2D at 0x2da93ba1f60>,\n",
       " <matplotlib.lines.Line2D at 0x2da93ba2050>]"
      ]
     },
     "execution_count": 49,
     "metadata": {},
     "output_type": "execute_result"
    },
    {
     "data": {
      "image/png": "[encoded data removed]",
      "text/plain": [
       "<Figure size 640x480 with 1 Axes>"
      ]
     },
     "metadata": {},
     "output_type": "display_data"
    }
   ],
   "source": [
    "plt.plot(stacked[:9000])"
   ]
  },
  {
   "cell_type": "code",
   "execution_count": null,
   "metadata": {},
   "outputs": [],
   "source": []
  }
 ],
 "metadata": {
  "kernelspec": {
   "display_name": "venv",
   "language": "python",
   "name": "python3"
  },
  "language_info": {
   "codemirror_mode": {
    "name": "ipython",
    "version": 3
   },
   "file_extension": ".py",
   "mimetype": "text/x-python",
   "name": "python",
   "nbconvert_exporter": "python",
   "pygments_lexer": "ipython3",
   "version": "3.10.10"
  },
  "orig_nbformat": 4
 },
 "nbformat": 4,
 "nbformat_minor": 2
}
