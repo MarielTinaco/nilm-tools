{
 "cells": [
  {
   "cell_type": "code",
   "execution_count": 1,
   "metadata": {},
   "outputs": [],
   "source": [
    "import sys, os\n",
    "from typing import Any\n",
    "import numpy as np\n",
    "import tensorflow as tf\n",
    "import logging\n",
    "\n",
    "from pathlib import Path\n",
    "from datetime import datetime\n",
    "from sklearn.preprocessing import minmax_scale\n"
   ]
  },
  {
   "cell_type": "code",
   "execution_count": 2,
   "metadata": {},
   "outputs": [],
   "source": [
    "sys.path.append(\"..\")"
   ]
  },
  {
   "cell_type": "code",
   "execution_count": 3,
   "metadata": {},
   "outputs": [],
   "source": [
    "from adik.dataloaders.seq2point import MultitargetQuantileRegressionSeq2PointDataLoader"
   ]
  },
  {
   "cell_type": "code",
   "execution_count": 4,
   "metadata": {},
   "outputs": [],
   "source": [
    "from adinilm.objs import DatasetProfile, ProfileHandler\n",
    "from adinilm.src.tf_nilm.data_loader.seq2point_nilm import NILMSeq2PointDataset\n",
    "from adinilm.utils.paths_manager import PROFILES_DIR, LOG_DIR, DATA_DIR\n",
    "from adinilm.src.tf_nilm.losses.quantileloss import QuantileLoss \n",
    "from adinilm.src.tf_nilm.losses.multiactivationloss import MultiActivationLoss \n",
    "from adinilm.src.tf_nilm.models import simple_seq2point"
   ]
  },
  {
   "cell_type": "code",
   "execution_count": 5,
   "metadata": {},
   "outputs": [],
   "source": [
    "SEQ_LEN = 100\n",
    "BATCH_SIZE = 256\n",
    "PROFILE_PATH = DATA_DIR / \"NILMTK\" / \"processed\"\n",
    "BEST = True"
   ]
  },
  {
   "cell_type": "code",
   "execution_count": 6,
   "metadata": {},
   "outputs": [],
   "source": [
    "def input_transform(data):\n",
    "        data = minmax_scale(data, feature_range=(0, 1))\n",
    "        return data\n",
    "\n",
    "def label1_transform(data):\n",
    "        norm = lambda data : minmax_scale(data, feature_range=(0, 1))\n",
    "        data = np.apply_along_axis(norm, 0, data)\n",
    "        return data\n",
    "\n",
    "data = NILMSeq2PointDataset(PROFILE_PATH / \"val\", seq_len=SEQ_LEN,\n",
    "                        batch_size=BATCH_SIZE,\n",
    "                        sequence_strategy= MultitargetQuantileRegressionSeq2PointDataLoader,\n",
    "                        input_transform = input_transform,\n",
    "                        label_transform = [lambda x: x, label1_transform])"
   ]
  },
  {
   "cell_type": "code",
   "execution_count": 7,
   "metadata": {},
   "outputs": [],
   "source": [
    "log_dir = \"20240917-083628\"\n",
    "checkpoint_file = \"best.keras\" if BEST else \"checkpoint.keras\""
   ]
  },
  {
   "cell_type": "code",
   "execution_count": 8,
   "metadata": {},
   "outputs": [],
   "source": [
    "CHECKPOINT = LOG_DIR / \"tf_nilm\" / log_dir / \"weights\" / checkpoint_file"
   ]
  },
  {
   "cell_type": "code",
   "execution_count": 9,
   "metadata": {},
   "outputs": [],
   "source": [
    "model = tf.keras.models.load_model(CHECKPOINT)"
   ]
  },
  {
   "cell_type": "code",
   "execution_count": 10,
   "metadata": {},
   "outputs": [],
   "source": [
    "# ret = model.evaluate(data, batch_size=BATCH_SIZE)"
   ]
  },
  {
   "cell_type": "code",
   "execution_count": 11,
   "metadata": {},
   "outputs": [
    {
     "name": "stdout",
     "output_type": "stream",
     "text": [
      "\u001b[1m3374/3374\u001b[0m \u001b[32m━━━━━━━━━━━━━━━━━━━━\u001b[0m\u001b[37m\u001b[0m \u001b[1m264s\u001b[0m 77ms/step\n"
     ]
    }
   ],
   "source": [
    "pred = model.predict(data)"
   ]
  },
  {
   "cell_type": "code",
   "execution_count": 12,
   "metadata": {},
   "outputs": [
    {
     "data": {
      "text/plain": [
       "((863744, 5, 2), (863744, 5, 5))"
      ]
     },
     "execution_count": 12,
     "metadata": {},
     "output_type": "execute_result"
    }
   ],
   "source": [
    "pred[0].shape, pred[1].shape"
   ]
  },
  {
   "cell_type": "code",
   "execution_count": 13,
   "metadata": {},
   "outputs": [],
   "source": [
    "states_pred = np.apply_along_axis(lambda x : tf.argmax(x, axis=0), axis=2, arr=pred[0])"
   ]
  },
  {
   "cell_type": "code",
   "execution_count": 14,
   "metadata": {},
   "outputs": [
    {
     "data": {
      "text/plain": [
       "(863744, 5)"
      ]
     },
     "execution_count": 14,
     "metadata": {},
     "output_type": "execute_result"
    }
   ],
   "source": [
    "states_pred.shape"
   ]
  },
  {
   "cell_type": "code",
   "execution_count": 15,
   "metadata": {},
   "outputs": [],
   "source": [
    "import matplotlib.pyplot as plt\n",
    "\n",
    "%matplotlib inline"
   ]
  },
  {
   "cell_type": "code",
   "execution_count": 16,
   "metadata": {},
   "outputs": [
    {
     "data": {
      "text/plain": [
       "[<matplotlib.lines.Line2D at 0x269598f4c70>,\n",
       " <matplotlib.lines.Line2D at 0x269598b3be0>,\n",
       " <matplotlib.lines.Line2D at 0x269598b18a0>,\n",
       " <matplotlib.lines.Line2D at 0x269598f4e20>,\n",
       " <matplotlib.lines.Line2D at 0x269598f4f10>]"
      ]
     },
     "execution_count": 16,
     "metadata": {},
     "output_type": "execute_result"
    },
    {
     "data": {
      "image/png": "[encoded data removed]",
      "text/plain": [
       "<Figure size 640x480 with 1 Axes>"
      ]
     },
     "metadata": {},
     "output_type": "display_data"
    }
   ],
   "source": [
    "plt.plot(states_pred[4000:9000])"
   ]
  },
  {
   "cell_type": "code",
   "execution_count": 17,
   "metadata": {},
   "outputs": [],
   "source": [
    "dliter = iter(data)\n",
    "\n",
    "stat_list = []\n",
    "rms_list = []\n",
    "for idx, (inp, lab) in enumerate(dliter):\n",
    "        stat, pow = lab\n",
    "        stat_list.append(stat)\n",
    "        rms_list.append(pow)"
   ]
  },
  {
   "cell_type": "code",
   "execution_count": 18,
   "metadata": {},
   "outputs": [],
   "source": [
    "stacked = np.vstack(stat_list)\n",
    "stacked_rms = np.vstack(rms_list)"
   ]
  },
  {
   "cell_type": "code",
   "execution_count": 19,
   "metadata": {},
   "outputs": [
    {
     "data": {
      "text/plain": [
       "[<matplotlib.lines.Line2D at 0x269595bbfd0>,\n",
       " <matplotlib.lines.Line2D at 0x26957819cc0>,\n",
       " <matplotlib.lines.Line2D at 0x2695781a080>,\n",
       " <matplotlib.lines.Line2D at 0x269597082b0>,\n",
       " <matplotlib.lines.Line2D at 0x269597083a0>]"
      ]
     },
     "execution_count": 19,
     "metadata": {},
     "output_type": "execute_result"
    },
    {
     "data": {
      "image/png": "[encoded data removed]",
      "text/plain": [
       "<Figure size 640x480 with 1 Axes>"
      ]
     },
     "metadata": {},
     "output_type": "display_data"
    }
   ],
   "source": [
    "plt.plot(stacked[4000:9000])"
   ]
  },
  {
   "cell_type": "code",
   "execution_count": 20,
   "metadata": {},
   "outputs": [],
   "source": [
    "states_pred_0 = states_pred[:,0]\n",
    "states_true_0 = stacked[:,0]"
   ]
  },
  {
   "cell_type": "code",
   "execution_count": 21,
   "metadata": {},
   "outputs": [
    {
     "data": {
      "text/plain": [
       "(863744,)"
      ]
     },
     "execution_count": 21,
     "metadata": {},
     "output_type": "execute_result"
    }
   ],
   "source": [
    "states_true_0.shape"
   ]
  },
  {
   "cell_type": "code",
   "execution_count": 22,
   "metadata": {},
   "outputs": [],
   "source": [
    "from sklearn.metrics import jaccard_score"
   ]
  },
  {
   "cell_type": "code",
   "execution_count": 23,
   "metadata": {},
   "outputs": [
    {
     "data": {
      "text/plain": [
       "0.8397328835458249"
      ]
     },
     "execution_count": 23,
     "metadata": {},
     "output_type": "execute_result"
    }
   ],
   "source": [
    "jaccard_score(states_true_0, states_pred_0)"
   ]
  },
  {
   "cell_type": "code",
   "execution_count": 24,
   "metadata": {},
   "outputs": [
    {
     "data": {
      "text/plain": [
       "0.013869038166322588"
      ]
     },
     "execution_count": 24,
     "metadata": {},
     "output_type": "execute_result"
    }
   ],
   "source": [
    "states_pred_1 = states_pred[:,1]\n",
    "states_true_1 = stacked[:,1]\n",
    "jaccard_score(states_true_1, states_pred_1)"
   ]
  },
  {
   "cell_type": "code",
   "execution_count": 25,
   "metadata": {},
   "outputs": [
    {
     "data": {
      "text/plain": [
       "0.0"
      ]
     },
     "execution_count": 25,
     "metadata": {},
     "output_type": "execute_result"
    }
   ],
   "source": [
    "states_pred_2 = states_pred[:,2]\n",
    "states_true_2 = stacked[:,2]\n",
    "jaccard_score(states_true_2, states_pred_2)"
   ]
  },
  {
   "cell_type": "code",
   "execution_count": 26,
   "metadata": {},
   "outputs": [
    {
     "data": {
      "text/plain": [
       "0.007050055393292376"
      ]
     },
     "execution_count": 26,
     "metadata": {},
     "output_type": "execute_result"
    }
   ],
   "source": [
    "states_pred_3 = states_pred[:,3]\n",
    "states_true_3 = stacked[:,3]\n",
    "jaccard_score(states_true_3, states_pred_3)"
   ]
  },
  {
   "cell_type": "code",
   "execution_count": 27,
   "metadata": {},
   "outputs": [
    {
     "data": {
      "text/plain": [
       "0.0"
      ]
     },
     "execution_count": 27,
     "metadata": {},
     "output_type": "execute_result"
    }
   ],
   "source": [
    "states_pred_4 = states_pred[:,4]\n",
    "states_true_4 = stacked[:,4]\n",
    "jaccard_score(states_true_4, states_pred_4)"
   ]
  },
  {
   "cell_type": "code",
   "execution_count": 28,
   "metadata": {},
   "outputs": [],
   "source": [
    "def get_eac(target, prediction):\n",
    "        num = np.abs(target - prediction).sum(axis=0)\n",
    "        den = 2*target.sum(axis=0)\n",
    "        return (1 - num/den)"
   ]
  },
  {
   "cell_type": "code",
   "execution_count": 29,
   "metadata": {},
   "outputs": [],
   "source": [
    "from adinilm.src.tf_nilm.metrics.baseaccuracy import BaseAccuracy\n",
    "\n",
    "acc = tf.keras.metrics.Accuracy()"
   ]
  },
  {
   "cell_type": "code",
   "execution_count": 30,
   "metadata": {},
   "outputs": [
    {
     "data": {
      "text/plain": [
       "0.93267566"
      ]
     },
     "execution_count": 30,
     "metadata": {},
     "output_type": "execute_result"
    }
   ],
   "source": [
    "acc.reset_state()\n",
    "acc.update_state(states_true_0, states_pred_0)\n",
    "acc.result().numpy()"
   ]
  },
  {
   "cell_type": "code",
   "execution_count": 31,
   "metadata": {},
   "outputs": [
    {
     "data": {
      "text/plain": [
       "0.95686454"
      ]
     },
     "execution_count": 31,
     "metadata": {},
     "output_type": "execute_result"
    }
   ],
   "source": [
    "acc.reset_state()\n",
    "acc.update_state(states_true_1, states_pred_1)\n",
    "acc.result().numpy()"
   ]
  },
  {
   "cell_type": "code",
   "execution_count": 32,
   "metadata": {},
   "outputs": [
    {
     "data": {
      "text/plain": [
       "0.9966344"
      ]
     },
     "execution_count": 32,
     "metadata": {},
     "output_type": "execute_result"
    }
   ],
   "source": [
    "acc.reset_state()\n",
    "acc.update_state(states_true_2, states_pred_2)\n",
    "acc.result().numpy()"
   ]
  },
  {
   "cell_type": "code",
   "execution_count": 33,
   "metadata": {},
   "outputs": [
    {
     "data": {
      "text/plain": [
       "0.9657572"
      ]
     },
     "execution_count": 33,
     "metadata": {},
     "output_type": "execute_result"
    }
   ],
   "source": [
    "acc.reset_state()\n",
    "acc.update_state(states_true_3, states_pred_3)\n",
    "acc.result().numpy()"
   ]
  },
  {
   "cell_type": "code",
   "execution_count": 34,
   "metadata": {},
   "outputs": [
    {
     "data": {
      "text/plain": [
       "0.99885154"
      ]
     },
     "execution_count": 34,
     "metadata": {},
     "output_type": "execute_result"
    }
   ],
   "source": [
    "acc.reset_state()\n",
    "acc.update_state(states_true_4, states_pred_4)\n",
    "acc.result().numpy()"
   ]
  },
  {
   "cell_type": "code",
   "execution_count": 39,
   "metadata": {},
   "outputs": [],
   "source": [
    "rms_pred = pred[1][:,:,2]"
   ]
  },
  {
   "cell_type": "code",
   "execution_count": 40,
   "metadata": {},
   "outputs": [
    {
     "data": {
      "text/plain": [
       "(863744, 5)"
      ]
     },
     "execution_count": 40,
     "metadata": {},
     "output_type": "execute_result"
    }
   ],
   "source": [
    "rms_pred.shape"
   ]
  },
  {
   "cell_type": "code",
   "execution_count": 46,
   "metadata": {},
   "outputs": [],
   "source": [
    "rms_true_0 = stacked_rms[:,0]\n",
    "rms_pred_0 = rms_pred[:,0]"
   ]
  },
  {
   "cell_type": "code",
   "execution_count": 47,
   "metadata": {},
   "outputs": [],
   "source": [
    "rms_pred_0 = (rms_pred_0 + 1) / 2"
   ]
  },
  {
   "cell_type": "code",
   "execution_count": 49,
   "metadata": {},
   "outputs": [
    {
     "data": {
      "text/plain": [
       "-0.24134774492280853"
      ]
     },
     "execution_count": 49,
     "metadata": {},
     "output_type": "execute_result"
    }
   ],
   "source": [
    "get_eac(rms_true_0, rms_pred_0)"
   ]
  },
  {
   "cell_type": "code",
   "execution_count": null,
   "metadata": {},
   "outputs": [],
   "source": []
  }
 ],
 "metadata": {
  "kernelspec": {
   "display_name": "venv",
   "language": "python",
   "name": "python3"
  },
  "language_info": {
   "codemirror_mode": {
    "name": "ipython",
    "version": 3
   },
   "file_extension": ".py",
   "mimetype": "text/x-python",
   "name": "python",
   "nbconvert_exporter": "python",
   "pygments_lexer": "ipython3",
   "version": "3.10.10"
  },
  "orig_nbformat": 4
 },
 "nbformat": 4,
 "nbformat_minor": 2
}
