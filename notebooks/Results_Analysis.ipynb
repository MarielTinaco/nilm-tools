{
 "cells": [
  {
   "cell_type": "code",
   "execution_count": 14,
   "metadata": {},
   "outputs": [],
   "source": [
    "import sys, os\n",
    "import numpy as np\n",
    "import pandas as pd\n",
    "from sklearn.metrics import f1_score, mean_absolute_error, mean_squared_error\n",
    "from collections import OrderedDict\n",
    "from pathlib import Path\n",
    "\n",
    "import matplotlib.pyplot as plt\n",
    "%matplotlib inline\n",
    "\n",
    "sys.path.append('../')\n",
    "\n",
    "from src.objs import ProfileHandler, DatasetProfile\n",
    "from src.utils import paths_manager as pathsman"
   ]
  },
  {
   "cell_type": "code",
   "execution_count": 15,
   "metadata": {},
   "outputs": [],
   "source": [
    "profile_path = None"
   ]
  },
  {
   "cell_type": "code",
   "execution_count": 16,
   "metadata": {},
   "outputs": [],
   "source": [
    "if profile_path:\n",
    "        profile = DatasetProfile.extract(profile_path=profile_path)\n",
    "else:\n",
    "        available_profiles = sorted(list(os.listdir(pathsman.PROFILES_DIR)))\n",
    "        recent_profile = available_profiles[-1]\n",
    "        profile = DatasetProfile.extract(pathsman.PROFILES_DIR / recent_profile)"
   ]
  },
  {
   "cell_type": "code",
   "execution_count": 17,
   "metadata": {},
   "outputs": [],
   "source": [
    "def get_mae(target, prediction):\n",
    "    return mean_absolute_error(target, prediction)\n",
    "\n",
    "def get_eac(target, prediction):\n",
    "    num = np.sum(np.abs(prediction-target))\n",
    "    den = (np.sum(target))\n",
    "    eac = 1 - (num/den)/2\n",
    "    return np.where(eac<0, 0, eac)\n",
    "\n",
    "def get_relative_error(target, prediction):\n",
    "    return np.mean(np.nan_to_num(np.abs(target - prediction) / np.maximum(target, prediction)))\n",
    "\n",
    "\n",
    "def get_nde(target, prediction):\n",
    "    return np.sum((target - prediction) ** 2) / np.sum((target ** 2))\n",
    "\n",
    "def compute_regress_metrics(target, prediction):\n",
    "    eac = get_eac(target, prediction)\n",
    "    mae = get_mae(target, prediction)\n",
    "    nade = get_nde(target, prediction)\n",
    "    \n",
    "   \n",
    "    metrics = OrderedDict([('EAC', eac),\n",
    "                        ('MAE', mae),\n",
    "                        ('NDE', nade)])\n",
    "    \n",
    "    metrics_dict = {}\n",
    "    metrics_dict['EAC'] = metrics[\"EAC\"]\n",
    "    metrics_dict['MAE'] = metrics[\"MAE\"]\n",
    "    metrics_dict['NDE'] = metrics[\"NDE\"]\n",
    "    \n",
    "    return metrics_dict\n",
    "\n",
    "appliances=['fridge', 'washer dryer','kettle', 'dish washer', 'microwave'] "
   ]
  },
  {
   "cell_type": "code",
   "execution_count": 18,
   "metadata": {},
   "outputs": [],
   "source": [
    "result_unet = np.load(\"../results/results.npy\", allow_pickle=True).item()"
   ]
  },
  {
   "cell_type": "code",
   "execution_count": 19,
   "metadata": {},
   "outputs": [],
   "source": [
    "pred_power=result_unet['pred_power']\n",
    "pred_state=result_unet['pred_state']\n",
    "power=result_unet['power']\n",
    "state=result_unet['state']"
   ]
  },
  {
   "cell_type": "code",
   "execution_count": 20,
   "metadata": {},
   "outputs": [],
   "source": [
    "def smape_score(target, prediction):\n",
    "    denom = np.abs(prediction) + np.abs(target) \n",
    "    score =(2 * np.abs(prediction - target).mean(0))/(denom.mean(0) + 1e-8)\n",
    "    return score  "
   ]
  },
  {
   "cell_type": "code",
   "execution_count": 21,
   "metadata": {},
   "outputs": [
    {
     "data": {
      "text/plain": [
       "array([1.13532768e-01, 2.04142696e+02, 3.16977960e+02, 1.46878024e-01,\n",
       "       1.38148647e+03])"
      ]
     },
     "execution_count": 21,
     "metadata": {},
     "output_type": "execute_result"
    }
   ],
   "source": [
    "y_t = power \n",
    "y_p =  pred_power[:,2,:]\n",
    "def get_CEP(y_t, y_p):\n",
    "    c = np.sum((y_t == y_p).astype(int)*y_p, 0)\n",
    "    ce = np.sum((y_t > y_p).astype(int)*y_t, 0)\n",
    "    co = np.sum((y_t < y_p).astype(int)*y_p, 0)\n",
    "    gt = np.sum(y_t, 0)\n",
    "    CEP = (c + ce + co)[gt!=0]/(gt[gt!=0])\n",
    "    CEP[gt==0]=1.0\n",
    "    return CEP\n",
    "gt = np.sum(y_t, 0)\n",
    "O = np.sum( (y_p - y_t), 0)\n",
    "U = np.sum( (y_t - y_p), 0)\n",
    "\n",
    "OE = O[gt!=0]/(gt[gt!=0])\n",
    "OE"
   ]
  },
  {
   "cell_type": "code",
   "execution_count": 22,
   "metadata": {},
   "outputs": [
    {
     "data": {
      "text/plain": [
       "array([2.87147654e+08, 6.92929575e+06, 3.39043011e+06, 1.92090016e+06,\n",
       "       8.41300353e+06])"
      ]
     },
     "execution_count": 22,
     "metadata": {},
     "output_type": "execute_result"
    }
   ],
   "source": [
    "smape_score(power, pred_power[:,2,:])"
   ]
  },
  {
   "cell_type": "code",
   "execution_count": 23,
   "metadata": {},
   "outputs": [],
   "source": [
    "appliance_data = profile.metadata"
   ]
  },
  {
   "cell_type": "code",
   "execution_count": 24,
   "metadata": {},
   "outputs": [
    {
     "name": "stdout",
     "output_type": "stream",
     "text": [
      "APP fridge freezer\n",
      "      mean    std\n",
      "EAC  0.370  0.250\n",
      "MAE  8.606  5.271\n",
      "NDE  1.997  2.078\n",
      "\n",
      "APP washer dryer\n",
      "        mean      std\n",
      "EAC    0.357    0.254\n",
      "MAE  576.279  437.458\n",
      "NDE    1.934    2.061\n",
      "\n",
      "APP kettle\n",
      "        mean  std\n",
      "EAC    0.500  0.0\n",
      "MAE  225.246  0.0\n",
      "NDE    1.000  0.0\n",
      "\n",
      "APP dish washer\n",
      "        mean      std\n",
      "EAC    0.549    0.123\n",
      "MAE  606.468  164.819\n",
      "NDE    0.823    0.363\n",
      "\n",
      "APP microwave\n",
      "       mean  std\n",
      "EAC   0.500  0.0\n",
      "MAE  51.688  0.0\n",
      "NDE   1.000  0.0\n",
      "\n",
      "\n"
     ]
    }
   ],
   "source": [
    "pred_power=result_unet['pred_power']\n",
    "pred_state=result_unet['pred_state']\n",
    "power=result_unet['power']\n",
    "state=result_unet['state']\n",
    "all_reg_results_mean = []\n",
    "all_reg_results_std = []\n",
    "regress = {}\n",
    "for idx, app in enumerate(list(appliance_data.keys())):\n",
    "    regress_results = []\n",
    "    for  q in range(5):\n",
    "        result = compute_regress_metrics(power[:,idx]*state[:,idx], pred_power[:,q,idx]*pred_state[:,idx])\n",
    "        result = pd.DataFrame.from_dict(result, orient=\"index\")\n",
    "        regress_results.append(result)\n",
    "    regress_results = pd.concat(regress_results, axis=1)\n",
    "    #regress_results.columns = list(appliance_data.keys())\n",
    "    #regress[app]=regress_results\n",
    "    print(\"APP\", app)\n",
    "    mean = regress_results.mean(1).round(3)\n",
    "    std  = regress_results.std(1).round(3)\n",
    "    reg=pd.concat([mean, std], axis=1)\n",
    "    reg.columns =[\"mean\", 'std']\n",
    "    all_reg_results_mean.append( mean)\n",
    "    all_reg_results_std.append(std)\n",
    "    print(reg)\n",
    "    print(\"\")\n",
    "#ebf1 = {\"ExbF1\":example_f1_score(state, pred_state, axis=0, per_sample=True).tolist()}\n",
    "#ebf1 =pd.DataFrame.from_dict(ebf1, orient=\"index\")\n",
    "#ebf1.columns = list(appliance_data.keys())\n",
    "print(\"\")\n",
    "#print(ebf1.round(3))\n",
    "\n",
    "\n",
    "#print(pd.DataFrame.from_dict(compute_metrics(state, pred_state), orient=\"index\"))"
   ]
  }
 ],
 "metadata": {
  "kernelspec": {
   "display_name": "venv",
   "language": "python",
   "name": "python3"
  },
  "language_info": {
   "codemirror_mode": {
    "name": "ipython",
    "version": 3
   },
   "file_extension": ".py",
   "mimetype": "text/x-python",
   "name": "python",
   "nbconvert_exporter": "python",
   "pygments_lexer": "ipython3",
   "version": "3.8.10"
  },
  "orig_nbformat": 4
 },
 "nbformat": 4,
 "nbformat_minor": 2
}
