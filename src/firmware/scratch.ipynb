{
 "cells": [
  {
   "cell_type": "code",
   "execution_count": 19,
   "metadata": {},
   "outputs": [],
   "source": [
    "import csv\n",
    "import numpy as np\n",
    "import serial\n",
    "\n",
    "f = open(\"./test2.csv\", 'w', newline='')\n",
    "\n",
    "writer = csv.writer(f)\n",
    "\n",
    "for _ in range(1000):\n",
    "    x = np.random.randint(0, 255, 1)\n",
    "\n",
    "    for i in x:\n",
    "        writer.writerow([i])"
   ]
  },
  {
   "cell_type": "code",
   "execution_count": 6,
   "metadata": {},
   "outputs": [
    {
     "data": {
      "text/plain": [
       "['8,5,8,6,0,9,3,9,2,2,3,3,4,8,8,2,1,9,2,8,1,8,6,9,1,7,6,7,3,1,6,9,4,3,0,5,2,3,1,4,1,6,1,5,4,9,4,7,6,0,2,2,3,2,2,1,2,1,6,6,9,7,2,1,9,7,5,5,7,9,7,7,9,2,1,3,0,1,7,6,5,0,3,6,8,4,6,4,6,8,9,9,1,7,3,5,8,3,3,3,',\n",
       " '6,9,2,7,3,3,4,9,7,0,7,4,6,1,9,4,2,1,7,8,8,7,6,9,1,9,4,0,9,9,6,6,5,1,4,3,9,6,2,9,9,4,3,1,5,5,0,2,8,6,1,7,9,5,5,1,9,8,6,8,5,2,5,9,8,0,0,3,1,4,4,2,8,5,6,1,0,5,8,8,6,8,0,2,5,5,7,0,1,7,8,8,4,3,4,1,7,0,2,3,']"
      ]
     },
     "execution_count": 6,
     "metadata": {},
     "output_type": "execute_result"
    }
   ],
   "source": [
    "raw_data = []\n",
    "data_bytes = []\n",
    "with open(\"./test.csv\", 'r') as f:\n",
    "    csv_reader = csv.reader(f)\n",
    "\n",
    "    for i in csv_reader:\n",
    "        raw_data.append(list(i))\n",
    "        data_bytes.append(\"\".join(str(j) + \",\" for j in i))\n",
    "\n",
    "data_bytes\n"
   ]
  }
 ],
 "metadata": {
  "kernelspec": {
   "display_name": "Python 3",
   "language": "python",
   "name": "python3"
  },
  "language_info": {
   "codemirror_mode": {
    "name": "ipython",
    "version": 3
   },
   "file_extension": ".py",
   "mimetype": "text/x-python",
   "name": "python",
   "nbconvert_exporter": "python",
   "pygments_lexer": "ipython3",
   "version": "3.11.4"
  }
 },
 "nbformat": 4,
 "nbformat_minor": 2
}
